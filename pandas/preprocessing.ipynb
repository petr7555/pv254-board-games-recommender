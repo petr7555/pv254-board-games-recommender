{
 "cells": [
  {
   "cell_type": "code",
   "execution_count": 2,
   "id": "55d93103",
   "metadata": {},
   "outputs": [],
   "source": [
    "import pandas as pd\n",
    "\n",
    "user_ratings = pd.read_csv( '.\\\\user_ratings.csv',)\n",
    "user_ratings['Username'] = user_ratings['Username'].astype('str')\n",
    "user_ratings.sort_values(by=['Username'])\n",
    "\n",
    "#remove duplicate ratings of a game by same user - keep latest occurence\n",
    "user_ratings.drop_duplicates(subset=['Username', 'BGGId'], keep='last', inplace=True)"
   ]
  },
  {
   "cell_type": "code",
   "execution_count": 3,
   "id": "f1a8b6f2",
   "metadata": {},
   "outputs": [
    {
     "name": "stdout",
     "output_type": "stream",
     "text": [
      "Number of users that rated less than 10 games: 186817\n",
      "Number of ratings before filtering these values: 18909528\n",
      "Number of ratings after filtering: 18340336\n",
      "Ratings deleted: 569192\n",
      "Number of games with less than 10 ratings: 6\n",
      "Number of ratings before filtering these values: 18340336\n",
      "Number of ratings after filtering: 18340293\n",
      "Ratings deleted: 43\n"
     ]
    }
   ],
   "source": [
    "#inspect the low occurence of user ratings\n",
    "\n",
    "threshold = 10\n",
    "\n",
    "value_counts = user_ratings['Username'].value_counts()\n",
    "print('Number of users that rated less than 10 games:', len(value_counts[value_counts < threshold]))\n",
    "print('Number of ratings before filtering these values:', len(user_ratings))\n",
    "\n",
    "#filter these values away\n",
    "filtered = user_ratings[user_ratings['Username'].isin(value_counts.index[value_counts >= threshold])]\n",
    "print('Number of ratings after filtering:', len(filtered))\n",
    "print('Ratings deleted:', len(user_ratings) - len(filtered))\n",
    "\n",
    "\n",
    "#inspect the low occurence of game ratings\n",
    "\n",
    "value_counts = filtered['BGGId'].value_counts()\n",
    "print('Number of games with less than 10 ratings:', len(value_counts[value_counts < threshold]))\n",
    "print('Number of ratings before filtering these values:', len(filtered))\n",
    "\n",
    "#filter these values away\n",
    "filtered2 = filtered[filtered['BGGId'].isin(value_counts.index[value_counts >= threshold])]\n",
    "print('Number of ratings after filtering:', len(filtered2))\n",
    "print('Ratings deleted:', len(filtered) - len(filtered2))"
   ]
  },
  {
   "cell_type": "code",
   "execution_count": 4,
   "id": "3facf55c",
   "metadata": {},
   "outputs": [
    {
     "name": "stdout",
     "output_type": "stream",
     "text": [
      "Number of users that rated less than 10 games: 1\n",
      "Number of ratings before filtering these values: 18340293\n",
      "Number of ratings after filtering: 18340284\n",
      "Entries deleted: 9\n",
      "Number of games with less than 10 ratings: 0\n",
      "Number of ratings before filtering these values: 18340336\n",
      "Number of ratings after filtering: 18340284\n",
      "Entries deleted: 0\n"
     ]
    }
   ],
   "source": [
    "#check again - some deletions may have lowered occurrences\n",
    "\n",
    "value_counts = filtered2['Username'].value_counts()\n",
    "print('Number of users that rated less than 10 games:', len(value_counts[value_counts < threshold]))\n",
    "print('Number of ratings before filtering these values:', len(filtered2))\n",
    "\n",
    "#filter these values away\n",
    "filtered3 = filtered2[filtered2['Username'].isin(value_counts.index[value_counts >= threshold])]\n",
    "print('Number of ratings after filtering:', len(filtered3))\n",
    "print('Entries deleted:', len(filtered2) - len(filtered3))\n",
    "\n",
    "\n",
    "#check again - some deletions may have lowered occurrences\n",
    "\n",
    "value_counts = filtered3['BGGId'].value_counts()\n",
    "print('Number of games with less than 10 ratings:', len(value_counts[value_counts < threshold]))\n",
    "print('Number of ratings before filtering these values:', len(filtered))\n",
    "\n",
    "#filter these values away\n",
    "filtered4 = filtered3[filtered3['BGGId'].isin(value_counts.index[value_counts >= threshold])]\n",
    "print('Number of ratings after filtering:', len(filtered4))\n",
    "print('Entries deleted:', len(filtered3) - len(filtered4))"
   ]
  },
  {
   "cell_type": "code",
   "execution_count": 5,
   "id": "d72e5a85",
   "metadata": {},
   "outputs": [],
   "source": [
    "#save the result - preprocessing complete\n",
    "\n",
    "#filtered4.to_csv('.\\\\user_ratings_cleaned.csv', index=False)"
   ]
  },
  {
   "cell_type": "code",
   "execution_count": 7,
   "id": "fa9cd6ad",
   "metadata": {},
   "outputs": [
    {
     "name": "stdout",
     "output_type": "stream",
     "text": [
      "Number of games before filtering: 411375\n",
      "Number of games before filtering: 224557\n"
     ]
    }
   ],
   "source": [
    "#filter deleted games away from all others files of dataset\n",
    "\n",
    "print('Number of games before filtering:', user_ratings['Username'].nunique())\n",
    "print('Number of games before filtering:', filtered4['Username'].nunique())\n",
    "\n"
   ]
  },
  {
   "cell_type": "code",
   "execution_count": 25,
   "id": "0f697434",
   "metadata": {},
   "outputs": [
    {
     "name": "stdout",
     "output_type": "stream",
     "text": [
      "Entries deleted: 6\n"
     ]
    }
   ],
   "source": [
    "artists = pd.read_csv( '.\\\\themes.csv',)\n",
    "orig_len = len(artists)\n",
    "cond = artists['BGGId'].isin(filtered4['BGGId'])\n",
    "cond = [not item for item in cond]\n",
    "artists.drop(artists[cond].index, inplace = True)\n",
    "print('Entries deleted:', orig_len - len(artists))\n",
    "artists.to_csv('.\\\\themes_cleaned.csv', index=False)"
   ]
  },
  {
   "cell_type": "code",
   "execution_count": null,
   "id": "94bd58c9",
   "metadata": {},
   "outputs": [],
   "source": []
  }
 ],
 "metadata": {
  "kernelspec": {
   "display_name": "Python 3 (ipykernel)",
   "language": "python",
   "name": "python3"
  },
  "language_info": {
   "codemirror_mode": {
    "name": "ipython",
    "version": 3
   },
   "file_extension": ".py",
   "mimetype": "text/x-python",
   "name": "python",
   "nbconvert_exporter": "python",
   "pygments_lexer": "ipython3",
   "version": "3.9.13"
  }
 },
 "nbformat": 4,
 "nbformat_minor": 5
}
