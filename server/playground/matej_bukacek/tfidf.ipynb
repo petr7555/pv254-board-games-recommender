{
 "cells": [
  {
   "cell_type": "code",
   "execution_count": 1,
   "metadata": {},
   "outputs": [],
   "source": [
    "import pandas as pd\n",
    "import numpy as np\n",
    "from sklearn.feature_extraction.text import TfidfVectorizer\n",
    "from sklearn.metrics.pairwise import cosine_similarity"
   ]
  },
  {
   "attachments": {},
   "cell_type": "markdown",
   "metadata": {},
   "source": [
    "## Get data"
   ]
  },
  {
   "cell_type": "code",
   "execution_count": 2,
   "metadata": {},
   "outputs": [],
   "source": [
    "# prepare data (can add or remove some columns)\n",
    "# cleaned_data_dir = relative_path_from_file(__file__, \"../../data\")\n",
    "cleaned_data_dir = '../../data/'\n",
    "games = pd.read_csv(f'{cleaned_data_dir}/games_cleaned.csv')\n",
    "mechanics = pd.read_csv(f'{cleaned_data_dir}/mechanics_cleaned.csv')\n",
    "subcategories = pd.read_csv(f'{cleaned_data_dir}/subcategories_cleaned.csv')\n",
    "themes = pd.read_csv(f'{cleaned_data_dir}/themes_cleaned.csv')\n",
    "# print(games.dtypes)\n",
    "\n",
    "games.set_index(\"BGGId\", inplace=True)\n",
    "\n",
    "games = games.drop(columns=['NumOwned', 'NumWant', 'NumWish', 'NumWeightVotes', 'StdDev', 'BayesAvgRating', 'GoodPlayers', 'ImagePath', 'NumUserRatings', 'NumComments', 'NumAlternates', 'NumExpansions', 'NumImplementations', 'IsReimplementation', 'NumImplementations', 'Family'])\n",
    "games = games.drop(games.select_dtypes(include=['float']).columns, axis=1)\n",
    "games = games[games.columns.drop(list(games.filter(regex='Rank')))]\n",
    "# Drop all columns containing floats\n",
    "\n",
    "string_dict = {}\n",
    "for idx, row in games.loc[:, ~games.columns.isin(['BGGId'])].iterrows():\n",
    "  string_dict[idx] = str(row[\"Description\"]).lower()\n",
    "  temp = ['_'.join(column_name.split()) + '_' + str(value) for column_name, value in row.items() if value != 0 and column_name!=\"Description\"]\n",
    "  string = ' ' + ' '.join(temp) + ' '\n",
    "  string_dict[idx] += string\n",
    "\n",
    "for table in [mechanics, subcategories, themes]:\n",
    "  table.set_index(\"BGGId\", inplace=True)\n",
    "  for idx, row in table.loc[:, ~table.columns.isin(['BGGId'])].iterrows():\n",
    "      # Create a list of column names where the corresponding value is 1\n",
    "      columns_with_ones = ['_'.join(column_name.split()) for column_name, value in row.items() if value == 1]\n",
    "      \n",
    "      # Combine the column names into a string, with the format \"Column1, Column3\"\n",
    "      string = ' '.join(columns_with_ones) + ' '\n",
    "      \n",
    "      # Add the string to the list\n",
    "      string_dict[idx] += str(string)\n",
    "\n",
    "# remove possible multiple whitespaces\n",
    "for idx in string_dict.keys():\n",
    "    string_dict[idx] = ' '.join(string_dict[idx].split())\n",
    "\n",
    "games = pd.read_csv(f'{cleaned_data_dir}/games_cleaned.csv')\n",
    "# return games, string_dict"
   ]
  },
  {
   "attachments": {},
   "cell_type": "markdown",
   "metadata": {},
   "source": [
    "## Compute TFidf"
   ]
  },
  {
   "cell_type": "code",
   "execution_count": 3,
   "metadata": {},
   "outputs": [],
   "source": [
    "# just to be safe sort it by id\n",
    "strings = [value for (id, value) in sorted(string_dict.items(), key=lambda x: x[0])]\n",
    "tfidf_matrix = TfidfVectorizer().fit_transform(strings)\n",
    "# return "
   ]
  },
  {
   "attachments": {},
   "cell_type": "markdown",
   "metadata": {},
   "source": [
    "## Compute Similarity Matrix"
   ]
  },
  {
   "cell_type": "code",
   "execution_count": 4,
   "metadata": {},
   "outputs": [
    {
     "ename": "",
     "evalue": "",
     "output_type": "error",
     "traceback": [
      "\u001b[1;31mCanceled future for execute_request message before replies were done"
     ]
    },
    {
     "ename": "",
     "evalue": "",
     "output_type": "error",
     "traceback": [
      "\u001b[1;31mThe Kernel crashed while executing code in the the current cell or a previous cell. Please review the code in the cell(s) to identify a possible cause of the failure. Click <a href='https://aka.ms/vscodeJupyterKernelCrash'>here</a> for more info. View Jupyter <a href='command:jupyter.viewOutput'>log</a> for further details."
     ]
    }
   ],
   "source": [
    "similarity_scores = x = cosine_similarity(tfidf_matrix).astype(np.float32)"
   ]
  },
  {
   "cell_type": "code",
   "execution_count": null,
   "metadata": {},
   "outputs": [
    {
     "name": "stdout",
     "output_type": "stream",
     "text": [
      "(21919, 21919)\n"
     ]
    }
   ],
   "source": [
    "print(similarity_scores.shape)"
   ]
  },
  {
   "cell_type": "code",
   "execution_count": null,
   "metadata": {},
   "outputs": [],
   "source": [
    "np.save(\"../../app/db/similarity_matrix\", similarity_scores)"
   ]
  }
 ],
 "metadata": {
  "kernelspec": {
   "display_name": "venv",
   "language": "python",
   "name": "python3"
  },
  "language_info": {
   "codemirror_mode": {
    "name": "ipython",
    "version": 3
   },
   "file_extension": ".py",
   "mimetype": "text/x-python",
   "name": "python",
   "nbconvert_exporter": "python",
   "pygments_lexer": "ipython3",
   "version": "3.9.5"
  },
  "orig_nbformat": 4
 },
 "nbformat": 4,
 "nbformat_minor": 2
}
