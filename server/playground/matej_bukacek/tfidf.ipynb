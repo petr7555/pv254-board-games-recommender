{
 "cells": [
  {
   "cell_type": "code",
   "execution_count": null,
   "metadata": {},
   "outputs": [],
   "source": [
    "from sklearn.feature_extraction.text import TfidfVectorizer\n",
    "from sklearn.preprocessing import MinMaxScaler\n",
    "from sklearn.metrics.pairwise import cosine_similarity\n",
    "import scipy.sparse as sp\n",
    "import pandas as pd\n",
    "import numpy as np"
   ]
  },
  {
   "attachments": {},
   "cell_type": "markdown",
   "metadata": {},
   "source": [
    "### Prepare data\n",
    "choose which columns to use"
   ]
  },
  {
   "cell_type": "code",
   "execution_count": null,
   "metadata": {},
   "outputs": [],
   "source": [
    "# prepare data (can add or remove some columns)\n",
    "cleaned_data_dir = \"../../data\"\n",
    "games = pd.read_csv(f'{cleaned_data_dir}/games_cleaned.csv')\n",
    "mechanics = pd.read_csv(f'{cleaned_data_dir}/mechanics_cleaned.csv')\n",
    "subcategories = pd.read_csv(f'{cleaned_data_dir}/subcategories_cleaned.csv')\n",
    "themes = pd.read_csv(f'{cleaned_data_dir}/themes_cleaned.csv')\n",
    "# print(games.dtypes)\n",
    "\n",
    "df_conc = pd.merge(games, mechanics, on='BGGId')\n",
    "df_conc = pd.merge(df_conc, subcategories, on='BGGId')\n",
    "df_conc = pd.merge(df_conc, themes, on='BGGId')\n",
    "\n",
    "df_conc.sort_values(by='BGGId')\n",
    "df = df_conc.drop(columns=['BGGId', 'Description', 'Name', 'GoodPlayers', 'ImagePath', 'NumUserRatings', 'NumComments', 'NumAlternates', 'NumExpansions', 'NumImplementations', 'IsReimplementation', 'NumImplementations', 'Family'])\n",
    "\n",
    "df = df[df.columns.drop(list(df.filter(regex='Rank')))]\n",
    "\n"
   ]
  },
  {
   "attachments": {},
   "cell_type": "markdown",
   "metadata": {},
   "source": [
    "### Prepare tf-idf matrix\n",
    "\n",
    "matrix does not need to be computed every time, can be saved, because we have static dataset (no new games will appear)"
   ]
  },
  {
   "cell_type": "code",
   "execution_count": null,
   "metadata": {},
   "outputs": [],
   "source": [
    "def compute_tfidf_matrix(df):\n",
    "    \"\"\"\n",
    "    in 'df' should be dataframe with chosen columns, returns matrix which will be used for computing cosine similarity\n",
    "    \"\"\"\n",
    "    # define a dictionary that maps each data type to a preprocessing function\n",
    "    preprocess_fn = {\n",
    "        'float64': lambda x: MinMaxScaler().fit_transform(x.fillna(0).values.reshape(-1,1)),\n",
    "        'int64': lambda x:   MinMaxScaler().fit_transform(x.fillna(0).values.reshape(-1,1)),  # dataset has binary flags saved as ints, so i would not be able to distinguish them from values like number of players\n",
    "        'object': lambda x:  TfidfVectorizer().fit_transform(x.fillna(''))\n",
    "    }\n",
    "\n",
    "    tfidf_matrix_list = []\n",
    "    # preprocess data using the corresponding preprocessing function\n",
    "    for name, col in df.select_dtypes(include=['float', 'int', 'object']).items():\n",
    "        data = preprocess_fn[str(col.dtypes)](col)\n",
    "        if data.ndim != 2:\n",
    "            raise ValueError(\"Data is not a 2D array\")\n",
    "        if type(data) != np.ndarray:\n",
    "            print(type(data))\n",
    "        tfidf_matrix_list.append(pd.Series(data.flatten()))\n",
    "\n",
    "    # combine the dataframes using pd.concat()\n",
    "    # temp = pd.concat(tfidf_matrix_list, axis=1)\n",
    "    temp = np.stack(tfidf_matrix_list, axis=-1)\n",
    "    print(temp.shape)\n",
    "    tfidf_matrix = pd.DataFrame(temp)\n",
    "\n",
    "    return tfidf_matrix"
   ]
  },
  {
   "cell_type": "code",
   "execution_count": null,
   "metadata": {},
   "outputs": [],
   "source": [
    "\n",
    "tfidf_matrix = compute_tfidf_matrix(df)"
   ]
  },
  {
   "cell_type": "code",
   "execution_count": null,
   "metadata": {},
   "outputs": [],
   "source": [
    "# i was not able to find out how it shuffles with indexes when used like this\n",
    "\"\"\"\n",
    "from sklearn.metrics.pairwise import cosine_similarity\n",
    "import numpy as np\n",
    "\n",
    "game_ids = [68, 99, 51, 24]\n",
    "ratings = [10,10,10,10]\n",
    "\n",
    "user_rated_games_indexes = df_conc[df_conc['BGGId'].isin(game_ids)].index\n",
    "\n",
    "user_rated = tfidf_matrix.loc[user_rated_games_indexes]\n",
    "rest_of_matrix = tfidf_matrix.drop(user_rated_games_indexes)\n",
    "\n",
    "print(user_rated.shape)\n",
    "print(rest_of_matrix.shape)\n",
    "\n",
    "# compute the cosine similarity between rated items and all the other items\n",
    "\n",
    "similarity_scores = cosine_similarity(user_rated, tfidf_matrix)\n",
    "\n",
    "similarity_scores *= 0.1 * np.array(ratings).reshape(len(ratings), -1)  # weight scores based on user rating\n",
    "\n",
    "print(similarity_scores.shape)\n",
    "\n",
    "for j, id in enumerate(game_ids):\n",
    "    similarity_scores_r = similarity_scores[j]  # extract the 1D array of similarity scores\n",
    "\n",
    "    # sort the similarity scores in descending order and get the indices of the top k most similar items\n",
    "    k = 5  # for example, get the top 5 most similar items\n",
    "\n",
    "    most_similar_indices = np.argsort(-similarity_scores_r)[:k]\n",
    "\n",
    "    # print the indices and similarity scores of the top k most similar items\n",
    "    print(f\"Top {k} most similar items to item {id}:\")\n",
    "    for i in most_similar_indices:\n",
    "        print(f\"Item {i+1}: similarity score = {similarity_scores_r[i]}\")\n",
    "\"\"\""
   ]
  },
  {
   "attachments": {},
   "cell_type": "markdown",
   "metadata": {},
   "source": [
    "### Cosine Similarity\n",
    "gets similarity score ..the way it is done the similarity matrix can be saved and not computed every time (after the used parameters are decided, it can be done)"
   ]
  },
  {
   "cell_type": "code",
   "execution_count": 83,
   "metadata": {},
   "outputs": [
    {
     "name": "stdout",
     "output_type": "stream",
     "text": [
      "(21919, 21919)\n",
      "Top 5 most similar items to item 1:\n",
      "Item 1: similarity score = 1.0\n",
      "Item 407: similarity score = 0.7625212549886751\n",
      "Item 696: similarity score = 0.737467801281255\n",
      "Item 14909: similarity score = 0.7357843977615296\n",
      "Item 856: similarity score = 0.732005111299106\n",
      "(21919, 21919)\n",
      "Top 5 most similar items to item 99:\n",
      "Item 99: similarity score = 0.9999999999999998\n",
      "Item 13870: similarity score = 0.928961450265995\n",
      "Item 4734: similarity score = 0.8375013650414386\n",
      "Item 2219: similarity score = 0.8371823934687246\n",
      "Item 1400: similarity score = 0.8354986966341327\n",
      "(21919, 21919)\n",
      "Top 5 most similar items to item 44:\n",
      "Item 44: similarity score = 1.0\n",
      "Item 5980: similarity score = 0.7028944746635464\n",
      "Item 7292: similarity score = 0.6967560093246704\n",
      "Item 16756: similarity score = 0.687298798594787\n",
      "Item 11747: similarity score = 0.6847875423149876\n",
      "(21919, 21919)\n",
      "Top 5 most similar items to item 24:\n",
      "Item 24: similarity score = 0.9999999999999998\n",
      "Item 7465: similarity score = 0.9386661273770147\n",
      "Item 5504: similarity score = 0.7895825192354268\n",
      "Item 7609: similarity score = 0.7816013938740252\n",
      "Item 17526: similarity score = 0.7400873243689666\n"
     ]
    }
   ],
   "source": [
    "similarity_scores = cosine_similarity(tfidf_matrix)\n",
    "\n",
    "game_ids = [1, 99, 44, 24]\n",
    "ratings = [10,10,10,10]\n",
    "\n",
    "for idx, id in enumerate(game_ids):\n",
    "  user_rated_games_indexes = df_conc[df_conc['BGGId'].isin([id])].index\n",
    "\n",
    "  user_rated = tfidf_matrix.loc[user_rated_games_indexes]\n",
    "\n",
    "  print(similarity_scores.shape)\n",
    "\n",
    "  # -1 because BGGId start at 1, not at zero\n",
    "  similarity_scores_r = similarity_scores[id-1] * 0.1 * ratings[idx] # extract the 1D array of similarity scores and weight it based on user's rating\n",
    "\n",
    "  # sort the similarity scores in descending order and get the indices of the top k most similar items\n",
    "  k = 5  # for example, get the top 5 most similar items\n",
    "\n",
    "  most_similar_indices = np.argsort(-similarity_scores_r)[:k]\n",
    "\n",
    "  # print the indices and similarity scores of the top k most similar items\n",
    "  print(f\"Top {k} most similar items to item {id}:\")\n",
    "  for i in most_similar_indices:\n",
    "      print(f\"Item {i+1}: similarity score = {similarity_scores_r[i]}\")\n",
    "\n",
    "# instead of printing them just store them as tuples bggid:score (in case of duplicity take highest)"
   ]
  },
  {
   "cell_type": "code",
   "execution_count": null,
   "metadata": {},
   "outputs": [],
   "source": [
    "\n",
    "\n"
   ]
  }
 ],
 "metadata": {
  "kernelspec": {
   "display_name": "Python 3",
   "language": "python",
   "name": "python3"
  },
  "language_info": {
   "codemirror_mode": {
    "name": "ipython",
    "version": 3
   },
   "file_extension": ".py",
   "mimetype": "text/x-python",
   "name": "python",
   "nbconvert_exporter": "python",
   "pygments_lexer": "ipython3",
   "version": "3.8.10"
  },
  "orig_nbformat": 4
 },
 "nbformat": 4,
 "nbformat_minor": 2
}
