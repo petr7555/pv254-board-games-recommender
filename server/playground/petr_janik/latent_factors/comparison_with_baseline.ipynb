{
 "cells": [
  {
   "cell_type": "code",
   "execution_count": 1,
   "outputs": [],
   "source": [
    "import numpy as np\n",
    "import pandas as pd\n",
    "from sklearn.metrics import mean_squared_error"
   ],
   "metadata": {
    "collapsed": false,
    "ExecuteTime": {
     "end_time": "2023-06-04T19:33:37.229865Z",
     "start_time": "2023-06-04T19:33:34.535728Z"
    }
   }
  },
  {
   "cell_type": "code",
   "execution_count": 2,
   "outputs": [
    {
     "name": "stdout",
     "output_type": "stream",
     "text": [
      "(224556, 3)\n",
      "(21919, 3)\n",
      "(18340221, 3)\n"
     ]
    }
   ],
   "source": [
    "p = pd.read_pickle(f\"../../../app/db/users_factors.pkl\")\n",
    "q = pd.read_pickle(f\"../../../app/db/items_factors.pkl\")\n",
    "user_ratings = pd.read_csv(\"../../../data/cleaned/user_ratings.csv\")\n",
    "print(p.shape)\n",
    "print(q.shape)\n",
    "print(user_ratings.shape)"
   ],
   "metadata": {
    "collapsed": false,
    "ExecuteTime": {
     "end_time": "2023-06-04T19:33:46.439050Z",
     "start_time": "2023-06-04T19:33:37.234942Z"
    }
   }
  },
  {
   "cell_type": "code",
   "execution_count": 3,
   "outputs": [],
   "source": [
    "def rmse(actual: np.ndarray, predicted: np.ndarray) -> float:\n",
    "    return mean_squared_error(actual, predicted, squared=False)"
   ],
   "metadata": {
    "collapsed": false,
    "ExecuteTime": {
     "end_time": "2023-06-04T19:33:46.445328Z",
     "start_time": "2023-06-04T19:33:46.442453Z"
    }
   }
  },
  {
   "cell_type": "code",
   "execution_count": 4,
   "outputs": [
    {
     "name": "stdout",
     "output_type": "stream",
     "text": [
      "(18340221, 3)\n"
     ]
    }
   ],
   "source": [
    "user_ratings = user_ratings[user_ratings[\"Username\"].isin(p.index)]\n",
    "user_ratings = user_ratings[user_ratings[\"BGGId\"].isin(q.index)]\n",
    "print(user_ratings.shape)"
   ],
   "metadata": {
    "collapsed": false,
    "ExecuteTime": {
     "end_time": "2023-06-04T19:33:54.178552Z",
     "start_time": "2023-06-04T19:33:51.660444Z"
    }
   }
  },
  {
   "cell_type": "code",
   "execution_count": 5,
   "outputs": [],
   "source": [
    "user_ratings[\"Latent rating\"] = np.einsum(\"ij, ij->i\", p.loc[user_ratings[\"Username\"]].values, q.loc[user_ratings[\"BGGId\"]].values)"
   ],
   "metadata": {
    "collapsed": false,
    "ExecuteTime": {
     "end_time": "2023-06-04T19:34:07.818619Z",
     "start_time": "2023-06-04T19:33:54.178788Z"
    }
   }
  },
  {
   "cell_type": "code",
   "execution_count": 6,
   "outputs": [
    {
     "data": {
      "text/plain": "     BGGId  Rating     Username  Latent rating  Global mean  User mean  \\\n0   213788     8.0    Tonydorrf       8.020448     7.095664   7.367589   \n1   213788     8.0   tachyon14k       7.355969     7.095664   6.898305   \n2   213788     8.0     Ungotter       9.865546     7.095664   7.040000   \n3   213788     8.0  brainlocki3       8.823724     7.095664   7.409091   \n4   213788     8.0         PPMP       8.125651     7.095664   7.641304   \n..     ...     ...          ...            ...          ...        ...   \n95  193500     5.0       Imscar       4.742672     7.095664   6.588174   \n96  193500     4.0       Geeken       4.125724     7.095664   5.036650   \n97  193500     4.0      prd1982       3.655050     7.095664   5.266648   \n98  193500     4.0        kalfa       4.622535     7.095664   7.212121   \n99  193500     4.0    UnwiseOwl       4.968152     7.095664   6.174180   \n\n    Game mean  User bias  Game bias  Naive rating  \n0    7.990521   0.271925   0.894857      8.262446  \n1    7.990521  -0.197359   0.894857      7.793162  \n2    7.990521  -0.055664   0.894857      7.934857  \n3    7.990521   0.313427   0.894857      8.303948  \n4    7.990521   0.545640   0.894857      8.536162  \n..        ...        ...        ...           ...  \n95   5.063886  -0.507490  -2.031778      4.556396  \n96   5.063886  -2.059014  -2.031778      3.004872  \n97   5.063886  -1.829016  -2.031778      3.234869  \n98   5.063886   0.116457  -2.031778      5.180343  \n99   5.063886  -0.921484  -2.031778      4.142402  \n\n[100 rows x 10 columns]",
      "text/html": "<div>\n<style scoped>\n    .dataframe tbody tr th:only-of-type {\n        vertical-align: middle;\n    }\n\n    .dataframe tbody tr th {\n        vertical-align: top;\n    }\n\n    .dataframe thead th {\n        text-align: right;\n    }\n</style>\n<table border=\"1\" class=\"dataframe\">\n  <thead>\n    <tr style=\"text-align: right;\">\n      <th></th>\n      <th>BGGId</th>\n      <th>Rating</th>\n      <th>Username</th>\n      <th>Latent rating</th>\n      <th>Global mean</th>\n      <th>User mean</th>\n      <th>Game mean</th>\n      <th>User bias</th>\n      <th>Game bias</th>\n      <th>Naive rating</th>\n    </tr>\n  </thead>\n  <tbody>\n    <tr>\n      <th>0</th>\n      <td>213788</td>\n      <td>8.0</td>\n      <td>Tonydorrf</td>\n      <td>8.020448</td>\n      <td>7.095664</td>\n      <td>7.367589</td>\n      <td>7.990521</td>\n      <td>0.271925</td>\n      <td>0.894857</td>\n      <td>8.262446</td>\n    </tr>\n    <tr>\n      <th>1</th>\n      <td>213788</td>\n      <td>8.0</td>\n      <td>tachyon14k</td>\n      <td>7.355969</td>\n      <td>7.095664</td>\n      <td>6.898305</td>\n      <td>7.990521</td>\n      <td>-0.197359</td>\n      <td>0.894857</td>\n      <td>7.793162</td>\n    </tr>\n    <tr>\n      <th>2</th>\n      <td>213788</td>\n      <td>8.0</td>\n      <td>Ungotter</td>\n      <td>9.865546</td>\n      <td>7.095664</td>\n      <td>7.040000</td>\n      <td>7.990521</td>\n      <td>-0.055664</td>\n      <td>0.894857</td>\n      <td>7.934857</td>\n    </tr>\n    <tr>\n      <th>3</th>\n      <td>213788</td>\n      <td>8.0</td>\n      <td>brainlocki3</td>\n      <td>8.823724</td>\n      <td>7.095664</td>\n      <td>7.409091</td>\n      <td>7.990521</td>\n      <td>0.313427</td>\n      <td>0.894857</td>\n      <td>8.303948</td>\n    </tr>\n    <tr>\n      <th>4</th>\n      <td>213788</td>\n      <td>8.0</td>\n      <td>PPMP</td>\n      <td>8.125651</td>\n      <td>7.095664</td>\n      <td>7.641304</td>\n      <td>7.990521</td>\n      <td>0.545640</td>\n      <td>0.894857</td>\n      <td>8.536162</td>\n    </tr>\n    <tr>\n      <th>...</th>\n      <td>...</td>\n      <td>...</td>\n      <td>...</td>\n      <td>...</td>\n      <td>...</td>\n      <td>...</td>\n      <td>...</td>\n      <td>...</td>\n      <td>...</td>\n      <td>...</td>\n    </tr>\n    <tr>\n      <th>95</th>\n      <td>193500</td>\n      <td>5.0</td>\n      <td>Imscar</td>\n      <td>4.742672</td>\n      <td>7.095664</td>\n      <td>6.588174</td>\n      <td>5.063886</td>\n      <td>-0.507490</td>\n      <td>-2.031778</td>\n      <td>4.556396</td>\n    </tr>\n    <tr>\n      <th>96</th>\n      <td>193500</td>\n      <td>4.0</td>\n      <td>Geeken</td>\n      <td>4.125724</td>\n      <td>7.095664</td>\n      <td>5.036650</td>\n      <td>5.063886</td>\n      <td>-2.059014</td>\n      <td>-2.031778</td>\n      <td>3.004872</td>\n    </tr>\n    <tr>\n      <th>97</th>\n      <td>193500</td>\n      <td>4.0</td>\n      <td>prd1982</td>\n      <td>3.655050</td>\n      <td>7.095664</td>\n      <td>5.266648</td>\n      <td>5.063886</td>\n      <td>-1.829016</td>\n      <td>-2.031778</td>\n      <td>3.234869</td>\n    </tr>\n    <tr>\n      <th>98</th>\n      <td>193500</td>\n      <td>4.0</td>\n      <td>kalfa</td>\n      <td>4.622535</td>\n      <td>7.095664</td>\n      <td>7.212121</td>\n      <td>5.063886</td>\n      <td>0.116457</td>\n      <td>-2.031778</td>\n      <td>5.180343</td>\n    </tr>\n    <tr>\n      <th>99</th>\n      <td>193500</td>\n      <td>4.0</td>\n      <td>UnwiseOwl</td>\n      <td>4.968152</td>\n      <td>7.095664</td>\n      <td>6.174180</td>\n      <td>5.063886</td>\n      <td>-0.921484</td>\n      <td>-2.031778</td>\n      <td>4.142402</td>\n    </tr>\n  </tbody>\n</table>\n<p>100 rows × 10 columns</p>\n</div>"
     },
     "execution_count": 6,
     "metadata": {},
     "output_type": "execute_result"
    }
   ],
   "source": [
    "user_ratings[\"Global mean\"] = user_ratings[\"Rating\"].mean()\n",
    "user_ratings[\"User mean\"] = user_ratings.groupby(\"Username\")[\"Rating\"].transform(\"mean\")\n",
    "user_ratings[\"Game mean\"] = user_ratings.groupby(\"BGGId\")[\"Rating\"].transform(\"mean\")\n",
    "user_ratings[\"User bias\"] = user_ratings[\"User mean\"] - user_ratings[\"Global mean\"]\n",
    "user_ratings[\"Game bias\"] = user_ratings[\"Game mean\"] - user_ratings[\"Global mean\"]\n",
    "user_ratings[\"Naive rating\"] = user_ratings[\"Global mean\"] + user_ratings[\"User bias\"] + user_ratings[\"Game bias\"]\n",
    "user_ratings.head(100)"
   ],
   "metadata": {
    "collapsed": false,
    "ExecuteTime": {
     "end_time": "2023-06-04T19:34:13.650514Z",
     "start_time": "2023-06-04T19:34:07.825662Z"
    }
   }
  },
  {
   "cell_type": "code",
   "execution_count": 7,
   "outputs": [
    {
     "name": "stdout",
     "output_type": "stream",
     "text": [
      "1.2978798492121542\n",
      "1.2066103932764292\n"
     ]
    }
   ],
   "source": [
    "print(rmse(user_ratings[\"Rating\"], user_ratings[\"Latent rating\"]))\n",
    "print(rmse(user_ratings[\"Rating\"], user_ratings[\"Naive rating\"]))"
   ],
   "metadata": {
    "collapsed": false,
    "ExecuteTime": {
     "end_time": "2023-06-04T19:34:13.991184Z",
     "start_time": "2023-06-04T19:34:13.652301Z"
    }
   }
  },
  {
   "cell_type": "markdown",
   "source": [
    "# Conclusion\n",
    "Latent factors model is worse than naive baseline. Maybe it would outperform it if it included (mean + user bias + item bias)."
   ],
   "metadata": {
    "collapsed": false
   }
  },
  {
   "cell_type": "code",
   "execution_count": 7,
   "outputs": [],
   "source": [],
   "metadata": {
    "collapsed": false,
    "ExecuteTime": {
     "end_time": "2023-06-04T19:34:13.995529Z",
     "start_time": "2023-06-04T19:34:13.991658Z"
    }
   }
  }
 ],
 "metadata": {
  "kernelspec": {
   "display_name": "Python 3",
   "language": "python",
   "name": "python3"
  },
  "language_info": {
   "codemirror_mode": {
    "name": "ipython",
    "version": 2
   },
   "file_extension": ".py",
   "mimetype": "text/x-python",
   "name": "python",
   "nbconvert_exporter": "python",
   "pygments_lexer": "ipython2",
   "version": "2.7.6"
  }
 },
 "nbformat": 4,
 "nbformat_minor": 0
}
