{
 "cells": [
  {
   "cell_type": "code",
   "execution_count": 1,
   "outputs": [],
   "source": [
    "import numpy as np\n",
    "import pandas as pd\n",
    "from sklearn.metrics import mean_squared_error\n",
    "from sklearn.model_selection import train_test_split"
   ],
   "metadata": {
    "collapsed": false,
    "ExecuteTime": {
     "end_time": "2023-06-05T16:04:56.740902Z",
     "start_time": "2023-06-05T16:04:55.145612Z"
    }
   }
  },
  {
   "cell_type": "code",
   "execution_count": 2,
   "outputs": [
    {
     "name": "stdout",
     "output_type": "stream",
     "text": [
      "(224556, 3)\n",
      "(21919, 3)\n",
      "(18340221, 3)\n"
     ]
    }
   ],
   "source": [
    "p = pd.read_pickle(f\"../../../app/db/users_factors.pkl\")\n",
    "q = pd.read_pickle(f\"../../../app/db/items_factors.pkl\")\n",
    "user_ratings = pd.read_csv(\"../../../data/cleaned/user_ratings.csv\")\n",
    "print(p.shape)\n",
    "print(q.shape)\n",
    "print(user_ratings.shape)"
   ],
   "metadata": {
    "collapsed": false,
    "ExecuteTime": {
     "end_time": "2023-06-05T16:05:04.833012Z",
     "start_time": "2023-06-05T16:04:56.742856Z"
    }
   }
  },
  {
   "cell_type": "code",
   "execution_count": 3,
   "outputs": [],
   "source": [
    "def train_val_test_split(\n",
    "        df: pd.DataFrame, stratify_col_name: str\n",
    ") -> tuple[pd.DataFrame, pd.DataFrame, pd.DataFrame]:\n",
    "    ratios = [0.8, 0.1, 0.1]\n",
    "    assert sum(ratios) == 1\n",
    "\n",
    "    train, val_test = train_test_split(\n",
    "        df,\n",
    "        train_size=ratios[0],\n",
    "        test_size=ratios[1] + ratios[2],\n",
    "        stratify=df[[stratify_col_name]],\n",
    "        random_state=0,\n",
    "    )\n",
    "\n",
    "    val_size = ratios[1] / (ratios[1] + ratios[2])\n",
    "    val, test = train_test_split(\n",
    "        val_test,\n",
    "        train_size=val_size,\n",
    "        test_size=1 - val_size,\n",
    "        stratify=val_test[[stratify_col_name]],\n",
    "        random_state=0,\n",
    "    )\n",
    "\n",
    "    return train, val, test\n",
    "\n",
    "def rmse(actual: np.ndarray, predicted: np.ndarray) -> float:\n",
    "    return mean_squared_error(actual, predicted, squared=False)\n",
    "\n",
    "def prints_errors(train: pd.DataFrame, test_in: pd.DataFrame) -> pd.DataFrame:\n",
    "    test = test_in.copy()\n",
    "    test = test[test[\"Username\"].isin(p.index)]\n",
    "    test = test[test[\"BGGId\"].isin(q.index)]\n",
    "    test[\"Latent rating\"] = np.einsum(\"ij, ij->i\", p.loc[test[\"Username\"]].values, q.loc[test[\"BGGId\"]].values)\n",
    "    \n",
    "    test[\"Global mean\"] = train[\"Rating\"].mean()\n",
    "\n",
    "    # Naive with biases:\n",
    "    #   user bias = user mean - global mean\n",
    "    #   game bias = game mean - global mean \n",
    "    user_means = train.groupby(\"Username\")[\"Rating\"].agg(\"mean\")\n",
    "    test = test.merge(user_means, on=\"Username\", how=\"left\").rename(columns={\"Rating_x\": \"Rating\", \"Rating_y\": \"User mean\"})\n",
    "\n",
    "    game_means = train.groupby(\"BGGId\")[\"Rating\"].agg(\"mean\")\n",
    "    test = test.merge(game_means, on=\"BGGId\", how=\"left\").rename(columns={\"Rating_x\": \"Rating\", \"Rating_y\": \"Game mean\"})\n",
    "    \n",
    "    test[\"User bias\"] = test[\"User mean\"] - test[\"Global mean\"]\n",
    "    test[\"Game bias\"] = test[\"Game mean\"] - test[\"Global mean\"]\n",
    "    test[\"Naive rating\"] = test[\"Global mean\"] + test[\"User bias\"] + test[\"Game bias\"]\n",
    "\n",
    "    # Naive with biases second option:\n",
    "    #   user bias = average difference between user rating and game mean\n",
    "    #   game bias = average difference between game rating and user mean\n",
    "    train_game_means = train.groupby(\"BGGId\")[\"Rating\"].agg(\"mean\")\n",
    "    train = train.merge(train_game_means, on=\"BGGId\", how=\"left\").rename(columns={\"Rating_x\": \"Rating\", \"Rating_y\": \"Game mean\"})\n",
    "    user_biases = train.groupby(\"Username\").apply(lambda x: (x[\"Rating\"] - x[\"Game mean\"]).mean())\n",
    "    user_biases.name = \"User bias 2\"\n",
    "    test = test.merge(user_biases, on=\"Username\", how=\"left\").rename(columns={0: \"User bias 2\"})\n",
    "\n",
    "    train_user_means = train.groupby(\"Username\")[\"Rating\"].agg(\"mean\")\n",
    "    train = train.merge(train_user_means, on=\"Username\", how=\"left\").rename(columns={\"Rating_x\": \"Rating\", \"Rating_y\": \"User mean\"})\n",
    "    game_biases = train.groupby(\"BGGId\").apply(lambda x: (x[\"Rating\"] - x[\"User mean\"]).mean())\n",
    "    game_biases.name = \"Game bias 2\"\n",
    "    test = test.merge(game_biases, on=\"BGGId\", how=\"left\").rename(columns={0: \"Game bias 2\"})\n",
    "\n",
    "    test[\"Naive rating 2\"] = test[\"Global mean\"] + test[\"User bias 2\"] + test[\"Game bias 2\"]\n",
    "        \n",
    "    for col in [\"Global mean\", \"User mean\", \"Game mean\", \"Naive rating\", \"Naive rating 2\", \"Latent rating\"]:\n",
    "        print(f\"{col} RMSE: {rmse(test['Rating'], test[col]):.3f}\")\n",
    "\n",
    "    return test"
   ],
   "metadata": {
    "collapsed": false,
    "ExecuteTime": {
     "end_time": "2023-06-05T16:05:04.874520Z",
     "start_time": "2023-06-05T16:05:04.852908Z"
    }
   }
  },
  {
   "cell_type": "code",
   "execution_count": 4,
   "outputs": [],
   "source": [
    "x_train, x_val, x_test = train_val_test_split(user_ratings, \"BGGId\")"
   ],
   "metadata": {
    "collapsed": false,
    "ExecuteTime": {
     "end_time": "2023-06-05T16:06:40.434980Z",
     "start_time": "2023-06-05T16:05:04.857962Z"
    }
   }
  },
  {
   "cell_type": "code",
   "execution_count": 5,
   "outputs": [
    {
     "name": "stdout",
     "output_type": "stream",
     "text": [
      "Global mean RMSE: 1.530\n",
      "User mean RMSE: 1.374\n",
      "Game mean RMSE: 1.316\n",
      "Naive rating RMSE: 1.226\n",
      "Naive rating 2 RMSE: 1.183\n",
      "Latent rating RMSE: 1.195\n"
     ]
    },
    {
     "data": {
      "text/plain": "     BGGId  Rating     Username  Latent rating  Global mean  User mean  \\\n0   150658     8.0   ValentineS       6.271517     7.095656   5.981395   \n1   145186     5.0   Andychives       6.632857     7.095656   7.220930   \n2       71     6.0     Hindrick       7.184106     7.095656   6.550000   \n3    15511     7.0   Moviebuffs       6.971453     7.095656   6.952899   \n4   171623     8.0     masa5963       8.023049     7.095656   7.721311   \n..     ...     ...          ...            ...          ...        ...   \n95  143741     8.0  Cyantsunami       6.810093     7.095656   7.136194   \n96     207     8.0     koen2602       6.502048     7.095656   7.036026   \n97   12205     5.0      chrisnd       4.844284     7.095656   7.114072   \n98   40628     7.5         WRMW       6.859257     7.095656   7.267857   \n99   90041     7.0    HelgeEmil       6.321582     7.095656   7.108108   \n\n    Game mean  User bias  Game bias  Naive rating  User bias 2  Game bias 2  \\\n0    7.317400  -1.114261   0.221744      6.203139    -0.983919     0.179018   \n1    6.407969   0.125274  -0.687687      6.533243     0.356351    -0.449816   \n2    7.530192  -0.545656   0.434536      6.984536    -0.892261     0.592496   \n3    6.725949  -0.142758  -0.369707      6.583191     0.275200    -0.113396   \n4    7.887216   0.625655   0.791560      8.512871    -0.043014     0.622480   \n..        ...        ...        ...           ...          ...          ...   \n95   6.974243   0.040538  -0.121413      7.014781    -0.273314    -0.220253   \n96   6.068310  -0.059630  -1.027346      6.008680     0.122149    -0.570126   \n97   4.718547   0.018416  -2.377109      4.736964     0.208934    -2.067289   \n98   7.079846   0.172201  -0.015810      7.252048     0.086607     0.131602   \n99   6.138670   0.012452  -0.956987      6.151122     0.149498    -0.702175   \n\n    Naive rating 2  \n0         6.290755  \n1         7.002191  \n2         6.795891  \n3         7.257461  \n4         7.675123  \n..             ...  \n95        6.602090  \n96        6.647679  \n97        5.237301  \n98        7.313865  \n99        6.542979  \n\n[100 rows x 13 columns]",
      "text/html": "<div>\n<style scoped>\n    .dataframe tbody tr th:only-of-type {\n        vertical-align: middle;\n    }\n\n    .dataframe tbody tr th {\n        vertical-align: top;\n    }\n\n    .dataframe thead th {\n        text-align: right;\n    }\n</style>\n<table border=\"1\" class=\"dataframe\">\n  <thead>\n    <tr style=\"text-align: right;\">\n      <th></th>\n      <th>BGGId</th>\n      <th>Rating</th>\n      <th>Username</th>\n      <th>Latent rating</th>\n      <th>Global mean</th>\n      <th>User mean</th>\n      <th>Game mean</th>\n      <th>User bias</th>\n      <th>Game bias</th>\n      <th>Naive rating</th>\n      <th>User bias 2</th>\n      <th>Game bias 2</th>\n      <th>Naive rating 2</th>\n    </tr>\n  </thead>\n  <tbody>\n    <tr>\n      <th>0</th>\n      <td>150658</td>\n      <td>8.0</td>\n      <td>ValentineS</td>\n      <td>6.271517</td>\n      <td>7.095656</td>\n      <td>5.981395</td>\n      <td>7.317400</td>\n      <td>-1.114261</td>\n      <td>0.221744</td>\n      <td>6.203139</td>\n      <td>-0.983919</td>\n      <td>0.179018</td>\n      <td>6.290755</td>\n    </tr>\n    <tr>\n      <th>1</th>\n      <td>145186</td>\n      <td>5.0</td>\n      <td>Andychives</td>\n      <td>6.632857</td>\n      <td>7.095656</td>\n      <td>7.220930</td>\n      <td>6.407969</td>\n      <td>0.125274</td>\n      <td>-0.687687</td>\n      <td>6.533243</td>\n      <td>0.356351</td>\n      <td>-0.449816</td>\n      <td>7.002191</td>\n    </tr>\n    <tr>\n      <th>2</th>\n      <td>71</td>\n      <td>6.0</td>\n      <td>Hindrick</td>\n      <td>7.184106</td>\n      <td>7.095656</td>\n      <td>6.550000</td>\n      <td>7.530192</td>\n      <td>-0.545656</td>\n      <td>0.434536</td>\n      <td>6.984536</td>\n      <td>-0.892261</td>\n      <td>0.592496</td>\n      <td>6.795891</td>\n    </tr>\n    <tr>\n      <th>3</th>\n      <td>15511</td>\n      <td>7.0</td>\n      <td>Moviebuffs</td>\n      <td>6.971453</td>\n      <td>7.095656</td>\n      <td>6.952899</td>\n      <td>6.725949</td>\n      <td>-0.142758</td>\n      <td>-0.369707</td>\n      <td>6.583191</td>\n      <td>0.275200</td>\n      <td>-0.113396</td>\n      <td>7.257461</td>\n    </tr>\n    <tr>\n      <th>4</th>\n      <td>171623</td>\n      <td>8.0</td>\n      <td>masa5963</td>\n      <td>8.023049</td>\n      <td>7.095656</td>\n      <td>7.721311</td>\n      <td>7.887216</td>\n      <td>0.625655</td>\n      <td>0.791560</td>\n      <td>8.512871</td>\n      <td>-0.043014</td>\n      <td>0.622480</td>\n      <td>7.675123</td>\n    </tr>\n    <tr>\n      <th>...</th>\n      <td>...</td>\n      <td>...</td>\n      <td>...</td>\n      <td>...</td>\n      <td>...</td>\n      <td>...</td>\n      <td>...</td>\n      <td>...</td>\n      <td>...</td>\n      <td>...</td>\n      <td>...</td>\n      <td>...</td>\n      <td>...</td>\n    </tr>\n    <tr>\n      <th>95</th>\n      <td>143741</td>\n      <td>8.0</td>\n      <td>Cyantsunami</td>\n      <td>6.810093</td>\n      <td>7.095656</td>\n      <td>7.136194</td>\n      <td>6.974243</td>\n      <td>0.040538</td>\n      <td>-0.121413</td>\n      <td>7.014781</td>\n      <td>-0.273314</td>\n      <td>-0.220253</td>\n      <td>6.602090</td>\n    </tr>\n    <tr>\n      <th>96</th>\n      <td>207</td>\n      <td>8.0</td>\n      <td>koen2602</td>\n      <td>6.502048</td>\n      <td>7.095656</td>\n      <td>7.036026</td>\n      <td>6.068310</td>\n      <td>-0.059630</td>\n      <td>-1.027346</td>\n      <td>6.008680</td>\n      <td>0.122149</td>\n      <td>-0.570126</td>\n      <td>6.647679</td>\n    </tr>\n    <tr>\n      <th>97</th>\n      <td>12205</td>\n      <td>5.0</td>\n      <td>chrisnd</td>\n      <td>4.844284</td>\n      <td>7.095656</td>\n      <td>7.114072</td>\n      <td>4.718547</td>\n      <td>0.018416</td>\n      <td>-2.377109</td>\n      <td>4.736964</td>\n      <td>0.208934</td>\n      <td>-2.067289</td>\n      <td>5.237301</td>\n    </tr>\n    <tr>\n      <th>98</th>\n      <td>40628</td>\n      <td>7.5</td>\n      <td>WRMW</td>\n      <td>6.859257</td>\n      <td>7.095656</td>\n      <td>7.267857</td>\n      <td>7.079846</td>\n      <td>0.172201</td>\n      <td>-0.015810</td>\n      <td>7.252048</td>\n      <td>0.086607</td>\n      <td>0.131602</td>\n      <td>7.313865</td>\n    </tr>\n    <tr>\n      <th>99</th>\n      <td>90041</td>\n      <td>7.0</td>\n      <td>HelgeEmil</td>\n      <td>6.321582</td>\n      <td>7.095656</td>\n      <td>7.108108</td>\n      <td>6.138670</td>\n      <td>0.012452</td>\n      <td>-0.956987</td>\n      <td>6.151122</td>\n      <td>0.149498</td>\n      <td>-0.702175</td>\n      <td>6.542979</td>\n    </tr>\n  </tbody>\n</table>\n<p>100 rows × 13 columns</p>\n</div>"
     },
     "execution_count": 5,
     "metadata": {},
     "output_type": "execute_result"
    }
   ],
   "source": [
    "result = prints_errors(x_train, x_test)\n",
    "result.head(100)"
   ],
   "metadata": {
    "collapsed": false,
    "ExecuteTime": {
     "end_time": "2023-06-05T16:08:20.136288Z",
     "start_time": "2023-06-05T16:06:40.437235Z"
    }
   }
  },
  {
   "cell_type": "markdown",
   "source": [
    "# Conclusion\n",
    "The second option of computing naive prediction seems to outperform latent factors.\n"
   ],
   "metadata": {
    "collapsed": false
   }
  }
 ],
 "metadata": {
  "kernelspec": {
   "display_name": "Python 3",
   "language": "python",
   "name": "python3"
  },
  "language_info": {
   "codemirror_mode": {
    "name": "ipython",
    "version": 2
   },
   "file_extension": ".py",
   "mimetype": "text/x-python",
   "name": "python",
   "nbconvert_exporter": "python",
   "pygments_lexer": "ipython2",
   "version": "2.7.6"
  }
 },
 "nbformat": 4,
 "nbformat_minor": 0
}
