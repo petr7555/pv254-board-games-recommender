{
 "cells": [
  {
   "cell_type": "code",
   "execution_count": 1,
   "outputs": [],
   "source": [
    "import json\n",
    "import os\n",
    "\n",
    "from app.utils.universal_path import universal_path\n",
    "\n",
    "cleaned_data_dir = universal_path(\"../../data/cleaned\")\n",
    "db_dir = universal_path(\"../../app/db\")\n",
    "mock_dir = universal_path(\"../../../frontend/src/mocks/data\")"
   ],
   "metadata": {
    "collapsed": false,
    "ExecuteTime": {
     "end_time": "2023-06-04T19:13:12.931643Z",
     "start_time": "2023-06-04T19:13:12.924135Z"
    }
   }
  },
  {
   "cell_type": "code",
   "execution_count": 2,
   "outputs": [],
   "source": [
    "import pandas as pd\n",
    "from typing import Optional\n",
    "\n",
    "relevant_columns = [\"BGGId\", \"Name\", \"YearPublished\", \"GameWeight\", \"AvgRating\", \"MinPlayers\", \"MaxPlayers\",\n",
    "                    \"MfgPlaytime\", \"MfgAgeRec\", \"ImagePath\"]\n",
    "renamed_columns = [\"id\", \"name\", \"yearPublished\", \"difficulty\", \"avgRating\", \"minPlayers\", \"maxPlayers\", \"playtime\",\n",
    "                   \"minAge\", \"image\"]\n",
    "\n",
    "\n",
    "def export_to_json_as_list(df: pd.DataFrame, output_file: str, n: Optional[int] = None) -> None:\n",
    "    if n is None:\n",
    "        n = len(df)\n",
    "    df = df[:n][relevant_columns].rename(columns=dict(zip(relevant_columns, renamed_columns)))\n",
    "    df.to_json(output_file, orient='records', indent=2)\n",
    "\n",
    "\n",
    "def export_to_json_as_dict(df: pd.DataFrame, output_file: str) -> None:\n",
    "    df = df.set_index('BGGId', drop=False)\n",
    "    df = df[relevant_columns].rename(columns=dict(zip(relevant_columns, renamed_columns)))\n",
    "    df_dict = df.to_dict(orient='index')\n",
    "\n",
    "    with open(output_file, 'w') as f:\n",
    "        json.dump(df_dict, f, indent=2)"
   ],
   "metadata": {
    "collapsed": false,
    "ExecuteTime": {
     "end_time": "2023-06-04T19:13:14.037047Z",
     "start_time": "2023-06-04T19:13:12.938584Z"
    }
   }
  },
  {
   "cell_type": "code",
   "execution_count": 3,
   "metadata": {
    "collapsed": true,
    "ExecuteTime": {
     "end_time": "2023-06-04T19:13:14.431895Z",
     "start_time": "2023-06-04T19:13:14.037727Z"
    }
   },
   "outputs": [
    {
     "data": {
      "text/plain": "        BGGId                                      Name  \\\n0           1                                Die Macher   \n1           2                              Dragonmaster   \n2           3                                   Samurai   \n3           4                            Tal der Könige   \n4           5                                   Acquire   \n...       ...                                       ...   \n21914  346965                      Azul: Queen's Garden   \n21915  347146                                   Salvage   \n21916  347521  Blitzkrieg!: World War Two in 20 Minutes   \n21917  348955       Rock Paper Scissors: Deluxe Edition   \n21918  349131                                  Splitter   \n\n                                             Description  YearPublished  \\\n0      die macher game seven sequential political rac...           1986   \n1      dragonmaster tricktaking card game base old ga...           1981   \n2      samurai set medieval japan player compete gain...           1998   \n3      triangular box luxurious large block tal der k...           1992   \n4      acquire player strategically invest business t...           1964   \n...                                                  ...            ...   \n21914  welcome palace sintra king manuel commission g...           2021   \n21915  oil tanker fire rescue team send deal   damage...           2021   \n21916  new square edition include nippon expansion up...           2019   \n21917  million year people force play timehonored gam...           2021   \n21918  splitter group number score point mdash s s md...           2021   \n\n       GameWeight  AvgRating  BayesAvgRating    StdDev  MinPlayers  \\\n0          4.3206    7.61428         7.10363  1.579790           3   \n1          1.9630    6.64537         5.78447  1.454400           3   \n2          2.4859    7.45601         7.23994  1.182270           2   \n3          2.6667    6.60006         5.67954  1.231290           2   \n4          2.5031    7.33861         7.14189  1.335830           2   \n...           ...        ...             ...       ...         ...   \n21914      3.0714    7.67076         5.73362  1.332540           2   \n21915      0.0000    7.45000         5.52462  1.554930           3   \n21916      1.6667    7.92276         5.56323  0.894204           1   \n21917      4.5625    6.96970         5.53964  4.052570           1   \n21918      1.0000    6.48235         5.52631  1.160070           1   \n\n       MaxPlayers  ...  Rank:partygames  Rank:childrensgames  Cat:Thematic  \\\n0               5  ...            21926                21926             0   \n1               4  ...            21926                21926             0   \n2               4  ...            21926                21926             0   \n3               4  ...            21926                21926             0   \n4               6  ...            21926                21926             0   \n...           ...  ...              ...                  ...           ...   \n21914           4  ...            21926                21926             0   \n21915           4  ...            21926                21926             0   \n21916           2  ...            21926                21926             0   \n21917           3  ...            21926                21926             0   \n21918          12  ...            21926                21926             0   \n\n      Cat:Strategy  Cat:War  Cat:Family  Cat:CGS  Cat:Abstract  Cat:Party  \\\n0                1        0           0        0             0          0   \n1                1        0           0        0             0          0   \n2                1        0           0        0             0          0   \n3                0        0           0        0             0          0   \n4                1        0           0        0             0          0   \n...            ...      ...         ...      ...           ...        ...   \n21914            0        0           0        0             0          0   \n21915            0        0           0        0             0          0   \n21916            0        0           0        0             0          0   \n21917            0        0           0        0             0          0   \n21918            0        0           0        0             0          0   \n\n       Cat:Childrens  \n0                  0  \n1                  0  \n2                  0  \n3                  0  \n4                  0  \n...              ...  \n21914              0  \n21915              0  \n21916              0  \n21917              0  \n21918              0  \n\n[21919 rows x 48 columns]",
      "text/html": "<div>\n<style scoped>\n    .dataframe tbody tr th:only-of-type {\n        vertical-align: middle;\n    }\n\n    .dataframe tbody tr th {\n        vertical-align: top;\n    }\n\n    .dataframe thead th {\n        text-align: right;\n    }\n</style>\n<table border=\"1\" class=\"dataframe\">\n  <thead>\n    <tr style=\"text-align: right;\">\n      <th></th>\n      <th>BGGId</th>\n      <th>Name</th>\n      <th>Description</th>\n      <th>YearPublished</th>\n      <th>GameWeight</th>\n      <th>AvgRating</th>\n      <th>BayesAvgRating</th>\n      <th>StdDev</th>\n      <th>MinPlayers</th>\n      <th>MaxPlayers</th>\n      <th>...</th>\n      <th>Rank:partygames</th>\n      <th>Rank:childrensgames</th>\n      <th>Cat:Thematic</th>\n      <th>Cat:Strategy</th>\n      <th>Cat:War</th>\n      <th>Cat:Family</th>\n      <th>Cat:CGS</th>\n      <th>Cat:Abstract</th>\n      <th>Cat:Party</th>\n      <th>Cat:Childrens</th>\n    </tr>\n  </thead>\n  <tbody>\n    <tr>\n      <th>0</th>\n      <td>1</td>\n      <td>Die Macher</td>\n      <td>die macher game seven sequential political rac...</td>\n      <td>1986</td>\n      <td>4.3206</td>\n      <td>7.61428</td>\n      <td>7.10363</td>\n      <td>1.579790</td>\n      <td>3</td>\n      <td>5</td>\n      <td>...</td>\n      <td>21926</td>\n      <td>21926</td>\n      <td>0</td>\n      <td>1</td>\n      <td>0</td>\n      <td>0</td>\n      <td>0</td>\n      <td>0</td>\n      <td>0</td>\n      <td>0</td>\n    </tr>\n    <tr>\n      <th>1</th>\n      <td>2</td>\n      <td>Dragonmaster</td>\n      <td>dragonmaster tricktaking card game base old ga...</td>\n      <td>1981</td>\n      <td>1.9630</td>\n      <td>6.64537</td>\n      <td>5.78447</td>\n      <td>1.454400</td>\n      <td>3</td>\n      <td>4</td>\n      <td>...</td>\n      <td>21926</td>\n      <td>21926</td>\n      <td>0</td>\n      <td>1</td>\n      <td>0</td>\n      <td>0</td>\n      <td>0</td>\n      <td>0</td>\n      <td>0</td>\n      <td>0</td>\n    </tr>\n    <tr>\n      <th>2</th>\n      <td>3</td>\n      <td>Samurai</td>\n      <td>samurai set medieval japan player compete gain...</td>\n      <td>1998</td>\n      <td>2.4859</td>\n      <td>7.45601</td>\n      <td>7.23994</td>\n      <td>1.182270</td>\n      <td>2</td>\n      <td>4</td>\n      <td>...</td>\n      <td>21926</td>\n      <td>21926</td>\n      <td>0</td>\n      <td>1</td>\n      <td>0</td>\n      <td>0</td>\n      <td>0</td>\n      <td>0</td>\n      <td>0</td>\n      <td>0</td>\n    </tr>\n    <tr>\n      <th>3</th>\n      <td>4</td>\n      <td>Tal der Könige</td>\n      <td>triangular box luxurious large block tal der k...</td>\n      <td>1992</td>\n      <td>2.6667</td>\n      <td>6.60006</td>\n      <td>5.67954</td>\n      <td>1.231290</td>\n      <td>2</td>\n      <td>4</td>\n      <td>...</td>\n      <td>21926</td>\n      <td>21926</td>\n      <td>0</td>\n      <td>0</td>\n      <td>0</td>\n      <td>0</td>\n      <td>0</td>\n      <td>0</td>\n      <td>0</td>\n      <td>0</td>\n    </tr>\n    <tr>\n      <th>4</th>\n      <td>5</td>\n      <td>Acquire</td>\n      <td>acquire player strategically invest business t...</td>\n      <td>1964</td>\n      <td>2.5031</td>\n      <td>7.33861</td>\n      <td>7.14189</td>\n      <td>1.335830</td>\n      <td>2</td>\n      <td>6</td>\n      <td>...</td>\n      <td>21926</td>\n      <td>21926</td>\n      <td>0</td>\n      <td>1</td>\n      <td>0</td>\n      <td>0</td>\n      <td>0</td>\n      <td>0</td>\n      <td>0</td>\n      <td>0</td>\n    </tr>\n    <tr>\n      <th>...</th>\n      <td>...</td>\n      <td>...</td>\n      <td>...</td>\n      <td>...</td>\n      <td>...</td>\n      <td>...</td>\n      <td>...</td>\n      <td>...</td>\n      <td>...</td>\n      <td>...</td>\n      <td>...</td>\n      <td>...</td>\n      <td>...</td>\n      <td>...</td>\n      <td>...</td>\n      <td>...</td>\n      <td>...</td>\n      <td>...</td>\n      <td>...</td>\n      <td>...</td>\n      <td>...</td>\n    </tr>\n    <tr>\n      <th>21914</th>\n      <td>346965</td>\n      <td>Azul: Queen's Garden</td>\n      <td>welcome palace sintra king manuel commission g...</td>\n      <td>2021</td>\n      <td>3.0714</td>\n      <td>7.67076</td>\n      <td>5.73362</td>\n      <td>1.332540</td>\n      <td>2</td>\n      <td>4</td>\n      <td>...</td>\n      <td>21926</td>\n      <td>21926</td>\n      <td>0</td>\n      <td>0</td>\n      <td>0</td>\n      <td>0</td>\n      <td>0</td>\n      <td>0</td>\n      <td>0</td>\n      <td>0</td>\n    </tr>\n    <tr>\n      <th>21915</th>\n      <td>347146</td>\n      <td>Salvage</td>\n      <td>oil tanker fire rescue team send deal   damage...</td>\n      <td>2021</td>\n      <td>0.0000</td>\n      <td>7.45000</td>\n      <td>5.52462</td>\n      <td>1.554930</td>\n      <td>3</td>\n      <td>4</td>\n      <td>...</td>\n      <td>21926</td>\n      <td>21926</td>\n      <td>0</td>\n      <td>0</td>\n      <td>0</td>\n      <td>0</td>\n      <td>0</td>\n      <td>0</td>\n      <td>0</td>\n      <td>0</td>\n    </tr>\n    <tr>\n      <th>21916</th>\n      <td>347521</td>\n      <td>Blitzkrieg!: World War Two in 20 Minutes</td>\n      <td>new square edition include nippon expansion up...</td>\n      <td>2019</td>\n      <td>1.6667</td>\n      <td>7.92276</td>\n      <td>5.56323</td>\n      <td>0.894204</td>\n      <td>1</td>\n      <td>2</td>\n      <td>...</td>\n      <td>21926</td>\n      <td>21926</td>\n      <td>0</td>\n      <td>0</td>\n      <td>0</td>\n      <td>0</td>\n      <td>0</td>\n      <td>0</td>\n      <td>0</td>\n      <td>0</td>\n    </tr>\n    <tr>\n      <th>21917</th>\n      <td>348955</td>\n      <td>Rock Paper Scissors: Deluxe Edition</td>\n      <td>million year people force play timehonored gam...</td>\n      <td>2021</td>\n      <td>4.5625</td>\n      <td>6.96970</td>\n      <td>5.53964</td>\n      <td>4.052570</td>\n      <td>1</td>\n      <td>3</td>\n      <td>...</td>\n      <td>21926</td>\n      <td>21926</td>\n      <td>0</td>\n      <td>0</td>\n      <td>0</td>\n      <td>0</td>\n      <td>0</td>\n      <td>0</td>\n      <td>0</td>\n      <td>0</td>\n    </tr>\n    <tr>\n      <th>21918</th>\n      <td>349131</td>\n      <td>Splitter</td>\n      <td>splitter group number score point mdash s s md...</td>\n      <td>2021</td>\n      <td>1.0000</td>\n      <td>6.48235</td>\n      <td>5.52631</td>\n      <td>1.160070</td>\n      <td>1</td>\n      <td>12</td>\n      <td>...</td>\n      <td>21926</td>\n      <td>21926</td>\n      <td>0</td>\n      <td>0</td>\n      <td>0</td>\n      <td>0</td>\n      <td>0</td>\n      <td>0</td>\n      <td>0</td>\n      <td>0</td>\n    </tr>\n  </tbody>\n</table>\n<p>21919 rows × 48 columns</p>\n</div>"
     },
     "execution_count": 3,
     "metadata": {},
     "output_type": "execute_result"
    }
   ],
   "source": [
    "games = pd.read_csv(os.path.join(cleaned_data_dir, 'games.csv'))\n",
    "games"
   ]
  },
  {
   "cell_type": "code",
   "execution_count": 4,
   "outputs": [],
   "source": [
    "export_to_json_as_dict(games, os.path.join(db_dir, 'gamesById.json'))"
   ],
   "metadata": {
    "collapsed": false,
    "ExecuteTime": {
     "end_time": "2023-06-04T19:13:14.941977Z",
     "start_time": "2023-06-04T19:13:14.434899Z"
    }
   }
  },
  {
   "cell_type": "code",
   "execution_count": 5,
   "outputs": [
    {
     "data": {
      "text/plain": "        BGGId                                               Name  \\\n11450  122711                                 \"La Garde recule!\"   \n7104    23304  \"Oh My God! There's An Axe In My Head.\" The Ga...   \n2639     4016                            \"Scratch One Flat Top!\"   \n8744    38836                              \"Tarleton's Quarter!\"   \n20507  286535                                            #MyLife   \n...       ...                                                ...   \n12053  134547                             卑怯なコウモリ (Cowardly Bat)   \n15439  189218                                      曼荼羅 (Mandara)   \n14728  177572                                   猿道 (Monkey Road)   \n21799  335467          白と黒でトリテ (Trick-Taking in Black and White)   \n16906  216497                    聖杯サクセション (Throne and the Grail)   \n\n                                             Description  YearPublished  \\\n11450  quotla garde reculequot tenth game pocket batt...           2011   \n7104   geneva   league nation convene time proud host...           2014   \n2639   recreation battle coral sea warn magic japanes...           1995   \n8744   quottarleton quarterquot game british attempt ...           2010   \n20507  live life miniature mdash life mdash mylife ca...           2019   \n...                                                  ...            ...   \n12053  hiky na kmori quotcowardly batquot card game b...           2012   \n15439  mandala type painting represent buddhist inter...           2015   \n14728  user summarya partyesque card game play human ...           2015   \n21799    tricktaking black white   card suit mdash bl...           2021   \n16906  king near death mdash succeed win gather suppo...           2016   \n\n       GameWeight  AvgRating  BayesAvgRating   StdDev  MinPlayers  MaxPlayers  \\\n11450      1.5455    5.39286         5.49772  1.46542           2           2   \n7104       2.1818    5.80771         5.50121  2.25363           2           6   \n2639       3.2353    7.42250         5.55369  1.38111           2           4   \n8744       2.7692    7.06000         5.54290  1.60200           2           2   \n20507      2.0000    5.65446         5.50490  1.40297           2           6   \n...           ...        ...             ...      ...         ...         ...   \n12053      1.2000    5.51935         5.50037  1.49395           4           7   \n15439      3.0000    6.95000         5.52465  1.14592           3           4   \n14728      1.0000    5.84641         5.50547  1.76444           2           4   \n21799      1.0000    6.94706         5.52844  1.19613           2           4   \n16906      1.8000    6.96744         5.67616  1.26775           2           2   \n\n       ...  Rank:partygames  Rank:childrensgames  Cat:Thematic Cat:Strategy  \\\n11450  ...            21926                21926             0            0   \n7104   ...            21926                21926             0            0   \n2639   ...            21926                21926             0            0   \n8744   ...            21926                21926             0            0   \n20507  ...            21926                21926             0            0   \n...    ...              ...                  ...           ...          ...   \n12053  ...            21926                21926             0            0   \n15439  ...            21926                21926             0            0   \n14728  ...            21926                21926             0            0   \n21799  ...            21926                21926             0            0   \n16906  ...            21926                21926             0            0   \n\n       Cat:War  Cat:Family  Cat:CGS  Cat:Abstract  Cat:Party  Cat:Childrens  \n11450        1           0        0             0          0              0  \n7104         0           0        0             0          0              0  \n2639         1           0        0             0          0              0  \n8744         1           0        0             0          0              0  \n20507        0           0        0             0          0              0  \n...        ...         ...      ...           ...        ...            ...  \n12053        0           0        0             0          0              0  \n15439        0           0        0             0          0              0  \n14728        0           0        0             0          0              0  \n21799        0           0        0             0          0              0  \n16906        0           0        0             0          0              0  \n\n[21919 rows x 48 columns]",
      "text/html": "<div>\n<style scoped>\n    .dataframe tbody tr th:only-of-type {\n        vertical-align: middle;\n    }\n\n    .dataframe tbody tr th {\n        vertical-align: top;\n    }\n\n    .dataframe thead th {\n        text-align: right;\n    }\n</style>\n<table border=\"1\" class=\"dataframe\">\n  <thead>\n    <tr style=\"text-align: right;\">\n      <th></th>\n      <th>BGGId</th>\n      <th>Name</th>\n      <th>Description</th>\n      <th>YearPublished</th>\n      <th>GameWeight</th>\n      <th>AvgRating</th>\n      <th>BayesAvgRating</th>\n      <th>StdDev</th>\n      <th>MinPlayers</th>\n      <th>MaxPlayers</th>\n      <th>...</th>\n      <th>Rank:partygames</th>\n      <th>Rank:childrensgames</th>\n      <th>Cat:Thematic</th>\n      <th>Cat:Strategy</th>\n      <th>Cat:War</th>\n      <th>Cat:Family</th>\n      <th>Cat:CGS</th>\n      <th>Cat:Abstract</th>\n      <th>Cat:Party</th>\n      <th>Cat:Childrens</th>\n    </tr>\n  </thead>\n  <tbody>\n    <tr>\n      <th>11450</th>\n      <td>122711</td>\n      <td>\"La Garde recule!\"</td>\n      <td>quotla garde reculequot tenth game pocket batt...</td>\n      <td>2011</td>\n      <td>1.5455</td>\n      <td>5.39286</td>\n      <td>5.49772</td>\n      <td>1.46542</td>\n      <td>2</td>\n      <td>2</td>\n      <td>...</td>\n      <td>21926</td>\n      <td>21926</td>\n      <td>0</td>\n      <td>0</td>\n      <td>1</td>\n      <td>0</td>\n      <td>0</td>\n      <td>0</td>\n      <td>0</td>\n      <td>0</td>\n    </tr>\n    <tr>\n      <th>7104</th>\n      <td>23304</td>\n      <td>\"Oh My God! There's An Axe In My Head.\" The Ga...</td>\n      <td>geneva   league nation convene time proud host...</td>\n      <td>2014</td>\n      <td>2.1818</td>\n      <td>5.80771</td>\n      <td>5.50121</td>\n      <td>2.25363</td>\n      <td>2</td>\n      <td>6</td>\n      <td>...</td>\n      <td>21926</td>\n      <td>21926</td>\n      <td>0</td>\n      <td>0</td>\n      <td>0</td>\n      <td>0</td>\n      <td>0</td>\n      <td>0</td>\n      <td>0</td>\n      <td>0</td>\n    </tr>\n    <tr>\n      <th>2639</th>\n      <td>4016</td>\n      <td>\"Scratch One Flat Top!\"</td>\n      <td>recreation battle coral sea warn magic japanes...</td>\n      <td>1995</td>\n      <td>3.2353</td>\n      <td>7.42250</td>\n      <td>5.55369</td>\n      <td>1.38111</td>\n      <td>2</td>\n      <td>4</td>\n      <td>...</td>\n      <td>21926</td>\n      <td>21926</td>\n      <td>0</td>\n      <td>0</td>\n      <td>1</td>\n      <td>0</td>\n      <td>0</td>\n      <td>0</td>\n      <td>0</td>\n      <td>0</td>\n    </tr>\n    <tr>\n      <th>8744</th>\n      <td>38836</td>\n      <td>\"Tarleton's Quarter!\"</td>\n      <td>quottarleton quarterquot game british attempt ...</td>\n      <td>2010</td>\n      <td>2.7692</td>\n      <td>7.06000</td>\n      <td>5.54290</td>\n      <td>1.60200</td>\n      <td>2</td>\n      <td>2</td>\n      <td>...</td>\n      <td>21926</td>\n      <td>21926</td>\n      <td>0</td>\n      <td>0</td>\n      <td>1</td>\n      <td>0</td>\n      <td>0</td>\n      <td>0</td>\n      <td>0</td>\n      <td>0</td>\n    </tr>\n    <tr>\n      <th>20507</th>\n      <td>286535</td>\n      <td>#MyLife</td>\n      <td>live life miniature mdash life mdash mylife ca...</td>\n      <td>2019</td>\n      <td>2.0000</td>\n      <td>5.65446</td>\n      <td>5.50490</td>\n      <td>1.40297</td>\n      <td>2</td>\n      <td>6</td>\n      <td>...</td>\n      <td>21926</td>\n      <td>21926</td>\n      <td>0</td>\n      <td>0</td>\n      <td>0</td>\n      <td>0</td>\n      <td>0</td>\n      <td>0</td>\n      <td>0</td>\n      <td>0</td>\n    </tr>\n    <tr>\n      <th>...</th>\n      <td>...</td>\n      <td>...</td>\n      <td>...</td>\n      <td>...</td>\n      <td>...</td>\n      <td>...</td>\n      <td>...</td>\n      <td>...</td>\n      <td>...</td>\n      <td>...</td>\n      <td>...</td>\n      <td>...</td>\n      <td>...</td>\n      <td>...</td>\n      <td>...</td>\n      <td>...</td>\n      <td>...</td>\n      <td>...</td>\n      <td>...</td>\n      <td>...</td>\n      <td>...</td>\n    </tr>\n    <tr>\n      <th>12053</th>\n      <td>134547</td>\n      <td>卑怯なコウモリ (Cowardly Bat)</td>\n      <td>hiky na kmori quotcowardly batquot card game b...</td>\n      <td>2012</td>\n      <td>1.2000</td>\n      <td>5.51935</td>\n      <td>5.50037</td>\n      <td>1.49395</td>\n      <td>4</td>\n      <td>7</td>\n      <td>...</td>\n      <td>21926</td>\n      <td>21926</td>\n      <td>0</td>\n      <td>0</td>\n      <td>0</td>\n      <td>0</td>\n      <td>0</td>\n      <td>0</td>\n      <td>0</td>\n      <td>0</td>\n    </tr>\n    <tr>\n      <th>15439</th>\n      <td>189218</td>\n      <td>曼荼羅 (Mandara)</td>\n      <td>mandala type painting represent buddhist inter...</td>\n      <td>2015</td>\n      <td>3.0000</td>\n      <td>6.95000</td>\n      <td>5.52465</td>\n      <td>1.14592</td>\n      <td>3</td>\n      <td>4</td>\n      <td>...</td>\n      <td>21926</td>\n      <td>21926</td>\n      <td>0</td>\n      <td>0</td>\n      <td>0</td>\n      <td>0</td>\n      <td>0</td>\n      <td>0</td>\n      <td>0</td>\n      <td>0</td>\n    </tr>\n    <tr>\n      <th>14728</th>\n      <td>177572</td>\n      <td>猿道 (Monkey Road)</td>\n      <td>user summarya partyesque card game play human ...</td>\n      <td>2015</td>\n      <td>1.0000</td>\n      <td>5.84641</td>\n      <td>5.50547</td>\n      <td>1.76444</td>\n      <td>2</td>\n      <td>4</td>\n      <td>...</td>\n      <td>21926</td>\n      <td>21926</td>\n      <td>0</td>\n      <td>0</td>\n      <td>0</td>\n      <td>0</td>\n      <td>0</td>\n      <td>0</td>\n      <td>0</td>\n      <td>0</td>\n    </tr>\n    <tr>\n      <th>21799</th>\n      <td>335467</td>\n      <td>白と黒でトリテ (Trick-Taking in Black and White)</td>\n      <td>tricktaking black white   card suit mdash bl...</td>\n      <td>2021</td>\n      <td>1.0000</td>\n      <td>6.94706</td>\n      <td>5.52844</td>\n      <td>1.19613</td>\n      <td>2</td>\n      <td>4</td>\n      <td>...</td>\n      <td>21926</td>\n      <td>21926</td>\n      <td>0</td>\n      <td>0</td>\n      <td>0</td>\n      <td>0</td>\n      <td>0</td>\n      <td>0</td>\n      <td>0</td>\n      <td>0</td>\n    </tr>\n    <tr>\n      <th>16906</th>\n      <td>216497</td>\n      <td>聖杯サクセション (Throne and the Grail)</td>\n      <td>king near death mdash succeed win gather suppo...</td>\n      <td>2016</td>\n      <td>1.8000</td>\n      <td>6.96744</td>\n      <td>5.67616</td>\n      <td>1.26775</td>\n      <td>2</td>\n      <td>2</td>\n      <td>...</td>\n      <td>21926</td>\n      <td>21926</td>\n      <td>0</td>\n      <td>0</td>\n      <td>0</td>\n      <td>0</td>\n      <td>0</td>\n      <td>0</td>\n      <td>0</td>\n      <td>0</td>\n    </tr>\n  </tbody>\n</table>\n<p>21919 rows × 48 columns</p>\n</div>"
     },
     "execution_count": 5,
     "metadata": {},
     "output_type": "execute_result"
    }
   ],
   "source": [
    "games_ordered_by_name = games.sort_values('Name', ascending=True)\n",
    "games_ordered_by_name"
   ],
   "metadata": {
    "collapsed": false,
    "ExecuteTime": {
     "end_time": "2023-06-04T19:13:14.990020Z",
     "start_time": "2023-06-04T19:13:14.938561Z"
    }
   }
  },
  {
   "cell_type": "code",
   "execution_count": 6,
   "outputs": [],
   "source": [
    "export_to_json_as_list(games_ordered_by_name, os.path.join(db_dir, 'gamesOrderedByName.json'))"
   ],
   "metadata": {
    "collapsed": false,
    "ExecuteTime": {
     "end_time": "2023-06-04T19:13:15.108761Z",
     "start_time": "2023-06-04T19:13:14.991062Z"
    }
   }
  },
  {
   "cell_type": "code",
   "execution_count": 7,
   "outputs": [
    {
     "data": {
      "text/plain": "        BGGId                                     Name  \\\n14509  174430                               Gloomhaven   \n13702  161936                Pandemic Legacy: Season 1   \n17328  224517                        Brass: Birmingham   \n14059  167791                        Terraforming Mars   \n17833  233078        Twilight Imperium: Fourth Edition   \n...       ...                                      ...   \n5264    11428  Supermarina I: Command at Sea Volume II   \n7944    30933                        BANG! The Bullet!   \n13672  161617         Dungeon Lords: Happy Anniversary   \n19997  275626               Dominion Einsteiger-Bigbox   \n16447  206236                      Wallenstein Big Box   \n\n                                             Description  YearPublished  \\\n14509  gloomhaven   game euroinspired tactical combat...           2017   \n13702  pandemic legacy cooperative campaign game over...           2015   \n17328  brass birmingham economic strategy game sequel...           2018   \n14059  s mankind begin terraform planet mar giant cor...           2016   \n17833  twilight imperium fourth edition game galactic...           2017   \n...                                                  ...            ...   \n5264   war mediterranean rommel afrika korps capture ...           1996   \n7944   bang bullet deluxe version bang expansion come...           2007   \n13672  dungeon lords happy anniversary include dungeo...           2014   \n19997  bigbox dominion newcomer include basic game nd...           2019   \n16447  game description publisherwallenstein set thir...           2016   \n\n       GameWeight  AvgRating  BayesAvgRating   StdDev  MinPlayers  MaxPlayers  \\\n14509      3.8699    8.74997         8.51488  1.63975           1           4   \n13702      2.8336    8.59678         8.44451  1.56179           2           4   \n17328      3.9058    8.66562         8.41573  1.24126           2           4   \n14059      3.2441    8.41879         8.27421  1.38764           1           5   \n17833      4.2497    8.67916         8.25955  1.60640           3           6   \n...           ...        ...             ...      ...         ...         ...   \n5264       4.3636    7.59310         5.56341  1.31147           2          12   \n7944       1.8489    6.92087         6.58407  1.41909           3           8   \n13672      3.9231    8.18864         6.47771  1.19201           2           4   \n19997      2.0000    8.43382         5.55442  1.20555           2           4   \n16447      3.3333    7.72352         5.63148  1.54368           3           5   \n\n       ...  Rank:partygames  Rank:childrensgames  Cat:Thematic Cat:Strategy  \\\n14509  ...            21926                21926             1            1   \n13702  ...            21926                21926             1            1   \n17328  ...            21926                21926             0            1   \n14059  ...            21926                21926             0            1   \n17833  ...            21926                21926             1            1   \n...    ...              ...                  ...           ...          ...   \n5264   ...            21926                21926             0            0   \n7944   ...            21926                21926             0            0   \n13672  ...            21926                21926             0            0   \n19997  ...            21926                21926             0            0   \n16447  ...            21926                21926             0            0   \n\n       Cat:War  Cat:Family  Cat:CGS  Cat:Abstract  Cat:Party  Cat:Childrens  \n14509        0           0        0             0          0              0  \n13702        0           0        0             0          0              0  \n17328        0           0        0             0          0              0  \n14059        0           0        0             0          0              0  \n17833        0           0        0             0          0              0  \n...        ...         ...      ...           ...        ...            ...  \n5264         0           0        0             0          0              0  \n7944         0           0        0             0          0              0  \n13672        0           0        0             0          0              0  \n19997        0           0        0             0          0              0  \n16447        0           0        0             0          0              0  \n\n[21919 rows x 48 columns]",
      "text/html": "<div>\n<style scoped>\n    .dataframe tbody tr th:only-of-type {\n        vertical-align: middle;\n    }\n\n    .dataframe tbody tr th {\n        vertical-align: top;\n    }\n\n    .dataframe thead th {\n        text-align: right;\n    }\n</style>\n<table border=\"1\" class=\"dataframe\">\n  <thead>\n    <tr style=\"text-align: right;\">\n      <th></th>\n      <th>BGGId</th>\n      <th>Name</th>\n      <th>Description</th>\n      <th>YearPublished</th>\n      <th>GameWeight</th>\n      <th>AvgRating</th>\n      <th>BayesAvgRating</th>\n      <th>StdDev</th>\n      <th>MinPlayers</th>\n      <th>MaxPlayers</th>\n      <th>...</th>\n      <th>Rank:partygames</th>\n      <th>Rank:childrensgames</th>\n      <th>Cat:Thematic</th>\n      <th>Cat:Strategy</th>\n      <th>Cat:War</th>\n      <th>Cat:Family</th>\n      <th>Cat:CGS</th>\n      <th>Cat:Abstract</th>\n      <th>Cat:Party</th>\n      <th>Cat:Childrens</th>\n    </tr>\n  </thead>\n  <tbody>\n    <tr>\n      <th>14509</th>\n      <td>174430</td>\n      <td>Gloomhaven</td>\n      <td>gloomhaven   game euroinspired tactical combat...</td>\n      <td>2017</td>\n      <td>3.8699</td>\n      <td>8.74997</td>\n      <td>8.51488</td>\n      <td>1.63975</td>\n      <td>1</td>\n      <td>4</td>\n      <td>...</td>\n      <td>21926</td>\n      <td>21926</td>\n      <td>1</td>\n      <td>1</td>\n      <td>0</td>\n      <td>0</td>\n      <td>0</td>\n      <td>0</td>\n      <td>0</td>\n      <td>0</td>\n    </tr>\n    <tr>\n      <th>13702</th>\n      <td>161936</td>\n      <td>Pandemic Legacy: Season 1</td>\n      <td>pandemic legacy cooperative campaign game over...</td>\n      <td>2015</td>\n      <td>2.8336</td>\n      <td>8.59678</td>\n      <td>8.44451</td>\n      <td>1.56179</td>\n      <td>2</td>\n      <td>4</td>\n      <td>...</td>\n      <td>21926</td>\n      <td>21926</td>\n      <td>1</td>\n      <td>1</td>\n      <td>0</td>\n      <td>0</td>\n      <td>0</td>\n      <td>0</td>\n      <td>0</td>\n      <td>0</td>\n    </tr>\n    <tr>\n      <th>17328</th>\n      <td>224517</td>\n      <td>Brass: Birmingham</td>\n      <td>brass birmingham economic strategy game sequel...</td>\n      <td>2018</td>\n      <td>3.9058</td>\n      <td>8.66562</td>\n      <td>8.41573</td>\n      <td>1.24126</td>\n      <td>2</td>\n      <td>4</td>\n      <td>...</td>\n      <td>21926</td>\n      <td>21926</td>\n      <td>0</td>\n      <td>1</td>\n      <td>0</td>\n      <td>0</td>\n      <td>0</td>\n      <td>0</td>\n      <td>0</td>\n      <td>0</td>\n    </tr>\n    <tr>\n      <th>14059</th>\n      <td>167791</td>\n      <td>Terraforming Mars</td>\n      <td>s mankind begin terraform planet mar giant cor...</td>\n      <td>2016</td>\n      <td>3.2441</td>\n      <td>8.41879</td>\n      <td>8.27421</td>\n      <td>1.38764</td>\n      <td>1</td>\n      <td>5</td>\n      <td>...</td>\n      <td>21926</td>\n      <td>21926</td>\n      <td>0</td>\n      <td>1</td>\n      <td>0</td>\n      <td>0</td>\n      <td>0</td>\n      <td>0</td>\n      <td>0</td>\n      <td>0</td>\n    </tr>\n    <tr>\n      <th>17833</th>\n      <td>233078</td>\n      <td>Twilight Imperium: Fourth Edition</td>\n      <td>twilight imperium fourth edition game galactic...</td>\n      <td>2017</td>\n      <td>4.2497</td>\n      <td>8.67916</td>\n      <td>8.25955</td>\n      <td>1.60640</td>\n      <td>3</td>\n      <td>6</td>\n      <td>...</td>\n      <td>21926</td>\n      <td>21926</td>\n      <td>1</td>\n      <td>1</td>\n      <td>0</td>\n      <td>0</td>\n      <td>0</td>\n      <td>0</td>\n      <td>0</td>\n      <td>0</td>\n    </tr>\n    <tr>\n      <th>...</th>\n      <td>...</td>\n      <td>...</td>\n      <td>...</td>\n      <td>...</td>\n      <td>...</td>\n      <td>...</td>\n      <td>...</td>\n      <td>...</td>\n      <td>...</td>\n      <td>...</td>\n      <td>...</td>\n      <td>...</td>\n      <td>...</td>\n      <td>...</td>\n      <td>...</td>\n      <td>...</td>\n      <td>...</td>\n      <td>...</td>\n      <td>...</td>\n      <td>...</td>\n      <td>...</td>\n    </tr>\n    <tr>\n      <th>5264</th>\n      <td>11428</td>\n      <td>Supermarina I: Command at Sea Volume II</td>\n      <td>war mediterranean rommel afrika korps capture ...</td>\n      <td>1996</td>\n      <td>4.3636</td>\n      <td>7.59310</td>\n      <td>5.56341</td>\n      <td>1.31147</td>\n      <td>2</td>\n      <td>12</td>\n      <td>...</td>\n      <td>21926</td>\n      <td>21926</td>\n      <td>0</td>\n      <td>0</td>\n      <td>0</td>\n      <td>0</td>\n      <td>0</td>\n      <td>0</td>\n      <td>0</td>\n      <td>0</td>\n    </tr>\n    <tr>\n      <th>7944</th>\n      <td>30933</td>\n      <td>BANG! The Bullet!</td>\n      <td>bang bullet deluxe version bang expansion come...</td>\n      <td>2007</td>\n      <td>1.8489</td>\n      <td>6.92087</td>\n      <td>6.58407</td>\n      <td>1.41909</td>\n      <td>3</td>\n      <td>8</td>\n      <td>...</td>\n      <td>21926</td>\n      <td>21926</td>\n      <td>0</td>\n      <td>0</td>\n      <td>0</td>\n      <td>0</td>\n      <td>0</td>\n      <td>0</td>\n      <td>0</td>\n      <td>0</td>\n    </tr>\n    <tr>\n      <th>13672</th>\n      <td>161617</td>\n      <td>Dungeon Lords: Happy Anniversary</td>\n      <td>dungeon lords happy anniversary include dungeo...</td>\n      <td>2014</td>\n      <td>3.9231</td>\n      <td>8.18864</td>\n      <td>6.47771</td>\n      <td>1.19201</td>\n      <td>2</td>\n      <td>4</td>\n      <td>...</td>\n      <td>21926</td>\n      <td>21926</td>\n      <td>0</td>\n      <td>0</td>\n      <td>0</td>\n      <td>0</td>\n      <td>0</td>\n      <td>0</td>\n      <td>0</td>\n      <td>0</td>\n    </tr>\n    <tr>\n      <th>19997</th>\n      <td>275626</td>\n      <td>Dominion Einsteiger-Bigbox</td>\n      <td>bigbox dominion newcomer include basic game nd...</td>\n      <td>2019</td>\n      <td>2.0000</td>\n      <td>8.43382</td>\n      <td>5.55442</td>\n      <td>1.20555</td>\n      <td>2</td>\n      <td>4</td>\n      <td>...</td>\n      <td>21926</td>\n      <td>21926</td>\n      <td>0</td>\n      <td>0</td>\n      <td>0</td>\n      <td>0</td>\n      <td>0</td>\n      <td>0</td>\n      <td>0</td>\n      <td>0</td>\n    </tr>\n    <tr>\n      <th>16447</th>\n      <td>206236</td>\n      <td>Wallenstein Big Box</td>\n      <td>game description publisherwallenstein set thir...</td>\n      <td>2016</td>\n      <td>3.3333</td>\n      <td>7.72352</td>\n      <td>5.63148</td>\n      <td>1.54368</td>\n      <td>3</td>\n      <td>5</td>\n      <td>...</td>\n      <td>21926</td>\n      <td>21926</td>\n      <td>0</td>\n      <td>0</td>\n      <td>0</td>\n      <td>0</td>\n      <td>0</td>\n      <td>0</td>\n      <td>0</td>\n      <td>0</td>\n    </tr>\n  </tbody>\n</table>\n<p>21919 rows × 48 columns</p>\n</div>"
     },
     "execution_count": 7,
     "metadata": {},
     "output_type": "execute_result"
    }
   ],
   "source": [
    "games_ordered_by_rank = games.sort_values('Rank:boardgame', ascending=True)\n",
    "games_ordered_by_rank"
   ],
   "metadata": {
    "collapsed": false,
    "ExecuteTime": {
     "end_time": "2023-06-04T19:13:15.143003Z",
     "start_time": "2023-06-04T19:13:15.101055Z"
    }
   }
  },
  {
   "cell_type": "code",
   "execution_count": 8,
   "outputs": [],
   "source": [
    "export_to_json_as_list(games_ordered_by_rank, os.path.join(db_dir, 'gamesOrderedByRank.json'))"
   ],
   "metadata": {
    "collapsed": false,
    "ExecuteTime": {
     "end_time": "2023-06-04T19:13:15.243548Z",
     "start_time": "2023-06-04T19:13:15.150245Z"
    }
   }
  },
  {
   "cell_type": "code",
   "execution_count": 9,
   "outputs": [
    {
     "data": {
      "text/plain": "           BGGId  Rating       Username\n0         213788     8.0      Tonydorrf\n1         213788     8.0     tachyon14k\n2         213788     8.0       Ungotter\n3         213788     8.0    brainlocki3\n4         213788     8.0           PPMP\n...          ...     ...            ...\n18340216  165521     3.0        rseater\n18340217  165521     3.0      Bluefox86\n18340218  165521     3.0     serginator\n18340219  193488     1.0  CaptainCattan\n18340220  193488     1.0      trodat123\n\n[18340221 rows x 3 columns]",
      "text/html": "<div>\n<style scoped>\n    .dataframe tbody tr th:only-of-type {\n        vertical-align: middle;\n    }\n\n    .dataframe tbody tr th {\n        vertical-align: top;\n    }\n\n    .dataframe thead th {\n        text-align: right;\n    }\n</style>\n<table border=\"1\" class=\"dataframe\">\n  <thead>\n    <tr style=\"text-align: right;\">\n      <th></th>\n      <th>BGGId</th>\n      <th>Rating</th>\n      <th>Username</th>\n    </tr>\n  </thead>\n  <tbody>\n    <tr>\n      <th>0</th>\n      <td>213788</td>\n      <td>8.0</td>\n      <td>Tonydorrf</td>\n    </tr>\n    <tr>\n      <th>1</th>\n      <td>213788</td>\n      <td>8.0</td>\n      <td>tachyon14k</td>\n    </tr>\n    <tr>\n      <th>2</th>\n      <td>213788</td>\n      <td>8.0</td>\n      <td>Ungotter</td>\n    </tr>\n    <tr>\n      <th>3</th>\n      <td>213788</td>\n      <td>8.0</td>\n      <td>brainlocki3</td>\n    </tr>\n    <tr>\n      <th>4</th>\n      <td>213788</td>\n      <td>8.0</td>\n      <td>PPMP</td>\n    </tr>\n    <tr>\n      <th>...</th>\n      <td>...</td>\n      <td>...</td>\n      <td>...</td>\n    </tr>\n    <tr>\n      <th>18340216</th>\n      <td>165521</td>\n      <td>3.0</td>\n      <td>rseater</td>\n    </tr>\n    <tr>\n      <th>18340217</th>\n      <td>165521</td>\n      <td>3.0</td>\n      <td>Bluefox86</td>\n    </tr>\n    <tr>\n      <th>18340218</th>\n      <td>165521</td>\n      <td>3.0</td>\n      <td>serginator</td>\n    </tr>\n    <tr>\n      <th>18340219</th>\n      <td>193488</td>\n      <td>1.0</td>\n      <td>CaptainCattan</td>\n    </tr>\n    <tr>\n      <th>18340220</th>\n      <td>193488</td>\n      <td>1.0</td>\n      <td>trodat123</td>\n    </tr>\n  </tbody>\n</table>\n<p>18340221 rows × 3 columns</p>\n</div>"
     },
     "execution_count": 9,
     "metadata": {},
     "output_type": "execute_result"
    }
   ],
   "source": [
    "ratings = pd.read_csv(os.path.join(cleaned_data_dir, 'user_ratings.csv'))\n",
    "ratings"
   ],
   "metadata": {
    "collapsed": false,
    "ExecuteTime": {
     "end_time": "2023-06-04T19:13:23.557899Z",
     "start_time": "2023-06-04T19:13:15.246547Z"
    }
   }
  },
  {
   "cell_type": "code",
   "execution_count": 10,
   "outputs": [
    {
     "data": {
      "text/plain": "        Rating  Username\nBGGId                   \n30549   100103    100103\n822      99559     99559\n13       96426     96426\n68448    84002     84002\n36218    76222     76222\n...        ...       ...\n228370      11        11\n151070      11        11\n171500      11        11\n290500      10        10\n207203      10        10\n\n[21919 rows x 2 columns]",
      "text/html": "<div>\n<style scoped>\n    .dataframe tbody tr th:only-of-type {\n        vertical-align: middle;\n    }\n\n    .dataframe tbody tr th {\n        vertical-align: top;\n    }\n\n    .dataframe thead th {\n        text-align: right;\n    }\n</style>\n<table border=\"1\" class=\"dataframe\">\n  <thead>\n    <tr style=\"text-align: right;\">\n      <th></th>\n      <th>Rating</th>\n      <th>Username</th>\n    </tr>\n    <tr>\n      <th>BGGId</th>\n      <th></th>\n      <th></th>\n    </tr>\n  </thead>\n  <tbody>\n    <tr>\n      <th>30549</th>\n      <td>100103</td>\n      <td>100103</td>\n    </tr>\n    <tr>\n      <th>822</th>\n      <td>99559</td>\n      <td>99559</td>\n    </tr>\n    <tr>\n      <th>13</th>\n      <td>96426</td>\n      <td>96426</td>\n    </tr>\n    <tr>\n      <th>68448</th>\n      <td>84002</td>\n      <td>84002</td>\n    </tr>\n    <tr>\n      <th>36218</th>\n      <td>76222</td>\n      <td>76222</td>\n    </tr>\n    <tr>\n      <th>...</th>\n      <td>...</td>\n      <td>...</td>\n    </tr>\n    <tr>\n      <th>228370</th>\n      <td>11</td>\n      <td>11</td>\n    </tr>\n    <tr>\n      <th>151070</th>\n      <td>11</td>\n      <td>11</td>\n    </tr>\n    <tr>\n      <th>171500</th>\n      <td>11</td>\n      <td>11</td>\n    </tr>\n    <tr>\n      <th>290500</th>\n      <td>10</td>\n      <td>10</td>\n    </tr>\n    <tr>\n      <th>207203</th>\n      <td>10</td>\n      <td>10</td>\n    </tr>\n  </tbody>\n</table>\n<p>21919 rows × 2 columns</p>\n</div>"
     },
     "execution_count": 10,
     "metadata": {},
     "output_type": "execute_result"
    }
   ],
   "source": [
    "most_rated_games = ratings.groupby('BGGId').count().sort_values('Rating', ascending=False)\n",
    "most_rated_games"
   ],
   "metadata": {
    "collapsed": false,
    "ExecuteTime": {
     "end_time": "2023-06-04T19:13:26.670529Z",
     "start_time": "2023-06-04T19:13:23.560639Z"
    }
   }
  },
  {
   "cell_type": "code",
   "execution_count": 11,
   "outputs": [
    {
     "data": {
      "text/plain": "        BGGId                            Name  \\\n7919    30549                        Pandemic   \n673       822                     Carcassonne   \n12         13                           Catan   \n9861    68448                       7 Wonders   \n8459    36218                        Dominion   \n...       ...                             ...   \n17506  228370                     TerroriXico   \n13019  151070                     Gladiatoris   \n14281  171500                El Dorado Canyon   \n20662  290500                     Flip & Fish   \n16504  207203  War Titans: Invaders Must Die!   \n\n                                             Description  YearPublished  \\\n7919   pandemic virulent disease break simultaneously...           2008   \n673    carcassonne tileplacement game player draw pla...           2000   \n12     catan settler catan player try dominant force ...           1995   \n9861   leader   great city ancient world gather resou...           2010   \n8459   quotyou monarch like parent ruler small pleasa...           2008   \n...                                                  ...            ...   \n17506  description designeracross age terrifying mexi...           2018   \n13019  gladiatoris board game     player   future exp...           2009   \n14281  el dorado canyon simultaneousaction selection ...           2015   \n20662  flip amp fish fast paced competitive   player ...           2019   \n16504  description publisherwar titan crawl chaos gam...              0   \n\n       GameWeight  AvgRating  BayesAvgRating   StdDev  MinPlayers  MaxPlayers  \\\n7919       2.4072    7.59130         7.48919  1.32867           2           4   \n673        1.9064    7.41883         7.30890  1.30503           2           5   \n12         2.3139    7.13746         6.97148  1.48183           3           4   \n9861       2.3258    7.73733         7.63557  1.27611           2           7   \n8459       2.3547    7.61081         7.49999  1.42440           2           4   \n...           ...        ...             ...      ...         ...         ...   \n17506      2.5000    9.42857         5.50463  1.69513           2           4   \n13019      2.8000    9.22742         5.51917  1.15002           1           6   \n14281      1.7500    8.73600         5.51732  1.15625           4           6   \n20662      1.0000    9.13667         5.51644  1.03682           2           4   \n16504      3.0000    9.24138         5.50649  1.77444           1           4   \n\n       ...  Cat:Thematic  Cat:Strategy  Cat:War Cat:Family  Cat:CGS  \\\n7919   ...             0             1        0          1        0   \n673    ...             0             0        0          1        0   \n12     ...             0             1        0          1        0   \n9861   ...             0             1        0          1        0   \n8459   ...             0             1        0          0        0   \n...    ...           ...           ...      ...        ...      ...   \n17506  ...             0             0        0          0        0   \n13019  ...             0             1        1          0        0   \n14281  ...             0             0        0          0        0   \n20662  ...             0             0        0          0        0   \n16504  ...             0             0        0          0        0   \n\n       Cat:Abstract  Cat:Party  Cat:Childrens  Rating  Username  \n7919              0          0              0  100103    100103  \n673               0          0              0   99559     99559  \n12                0          0              0   96426     96426  \n9861              0          0              0   84002     84002  \n8459              0          0              0   76222     76222  \n...             ...        ...            ...     ...       ...  \n17506             0          0              0      11        11  \n13019             0          0              0      11        11  \n14281             0          0              0      11        11  \n20662             0          0              0      10        10  \n16504             0          0              0      10        10  \n\n[21919 rows x 50 columns]",
      "text/html": "<div>\n<style scoped>\n    .dataframe tbody tr th:only-of-type {\n        vertical-align: middle;\n    }\n\n    .dataframe tbody tr th {\n        vertical-align: top;\n    }\n\n    .dataframe thead th {\n        text-align: right;\n    }\n</style>\n<table border=\"1\" class=\"dataframe\">\n  <thead>\n    <tr style=\"text-align: right;\">\n      <th></th>\n      <th>BGGId</th>\n      <th>Name</th>\n      <th>Description</th>\n      <th>YearPublished</th>\n      <th>GameWeight</th>\n      <th>AvgRating</th>\n      <th>BayesAvgRating</th>\n      <th>StdDev</th>\n      <th>MinPlayers</th>\n      <th>MaxPlayers</th>\n      <th>...</th>\n      <th>Cat:Thematic</th>\n      <th>Cat:Strategy</th>\n      <th>Cat:War</th>\n      <th>Cat:Family</th>\n      <th>Cat:CGS</th>\n      <th>Cat:Abstract</th>\n      <th>Cat:Party</th>\n      <th>Cat:Childrens</th>\n      <th>Rating</th>\n      <th>Username</th>\n    </tr>\n  </thead>\n  <tbody>\n    <tr>\n      <th>7919</th>\n      <td>30549</td>\n      <td>Pandemic</td>\n      <td>pandemic virulent disease break simultaneously...</td>\n      <td>2008</td>\n      <td>2.4072</td>\n      <td>7.59130</td>\n      <td>7.48919</td>\n      <td>1.32867</td>\n      <td>2</td>\n      <td>4</td>\n      <td>...</td>\n      <td>0</td>\n      <td>1</td>\n      <td>0</td>\n      <td>1</td>\n      <td>0</td>\n      <td>0</td>\n      <td>0</td>\n      <td>0</td>\n      <td>100103</td>\n      <td>100103</td>\n    </tr>\n    <tr>\n      <th>673</th>\n      <td>822</td>\n      <td>Carcassonne</td>\n      <td>carcassonne tileplacement game player draw pla...</td>\n      <td>2000</td>\n      <td>1.9064</td>\n      <td>7.41883</td>\n      <td>7.30890</td>\n      <td>1.30503</td>\n      <td>2</td>\n      <td>5</td>\n      <td>...</td>\n      <td>0</td>\n      <td>0</td>\n      <td>0</td>\n      <td>1</td>\n      <td>0</td>\n      <td>0</td>\n      <td>0</td>\n      <td>0</td>\n      <td>99559</td>\n      <td>99559</td>\n    </tr>\n    <tr>\n      <th>12</th>\n      <td>13</td>\n      <td>Catan</td>\n      <td>catan settler catan player try dominant force ...</td>\n      <td>1995</td>\n      <td>2.3139</td>\n      <td>7.13746</td>\n      <td>6.97148</td>\n      <td>1.48183</td>\n      <td>3</td>\n      <td>4</td>\n      <td>...</td>\n      <td>0</td>\n      <td>1</td>\n      <td>0</td>\n      <td>1</td>\n      <td>0</td>\n      <td>0</td>\n      <td>0</td>\n      <td>0</td>\n      <td>96426</td>\n      <td>96426</td>\n    </tr>\n    <tr>\n      <th>9861</th>\n      <td>68448</td>\n      <td>7 Wonders</td>\n      <td>leader   great city ancient world gather resou...</td>\n      <td>2010</td>\n      <td>2.3258</td>\n      <td>7.73733</td>\n      <td>7.63557</td>\n      <td>1.27611</td>\n      <td>2</td>\n      <td>7</td>\n      <td>...</td>\n      <td>0</td>\n      <td>1</td>\n      <td>0</td>\n      <td>1</td>\n      <td>0</td>\n      <td>0</td>\n      <td>0</td>\n      <td>0</td>\n      <td>84002</td>\n      <td>84002</td>\n    </tr>\n    <tr>\n      <th>8459</th>\n      <td>36218</td>\n      <td>Dominion</td>\n      <td>quotyou monarch like parent ruler small pleasa...</td>\n      <td>2008</td>\n      <td>2.3547</td>\n      <td>7.61081</td>\n      <td>7.49999</td>\n      <td>1.42440</td>\n      <td>2</td>\n      <td>4</td>\n      <td>...</td>\n      <td>0</td>\n      <td>1</td>\n      <td>0</td>\n      <td>0</td>\n      <td>0</td>\n      <td>0</td>\n      <td>0</td>\n      <td>0</td>\n      <td>76222</td>\n      <td>76222</td>\n    </tr>\n    <tr>\n      <th>...</th>\n      <td>...</td>\n      <td>...</td>\n      <td>...</td>\n      <td>...</td>\n      <td>...</td>\n      <td>...</td>\n      <td>...</td>\n      <td>...</td>\n      <td>...</td>\n      <td>...</td>\n      <td>...</td>\n      <td>...</td>\n      <td>...</td>\n      <td>...</td>\n      <td>...</td>\n      <td>...</td>\n      <td>...</td>\n      <td>...</td>\n      <td>...</td>\n      <td>...</td>\n      <td>...</td>\n    </tr>\n    <tr>\n      <th>17506</th>\n      <td>228370</td>\n      <td>TerroriXico</td>\n      <td>description designeracross age terrifying mexi...</td>\n      <td>2018</td>\n      <td>2.5000</td>\n      <td>9.42857</td>\n      <td>5.50463</td>\n      <td>1.69513</td>\n      <td>2</td>\n      <td>4</td>\n      <td>...</td>\n      <td>0</td>\n      <td>0</td>\n      <td>0</td>\n      <td>0</td>\n      <td>0</td>\n      <td>0</td>\n      <td>0</td>\n      <td>0</td>\n      <td>11</td>\n      <td>11</td>\n    </tr>\n    <tr>\n      <th>13019</th>\n      <td>151070</td>\n      <td>Gladiatoris</td>\n      <td>gladiatoris board game     player   future exp...</td>\n      <td>2009</td>\n      <td>2.8000</td>\n      <td>9.22742</td>\n      <td>5.51917</td>\n      <td>1.15002</td>\n      <td>1</td>\n      <td>6</td>\n      <td>...</td>\n      <td>0</td>\n      <td>1</td>\n      <td>1</td>\n      <td>0</td>\n      <td>0</td>\n      <td>0</td>\n      <td>0</td>\n      <td>0</td>\n      <td>11</td>\n      <td>11</td>\n    </tr>\n    <tr>\n      <th>14281</th>\n      <td>171500</td>\n      <td>El Dorado Canyon</td>\n      <td>el dorado canyon simultaneousaction selection ...</td>\n      <td>2015</td>\n      <td>1.7500</td>\n      <td>8.73600</td>\n      <td>5.51732</td>\n      <td>1.15625</td>\n      <td>4</td>\n      <td>6</td>\n      <td>...</td>\n      <td>0</td>\n      <td>0</td>\n      <td>0</td>\n      <td>0</td>\n      <td>0</td>\n      <td>0</td>\n      <td>0</td>\n      <td>0</td>\n      <td>11</td>\n      <td>11</td>\n    </tr>\n    <tr>\n      <th>20662</th>\n      <td>290500</td>\n      <td>Flip &amp; Fish</td>\n      <td>flip amp fish fast paced competitive   player ...</td>\n      <td>2019</td>\n      <td>1.0000</td>\n      <td>9.13667</td>\n      <td>5.51644</td>\n      <td>1.03682</td>\n      <td>2</td>\n      <td>4</td>\n      <td>...</td>\n      <td>0</td>\n      <td>0</td>\n      <td>0</td>\n      <td>0</td>\n      <td>0</td>\n      <td>0</td>\n      <td>0</td>\n      <td>0</td>\n      <td>10</td>\n      <td>10</td>\n    </tr>\n    <tr>\n      <th>16504</th>\n      <td>207203</td>\n      <td>War Titans: Invaders Must Die!</td>\n      <td>description publisherwar titan crawl chaos gam...</td>\n      <td>0</td>\n      <td>3.0000</td>\n      <td>9.24138</td>\n      <td>5.50649</td>\n      <td>1.77444</td>\n      <td>1</td>\n      <td>4</td>\n      <td>...</td>\n      <td>0</td>\n      <td>0</td>\n      <td>0</td>\n      <td>0</td>\n      <td>0</td>\n      <td>0</td>\n      <td>0</td>\n      <td>0</td>\n      <td>10</td>\n      <td>10</td>\n    </tr>\n  </tbody>\n</table>\n<p>21919 rows × 50 columns</p>\n</div>"
     },
     "execution_count": 11,
     "metadata": {},
     "output_type": "execute_result"
    }
   ],
   "source": [
    "games_ordered_by_number_of_ratings = games.merge(most_rated_games, on='BGGId', how='inner').sort_values('Rating',\n",
    "                                                                                                        ascending=False)\n",
    "games_ordered_by_number_of_ratings"
   ],
   "metadata": {
    "collapsed": false,
    "ExecuteTime": {
     "end_time": "2023-06-04T19:13:26.775778Z",
     "start_time": "2023-06-04T19:13:26.672785Z"
    }
   }
  },
  {
   "cell_type": "code",
   "execution_count": 12,
   "outputs": [],
   "source": [
    "export_to_json_as_list(games_ordered_by_number_of_ratings, os.path.join(db_dir, 'gamesOrderedByNumberOfRatings.json'))"
   ],
   "metadata": {
    "collapsed": false,
    "ExecuteTime": {
     "end_time": "2023-06-04T19:13:26.907039Z",
     "start_time": "2023-06-04T19:13:26.740803Z"
    }
   }
  },
  {
   "cell_type": "markdown",
   "source": [
    "## Export mock data"
   ],
   "metadata": {
    "collapsed": false
   }
  },
  {
   "cell_type": "code",
   "execution_count": 13,
   "outputs": [],
   "source": [
    "export_to_json_as_list(games_ordered_by_name, os.path.join(mock_dir, 'gamesOrderedByNameMock.json'), n=50)\n",
    "export_to_json_as_list(games_ordered_by_rank, os.path.join(mock_dir, 'gamesOrderedByRankMock.json'), n=50)\n",
    "export_to_json_as_list(games_ordered_by_number_of_ratings,\n",
    "                       os.path.join(mock_dir, 'gamesOrderedByNumberOfRatingsMock.json'), n=50)"
   ],
   "metadata": {
    "collapsed": false,
    "ExecuteTime": {
     "end_time": "2023-06-04T19:13:26.908652Z",
     "start_time": "2023-06-04T19:13:26.853470Z"
    }
   }
  },
  {
   "cell_type": "code",
   "execution_count": 13,
   "outputs": [],
   "source": [],
   "metadata": {
    "collapsed": false,
    "ExecuteTime": {
     "end_time": "2023-06-04T19:13:26.908858Z",
     "start_time": "2023-06-04T19:13:26.892215Z"
    }
   }
  }
 ],
 "metadata": {
  "kernelspec": {
   "display_name": "Python 3",
   "language": "python",
   "name": "python3"
  },
  "language_info": {
   "codemirror_mode": {
    "name": "ipython",
    "version": 2
   },
   "file_extension": ".py",
   "mimetype": "text/x-python",
   "name": "python",
   "nbconvert_exporter": "python",
   "pygments_lexer": "ipython2",
   "version": "2.7.6"
  }
 },
 "nbformat": 4,
 "nbformat_minor": 0
}
