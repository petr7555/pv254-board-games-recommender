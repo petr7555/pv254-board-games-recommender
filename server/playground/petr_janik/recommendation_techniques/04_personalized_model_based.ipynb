{
 "cells": [
  {
   "cell_type": "markdown",
   "source": [
    "## Main CF Techniques\n",
    "2. model based = model \"taste\" of users and \"features\" of items\n",
    "  2.1. matrix factorization – latent factors (e.g. SVD)"
   ],
   "metadata": {
    "collapsed": false
   }
  },
  {
   "cell_type": "markdown",
   "source": [
    "### 2.1 Matrix Factorization CF\n",
    "- main idea: use latent factors of users/items to predict ratings – related to SVD"
   ],
   "metadata": {
    "collapsed": false
   }
  },
  {
   "cell_type": "code",
   "execution_count": 131,
   "outputs": [
    {
     "data": {
      "text/plain": "       Item1  Item2  Item3  Item4\nAlice      5      3      4      4\nUser1      3      1      2      3\nUser2      4      3      4      3\nUser3      3      3      1      5\nUser4      1      5      5      2",
      "text/html": "<div>\n<style scoped>\n    .dataframe tbody tr th:only-of-type {\n        vertical-align: middle;\n    }\n\n    .dataframe tbody tr th {\n        vertical-align: top;\n    }\n\n    .dataframe thead th {\n        text-align: right;\n    }\n</style>\n<table border=\"1\" class=\"dataframe\">\n  <thead>\n    <tr style=\"text-align: right;\">\n      <th></th>\n      <th>Item1</th>\n      <th>Item2</th>\n      <th>Item3</th>\n      <th>Item4</th>\n    </tr>\n  </thead>\n  <tbody>\n    <tr>\n      <th>Alice</th>\n      <td>5</td>\n      <td>3</td>\n      <td>4</td>\n      <td>4</td>\n    </tr>\n    <tr>\n      <th>User1</th>\n      <td>3</td>\n      <td>1</td>\n      <td>2</td>\n      <td>3</td>\n    </tr>\n    <tr>\n      <th>User2</th>\n      <td>4</td>\n      <td>3</td>\n      <td>4</td>\n      <td>3</td>\n    </tr>\n    <tr>\n      <th>User3</th>\n      <td>3</td>\n      <td>3</td>\n      <td>1</td>\n      <td>5</td>\n    </tr>\n    <tr>\n      <th>User4</th>\n      <td>1</td>\n      <td>5</td>\n      <td>5</td>\n      <td>2</td>\n    </tr>\n  </tbody>\n</table>\n</div>"
     },
     "execution_count": 131,
     "metadata": {},
     "output_type": "execute_result"
    }
   ],
   "source": [
    "import numpy as np\n",
    "import pandas as pd\n",
    "\n",
    "dense_df = pd.DataFrame(\n",
    "    {\n",
    "        'Item1': [5, 3, 4, 3, 1],\n",
    "        'Item2': [3, 1, 3, 3, 5],\n",
    "        'Item3': [4, 2, 4, 1, 5],\n",
    "        'Item4': [4, 3, 3, 5, 2],\n",
    "    }, index=['Alice', 'User1', 'User2', 'User3', 'User4'])\n",
    "dense_df"
   ],
   "metadata": {
    "collapsed": false
   }
  },
  {
   "cell_type": "markdown",
   "source": [
    "#### 2.1.1. Singular Value Decomposition\n",
    "- works only with full matrix, but ratings are sparse matrix\n",
    "- solutions:\n",
    "  - value imputation – expensive, imprecise + it kind of defeats the purpose – we want to predict the missing values\n",
    "  - alternative algorithms (greedy, heuristic):\n",
    "    - gradient descent\n",
    "    - alternating least squares\n",
    "\n",
    "X – matrix of ratings\n",
    "U – user-factors strengths\n",
    "V – item-factors strengths\n",
    "S – importance of factors"
   ],
   "metadata": {
    "collapsed": false
   }
  },
  {
   "cell_type": "code",
   "execution_count": 132,
   "outputs": [
    {
     "data": {
      "text/plain": "((5, 4), (4,), (4, 4))"
     },
     "execution_count": 132,
     "metadata": {},
     "output_type": "execute_result"
    }
   ],
   "source": [
    "x = dense_df.values\n",
    "u, s, vh = np.linalg.svd(x, full_matrices=False)\n",
    "u.shape, s.shape, vh.shape"
   ],
   "metadata": {
    "collapsed": false
   }
  },
  {
   "cell_type": "code",
   "execution_count": 133,
   "outputs": [
    {
     "data": {
      "text/plain": "<Figure size 640x480 with 1 Axes>",
      "image/png": "[encoded data removed]"
     },
     "metadata": {},
     "output_type": "display_data"
    }
   ],
   "source": [
    "import matplotlib.pyplot as plt\n",
    "\n",
    "plt.scatter(u[:, 0], u[:, 1])\n",
    "for i, txt in enumerate(dense_df.index):\n",
    "    plt.annotate(txt, (u[i, 0], u[i, 1]))\n",
    "\n",
    "plt.scatter(vh[0, :], vh[1, :])\n",
    "for i, txt in enumerate(dense_df.columns):\n",
    "    plt.annotate(txt, (vh[0, i], vh[1, i]))\n",
    "plt.show()\n"
   ],
   "metadata": {
    "collapsed": false
   }
  },
  {
   "cell_type": "markdown",
   "source": [
    "##### My notes:\n",
    "- Dimensionality reduction methods, such as SVD, are mostly being used as complementary technique to improve robustness and accuracy of memory-based approach (i.e. the neighborhood algorithms).\n",
    "- SVD compresses user-item matrix into a low-dimensional representation in terms of latent factors.\n",
    "    - For example, using 2 latent factors: "
   ],
   "metadata": {
    "collapsed": false
   }
  },
  {
   "cell_type": "code",
   "execution_count": 134,
   "outputs": [
    {
     "data": {
      "text/plain": "array([[5, 3, 4, 4],\n       [3, 1, 2, 3],\n       [4, 3, 4, 3],\n       [3, 3, 1, 5],\n       [1, 5, 5, 2]])"
     },
     "execution_count": 134,
     "metadata": {},
     "output_type": "execute_result"
    }
   ],
   "source": [
    "# original\n",
    "x"
   ],
   "metadata": {
    "collapsed": false
   }
  },
  {
   "cell_type": "code",
   "execution_count": 135,
   "outputs": [
    {
     "data": {
      "text/plain": "array([[4.42941411, 3.41492696, 3.6207907 , 4.54626264],\n       [2.95960793, 1.51930945, 1.54618642, 3.01070624],\n       [3.43046398, 3.38252933, 3.64905693, 3.5470631 ],\n       [3.99840948, 1.93732763, 1.95690895, 4.06336525],\n       [1.42662221, 4.69291834, 5.28078145, 1.59138396]])"
     },
     "execution_count": 135,
     "metadata": {},
     "output_type": "execute_result"
    }
   ],
   "source": [
    "n_components = 2\n",
    "u[:, :n_components] @ np.diag(s[:n_components]) @ vh[:n_components, :]"
   ],
   "metadata": {
    "collapsed": false
   }
  },
  {
   "cell_type": "markdown",
   "source": [
    "- Another matrix factorization technique is NMF (non-negative matrix factorization):"
   ],
   "metadata": {
    "collapsed": false
   }
  },
  {
   "cell_type": "code",
   "execution_count": 136,
   "outputs": [
    {
     "name": "stdout",
     "output_type": "stream",
     "text": [
      "(5, 2) (2, 4)\n"
     ]
    },
    {
     "data": {
      "text/plain": "array([[4.42917035, 3.4151088 , 3.62080026, 4.54622131],\n       [2.95941515, 1.51946877, 1.54613438, 3.01074468],\n       [3.43029583, 3.38263828, 3.64912682, 3.54695905],\n       [3.99853331, 1.93732728, 1.95655085, 4.06380787],\n       [1.42692803, 4.69266007, 5.28088517, 1.59129768]])"
     },
     "execution_count": 136,
     "metadata": {},
     "output_type": "execute_result"
    }
   ],
   "source": [
    "from sklearn.decomposition import NMF\n",
    "\n",
    "model = NMF(n_components=n_components, init='random', random_state=0)\n",
    "w = model.fit_transform(x)\n",
    "h = model.components_\n",
    "\n",
    "print(w.shape, h.shape)\n",
    "\n",
    "w @ h"
   ],
   "metadata": {
    "collapsed": false
   }
  },
  {
   "cell_type": "markdown",
   "source": [
    "### 2.2. Simple Baseline Predictors\n",
    "1. naive: global mean"
   ],
   "metadata": {
    "collapsed": false
   }
  },
  {
   "cell_type": "code",
   "execution_count": 137,
   "outputs": [
    {
     "data": {
      "text/plain": "       Item1  Item2  Item3  Item4  Item5\nAlice      5      3      4      4    NaN\nUser1      3      1      2      3    3.0\nUser2      4      3      4      3    5.0\nUser3      3      3      1      5    4.0\nUser4      1      5      5      2    1.0",
      "text/html": "<div>\n<style scoped>\n    .dataframe tbody tr th:only-of-type {\n        vertical-align: middle;\n    }\n\n    .dataframe tbody tr th {\n        vertical-align: top;\n    }\n\n    .dataframe thead th {\n        text-align: right;\n    }\n</style>\n<table border=\"1\" class=\"dataframe\">\n  <thead>\n    <tr style=\"text-align: right;\">\n      <th></th>\n      <th>Item1</th>\n      <th>Item2</th>\n      <th>Item3</th>\n      <th>Item4</th>\n      <th>Item5</th>\n    </tr>\n  </thead>\n  <tbody>\n    <tr>\n      <th>Alice</th>\n      <td>5</td>\n      <td>3</td>\n      <td>4</td>\n      <td>4</td>\n      <td>NaN</td>\n    </tr>\n    <tr>\n      <th>User1</th>\n      <td>3</td>\n      <td>1</td>\n      <td>2</td>\n      <td>3</td>\n      <td>3.0</td>\n    </tr>\n    <tr>\n      <th>User2</th>\n      <td>4</td>\n      <td>3</td>\n      <td>4</td>\n      <td>3</td>\n      <td>5.0</td>\n    </tr>\n    <tr>\n      <th>User3</th>\n      <td>3</td>\n      <td>3</td>\n      <td>1</td>\n      <td>5</td>\n      <td>4.0</td>\n    </tr>\n    <tr>\n      <th>User4</th>\n      <td>1</td>\n      <td>5</td>\n      <td>5</td>\n      <td>2</td>\n      <td>1.0</td>\n    </tr>\n  </tbody>\n</table>\n</div>"
     },
     "execution_count": 137,
     "metadata": {},
     "output_type": "execute_result"
    }
   ],
   "source": [
    "sample_df = pd.DataFrame(\n",
    "    {\n",
    "        'Item1': [5, 3, 4, 3, 1],\n",
    "        'Item2': [3, 1, 3, 3, 5],\n",
    "        'Item3': [4, 2, 4, 1, 5],\n",
    "        'Item4': [4, 3, 3, 5, 2],\n",
    "        'Item5': [None, 3, 5, 4, 1],\n",
    "    }, index=['Alice', 'User1', 'User2', 'User3', 'User4'])\n",
    "sample_df"
   ],
   "metadata": {
    "collapsed": false
   }
  },
  {
   "cell_type": "code",
   "execution_count": 138,
   "outputs": [
    {
     "data": {
      "text/plain": "3.21"
     },
     "execution_count": 138,
     "metadata": {},
     "output_type": "execute_result"
    }
   ],
   "source": [
    "def naive_prediction(df):\n",
    "    return df.mean().mean()\n",
    "\n",
    "\n",
    "naive_prediction(sample_df)"
   ],
   "metadata": {
    "collapsed": false
   }
  },
  {
   "cell_type": "markdown",
   "source": [
    "2. naive with biases (average deviations): global mean + user bias + item bias\n",
    "  - some users/items – systematically larger/lower ratings"
   ],
   "metadata": {
    "collapsed": false
   }
  },
  {
   "cell_type": "code",
   "execution_count": 139,
   "outputs": [
    {
     "data": {
      "text/plain": "4.04"
     },
     "execution_count": 139,
     "metadata": {},
     "output_type": "execute_result"
    }
   ],
   "source": [
    "def naive_prediction_with_biases(df, user, item):\n",
    "    global_mean = df.mean().mean()\n",
    "    user_bias = df.loc[user, :].mean() - global_mean\n",
    "    item_bias = df.loc[:, item].mean() - global_mean\n",
    "    return global_mean + user_bias + item_bias\n",
    "\n",
    "\n",
    "naive_prediction_with_biases(sample_df, 'Alice', 'Item5')"
   ],
   "metadata": {
    "collapsed": false
   }
  },
  {
   "cell_type": "markdown",
   "source": [
    "#### 2.1.2. Gradient Descent\n",
    "1. assuming centered data without bias\n",
    "  - user-item interaction via latent factors\n",
    "  - we need to find qi, pu from the data (finding qi, pu at the same time\n",
    "  - we want to minimize \"squared errors\"\n",
    "     - we want to find q and p that minimize the sum of squared errors\n",
    "     - in addition, we use regularization to avoid overfitting and therefore minimize the sum of squared errors + `lambda * (norm(qi)^2 + norm(pu)^2)`\n",
    "     - we can use gradient descent\n",
    "       - greedy, may not find the global minimum"
   ],
   "metadata": {
    "collapsed": false
   }
  },
  {
   "cell_type": "code",
   "execution_count": 140,
   "outputs": [
    {
     "name": "stdout",
     "output_type": "stream",
     "text": [
      "206.55411593375243\n",
      "25.895740851430112\n",
      "10.482456530686745\n",
      "8.201815235395841\n",
      "7.939739056144335\n",
      "7.906157308468221\n",
      "7.900985012958545\n",
      "7.899943885645326\n",
      "7.899674087942278\n",
      "7.89959369502714\n"
     ]
    }
   ],
   "source": [
    "def collaborative_filtering_gradient_descent(df, epochs, lr, reg):\n",
    "    # initialize q, p\n",
    "    np.random.seed(0)\n",
    "    q = np.random.rand(df.shape[1], 2)\n",
    "    p = np.random.rand(df.shape[0], 2)\n",
    "    # iterate over epochs\n",
    "    for epoch in range(epochs):\n",
    "        if epoch % 100 == 0:\n",
    "            total_error = np.nansum(np.square(df.values - np.dot(p, q.T)))\n",
    "            print(total_error)\n",
    "        # iterate over users\n",
    "        for user in range(df.shape[0]):\n",
    "            # iterate over items\n",
    "            for item in range(df.shape[1]):\n",
    "                # if rating exists\n",
    "                if not np.isnan(df.iloc[user, item]):\n",
    "                    # compute error\n",
    "                    error = df.iloc[user, item] - np.dot(q[item, :], p[user, :])\n",
    "                    # update q, p\n",
    "                    q[item, :] += lr * (error * p[user, :] - reg * q[item, :])\n",
    "                    p[user, :] += lr * (error * q[item, :] - reg * p[user, :])\n",
    "    return q, p\n",
    "\n",
    "\n",
    "q, p = collaborative_filtering_gradient_descent(sample_df, epochs=1000, lr=0.005, reg=0.02)"
   ],
   "metadata": {
    "collapsed": false
   }
  },
  {
   "cell_type": "code",
   "execution_count": 141,
   "outputs": [
    {
     "data": {
      "text/plain": "       Item1  Item2  Item3  Item4  Item5\nAlice      5      3      4      4    NaN\nUser1      3      1      2      3    3.0\nUser2      4      3      4      3    5.0\nUser3      3      3      1      5    4.0\nUser4      1      5      5      2    1.0",
      "text/html": "<div>\n<style scoped>\n    .dataframe tbody tr th:only-of-type {\n        vertical-align: middle;\n    }\n\n    .dataframe tbody tr th {\n        vertical-align: top;\n    }\n\n    .dataframe thead th {\n        text-align: right;\n    }\n</style>\n<table border=\"1\" class=\"dataframe\">\n  <thead>\n    <tr style=\"text-align: right;\">\n      <th></th>\n      <th>Item1</th>\n      <th>Item2</th>\n      <th>Item3</th>\n      <th>Item4</th>\n      <th>Item5</th>\n    </tr>\n  </thead>\n  <tbody>\n    <tr>\n      <th>Alice</th>\n      <td>5</td>\n      <td>3</td>\n      <td>4</td>\n      <td>4</td>\n      <td>NaN</td>\n    </tr>\n    <tr>\n      <th>User1</th>\n      <td>3</td>\n      <td>1</td>\n      <td>2</td>\n      <td>3</td>\n      <td>3.0</td>\n    </tr>\n    <tr>\n      <th>User2</th>\n      <td>4</td>\n      <td>3</td>\n      <td>4</td>\n      <td>3</td>\n      <td>5.0</td>\n    </tr>\n    <tr>\n      <th>User3</th>\n      <td>3</td>\n      <td>3</td>\n      <td>1</td>\n      <td>5</td>\n      <td>4.0</td>\n    </tr>\n    <tr>\n      <th>User4</th>\n      <td>1</td>\n      <td>5</td>\n      <td>5</td>\n      <td>2</td>\n      <td>1.0</td>\n    </tr>\n  </tbody>\n</table>\n</div>"
     },
     "metadata": {},
     "output_type": "display_data"
    },
    {
     "data": {
      "text/plain": "          Item1     Item2     Item3     Item4     Item5\nAlice  4.446579  3.355843  3.599210  4.494487  5.066095\nUser1  2.825098  1.488435  1.586983  2.789904  3.242849\nUser2  3.835095  3.319151  3.566057  3.919729  4.353480\nUser3  3.757385  1.953238  2.082008  3.707886  4.313985\nUser4  1.183219  4.748873  5.149538  1.589134  1.203420",
      "text/html": "<div>\n<style scoped>\n    .dataframe tbody tr th:only-of-type {\n        vertical-align: middle;\n    }\n\n    .dataframe tbody tr th {\n        vertical-align: top;\n    }\n\n    .dataframe thead th {\n        text-align: right;\n    }\n</style>\n<table border=\"1\" class=\"dataframe\">\n  <thead>\n    <tr style=\"text-align: right;\">\n      <th></th>\n      <th>Item1</th>\n      <th>Item2</th>\n      <th>Item3</th>\n      <th>Item4</th>\n      <th>Item5</th>\n    </tr>\n  </thead>\n  <tbody>\n    <tr>\n      <th>Alice</th>\n      <td>4.446579</td>\n      <td>3.355843</td>\n      <td>3.599210</td>\n      <td>4.494487</td>\n      <td>5.066095</td>\n    </tr>\n    <tr>\n      <th>User1</th>\n      <td>2.825098</td>\n      <td>1.488435</td>\n      <td>1.586983</td>\n      <td>2.789904</td>\n      <td>3.242849</td>\n    </tr>\n    <tr>\n      <th>User2</th>\n      <td>3.835095</td>\n      <td>3.319151</td>\n      <td>3.566057</td>\n      <td>3.919729</td>\n      <td>4.353480</td>\n    </tr>\n    <tr>\n      <th>User3</th>\n      <td>3.757385</td>\n      <td>1.953238</td>\n      <td>2.082008</td>\n      <td>3.707886</td>\n      <td>4.313985</td>\n    </tr>\n    <tr>\n      <th>User4</th>\n      <td>1.183219</td>\n      <td>4.748873</td>\n      <td>5.149538</td>\n      <td>1.589134</td>\n      <td>1.203420</td>\n    </tr>\n  </tbody>\n</table>\n</div>"
     },
     "execution_count": 141,
     "metadata": {},
     "output_type": "execute_result"
    }
   ],
   "source": [
    "# compare actual and predicted values\n",
    "display(sample_df)\n",
    "predictions = pd.DataFrame(np.dot(p, q.T), index=sample_df.index, columns=sample_df.columns)\n",
    "predictions"
   ],
   "metadata": {
    "collapsed": false
   }
  },
  {
   "cell_type": "markdown",
   "source": [
    "=> we predict rating 5.07 for Alice for Item5"
   ],
   "metadata": {
    "collapsed": false
   }
  },
  {
   "cell_type": "code",
   "execution_count": 142,
   "outputs": [
    {
     "data": {
      "text/plain": "41.9584"
     },
     "execution_count": 142,
     "metadata": {},
     "output_type": "execute_result"
    }
   ],
   "source": [
    "error_of_naive_prediction = np.nansum(np.square(sample_df.values - naive_prediction(sample_df)))\n",
    "error_of_naive_prediction"
   ],
   "metadata": {
    "collapsed": false
   }
  },
  {
   "cell_type": "code",
   "execution_count": 143,
   "outputs": [
    {
     "data": {
      "text/plain": "7.89956932983259"
     },
     "execution_count": 143,
     "metadata": {},
     "output_type": "execute_result"
    }
   ],
   "source": [
    "error_of_cf = np.nansum(np.square(sample_df.values - predictions.values))\n",
    "error_of_cf"
   ],
   "metadata": {
    "collapsed": false
   }
  },
  {
   "cell_type": "markdown",
   "source": [
    "2. with bias\n",
    "  - prediction = global mean + user bias + item bias + user-item interaction\n",
    "    - (as opposed to prediction = user-item interaction)\n",
    "    - _user-item interaction_ is `np.dot(p, q.T)`\n",
    "  - we minimize the sum of squared errors + `lambda * (norm(qi)^2 + norm(pu)^2) + b_u^2 + b_i^2)`"
   ],
   "metadata": {
    "collapsed": false
   }
  },
  {
   "cell_type": "markdown",
   "source": [
    "##### Improvements\n",
    "- additional data sources (implicit ratings)\n",
    "- varying confidence level\n",
    "- temporal dynamics"
   ],
   "metadata": {
    "collapsed": false
   }
  },
  {
   "cell_type": "markdown",
   "source": [
    "### 2.3. Slope One\n",
    "- item-based CF\n",
    "- like linear regression, but the slope is 1: `f(x) = x + b`\n",
    "- reduces overfitting, improves performance, easy implementation\n",
    "- single free paremeter `b`, which is the average difference between two items' ratings"
   ],
   "metadata": {
    "collapsed": false
   }
  },
  {
   "cell_type": "code",
   "execution_count": 144,
   "outputs": [
    {
     "data": {
      "text/plain": "      ItemA  ItemB  ItemC\nJohn    5.0      3    2.0\nMark    3.0      4    NaN\nLucy    NaN      2    5.0",
      "text/html": "<div>\n<style scoped>\n    .dataframe tbody tr th:only-of-type {\n        vertical-align: middle;\n    }\n\n    .dataframe tbody tr th {\n        vertical-align: top;\n    }\n\n    .dataframe thead th {\n        text-align: right;\n    }\n</style>\n<table border=\"1\" class=\"dataframe\">\n  <thead>\n    <tr style=\"text-align: right;\">\n      <th></th>\n      <th>ItemA</th>\n      <th>ItemB</th>\n      <th>ItemC</th>\n    </tr>\n  </thead>\n  <tbody>\n    <tr>\n      <th>John</th>\n      <td>5.0</td>\n      <td>3</td>\n      <td>2.0</td>\n    </tr>\n    <tr>\n      <th>Mark</th>\n      <td>3.0</td>\n      <td>4</td>\n      <td>NaN</td>\n    </tr>\n    <tr>\n      <th>Lucy</th>\n      <td>NaN</td>\n      <td>2</td>\n      <td>5.0</td>\n    </tr>\n  </tbody>\n</table>\n</div>"
     },
     "execution_count": 144,
     "metadata": {},
     "output_type": "execute_result"
    }
   ],
   "source": [
    "slope_one_df = pd.DataFrame(\n",
    "    {\n",
    "        'ItemA': [5, 3, None],\n",
    "        'ItemB': [3, 4, 2],\n",
    "        'ItemC': [2, None, 5],\n",
    "    }, index=['John', 'Mark', 'Lucy'])\n",
    "slope_one_df"
   ],
   "metadata": {
    "collapsed": false
   }
  },
  {
   "cell_type": "code",
   "execution_count": 145,
   "outputs": [
    {
     "data": {
      "text/plain": "       ItemA  ItemB  ItemC\nItemA    0.0    0.5      3\nItemB   -0.5    0.0     -1\nItemC   -3.0    1.0      0",
      "text/html": "<div>\n<style scoped>\n    .dataframe tbody tr th:only-of-type {\n        vertical-align: middle;\n    }\n\n    .dataframe tbody tr th {\n        vertical-align: top;\n    }\n\n    .dataframe thead th {\n        text-align: right;\n    }\n</style>\n<table border=\"1\" class=\"dataframe\">\n  <thead>\n    <tr style=\"text-align: right;\">\n      <th></th>\n      <th>ItemA</th>\n      <th>ItemB</th>\n      <th>ItemC</th>\n    </tr>\n  </thead>\n  <tbody>\n    <tr>\n      <th>ItemA</th>\n      <td>0.0</td>\n      <td>0.5</td>\n      <td>3</td>\n    </tr>\n    <tr>\n      <th>ItemB</th>\n      <td>-0.5</td>\n      <td>0.0</td>\n      <td>-1</td>\n    </tr>\n    <tr>\n      <th>ItemC</th>\n      <td>-3.0</td>\n      <td>1.0</td>\n      <td>0</td>\n    </tr>\n  </tbody>\n</table>\n</div>"
     },
     "execution_count": 145,
     "metadata": {},
     "output_type": "execute_result"
    }
   ],
   "source": [
    "def get_average_diff_df(df):\n",
    "    avg_diff = pd.DataFrame(0, index=df.columns, columns=df.columns)\n",
    "    for item1 in df.columns:\n",
    "        for item2 in df.columns:\n",
    "            if item1 != item2:\n",
    "                avg_diff.loc[item1, item2] = (df[item1] - df[item2]).mean()\n",
    "    return avg_diff\n",
    "\n",
    "\n",
    "avg_diff_df = get_average_diff_df(slope_one_df)\n",
    "avg_diff_df"
   ],
   "metadata": {
    "collapsed": false
   }
  },
  {
   "cell_type": "code",
   "execution_count": 146,
   "outputs": [
    {
     "data": {
      "text/plain": "       ItemA  ItemB  ItemC\nItemA      0      2      1\nItemB      2      0      2\nItemC      1      2      0",
      "text/html": "<div>\n<style scoped>\n    .dataframe tbody tr th:only-of-type {\n        vertical-align: middle;\n    }\n\n    .dataframe tbody tr th {\n        vertical-align: top;\n    }\n\n    .dataframe thead th {\n        text-align: right;\n    }\n</style>\n<table border=\"1\" class=\"dataframe\">\n  <thead>\n    <tr style=\"text-align: right;\">\n      <th></th>\n      <th>ItemA</th>\n      <th>ItemB</th>\n      <th>ItemC</th>\n    </tr>\n  </thead>\n  <tbody>\n    <tr>\n      <th>ItemA</th>\n      <td>0</td>\n      <td>2</td>\n      <td>1</td>\n    </tr>\n    <tr>\n      <th>ItemB</th>\n      <td>2</td>\n      <td>0</td>\n      <td>2</td>\n    </tr>\n    <tr>\n      <th>ItemC</th>\n      <td>1</td>\n      <td>2</td>\n      <td>0</td>\n    </tr>\n  </tbody>\n</table>\n</div>"
     },
     "execution_count": 146,
     "metadata": {},
     "output_type": "execute_result"
    }
   ],
   "source": [
    "# predictions are combined using a weighted average where the weight is the number of users having rated both items\n",
    "def get_weights_df(df):\n",
    "    weights = pd.DataFrame(0, index=df.columns, columns=df.columns)\n",
    "    for item1 in df.columns:\n",
    "        for item2 in df.columns:\n",
    "            if item1 != item2:\n",
    "                weights.loc[item1, item2] = sum(df[item1].notnull() & df[item2].notnull())\n",
    "    return weights\n",
    "\n",
    "\n",
    "weights_df = get_weights_df(slope_one_df)\n",
    "weights_df"
   ],
   "metadata": {
    "collapsed": false
   }
  },
  {
   "cell_type": "code",
   "execution_count": 147,
   "outputs": [
    {
     "data": {
      "text/plain": "4.333333333333333"
     },
     "execution_count": 147,
     "metadata": {},
     "output_type": "execute_result"
    }
   ],
   "source": [
    "def get_prediction_for_user(df, avg_diff, weights, user, item):\n",
    "    prediction = 0\n",
    "    for item2 in df.columns:\n",
    "        if item2 != item:\n",
    "            users_rating = df.loc[user, item2]\n",
    "            if not np.isnan(users_rating):\n",
    "                prediction += (users_rating + avg_diff.loc[item, item2]) * weights.loc[item, item2]\n",
    "    prediction /= weights.loc[item, :].sum()\n",
    "    return prediction\n",
    "\n",
    "\n",
    "get_prediction_for_user(slope_one_df, avg_diff_df, weights_df, 'Lucy', 'ItemA')"
   ],
   "metadata": {
    "collapsed": false
   }
  },
  {
   "cell_type": "code",
   "execution_count": 148,
   "outputs": [
    {
     "data": {
      "text/plain": "         ItemA  ItemB     ItemC\nJohn  4.000000   2.75  3.333333\nMark  3.000000   1.25  3.333333\nLucy  4.333333   2.00  2.000000",
      "text/html": "<div>\n<style scoped>\n    .dataframe tbody tr th:only-of-type {\n        vertical-align: middle;\n    }\n\n    .dataframe tbody tr th {\n        vertical-align: top;\n    }\n\n    .dataframe thead th {\n        text-align: right;\n    }\n</style>\n<table border=\"1\" class=\"dataframe\">\n  <thead>\n    <tr style=\"text-align: right;\">\n      <th></th>\n      <th>ItemA</th>\n      <th>ItemB</th>\n      <th>ItemC</th>\n    </tr>\n  </thead>\n  <tbody>\n    <tr>\n      <th>John</th>\n      <td>4.000000</td>\n      <td>2.75</td>\n      <td>3.333333</td>\n    </tr>\n    <tr>\n      <th>Mark</th>\n      <td>3.000000</td>\n      <td>1.25</td>\n      <td>3.333333</td>\n    </tr>\n    <tr>\n      <th>Lucy</th>\n      <td>4.333333</td>\n      <td>2.00</td>\n      <td>2.000000</td>\n    </tr>\n  </tbody>\n</table>\n</div>"
     },
     "execution_count": 148,
     "metadata": {},
     "output_type": "execute_result"
    }
   ],
   "source": [
    "def get_slope_one_predictions(df):\n",
    "    avg_diff = get_average_diff_df(df)\n",
    "    weights = get_weights_df(df)\n",
    "\n",
    "    predictions_df = pd.DataFrame(0, index=df.index, columns=df.columns)\n",
    "    for user in df.index:\n",
    "        for item in df.columns:\n",
    "            predictions_df.loc[user, item] = get_prediction_for_user(df, avg_diff, weights, user, item)\n",
    "    return predictions_df\n",
    "\n",
    "\n",
    "get_slope_one_predictions(slope_one_df)"
   ],
   "metadata": {
    "collapsed": false
   }
  },
  {
   "cell_type": "code",
   "execution_count": 149,
   "outputs": [
    {
     "data": {
      "text/plain": "4.25"
     },
     "execution_count": 149,
     "metadata": {},
     "output_type": "execute_result"
    }
   ],
   "source": [
    "get_slope_one_predictions(sample_df).loc['Alice']['Item5']"
   ],
   "metadata": {
    "collapsed": false
   }
  },
  {
   "cell_type": "markdown",
   "source": [
    "### 2.4. Clustering\n",
    "- cluster similar users\n",
    "- \"popularity\" for each cluster\n",
    "\n",
    "#### 2.4.1. K-Means"
   ],
   "metadata": {
    "collapsed": false
   }
  },
  {
   "cell_type": "code",
   "execution_count": 150,
   "outputs": [
    {
     "data": {
      "text/plain": "array([1, 1, 1, 2, 0], dtype=int32)"
     },
     "execution_count": 150,
     "metadata": {},
     "output_type": "execute_result"
    }
   ],
   "source": [
    "from sklearn.cluster import KMeans\n",
    "\n",
    "kmeans = KMeans(n_clusters=3, random_state=0, n_init='auto').fit(dense_df)\n",
    "kmeans.labels_"
   ],
   "metadata": {
    "collapsed": false
   }
  },
  {
   "cell_type": "markdown",
   "source": [
    "=> Alice is in the same cluster as User1 and User2, we can use the average rating of these users as the prediction for Alice"
   ],
   "metadata": {
    "collapsed": false
   }
  },
  {
   "cell_type": "code",
   "execution_count": 151,
   "outputs": [
    {
     "data": {
      "text/plain": "       Item1  Item2  Item3  Item4  Item5\nAlice      5      3      4      4    NaN\nUser1      3      1      2      3    3.0\nUser2      4      3      4      3    5.0\nUser3      3      3      1      5    4.0\nUser4      1      5      5      2    1.0",
      "text/html": "<div>\n<style scoped>\n    .dataframe tbody tr th:only-of-type {\n        vertical-align: middle;\n    }\n\n    .dataframe tbody tr th {\n        vertical-align: top;\n    }\n\n    .dataframe thead th {\n        text-align: right;\n    }\n</style>\n<table border=\"1\" class=\"dataframe\">\n  <thead>\n    <tr style=\"text-align: right;\">\n      <th></th>\n      <th>Item1</th>\n      <th>Item2</th>\n      <th>Item3</th>\n      <th>Item4</th>\n      <th>Item5</th>\n    </tr>\n  </thead>\n  <tbody>\n    <tr>\n      <th>Alice</th>\n      <td>5</td>\n      <td>3</td>\n      <td>4</td>\n      <td>4</td>\n      <td>NaN</td>\n    </tr>\n    <tr>\n      <th>User1</th>\n      <td>3</td>\n      <td>1</td>\n      <td>2</td>\n      <td>3</td>\n      <td>3.0</td>\n    </tr>\n    <tr>\n      <th>User2</th>\n      <td>4</td>\n      <td>3</td>\n      <td>4</td>\n      <td>3</td>\n      <td>5.0</td>\n    </tr>\n    <tr>\n      <th>User3</th>\n      <td>3</td>\n      <td>3</td>\n      <td>1</td>\n      <td>5</td>\n      <td>4.0</td>\n    </tr>\n    <tr>\n      <th>User4</th>\n      <td>1</td>\n      <td>5</td>\n      <td>5</td>\n      <td>2</td>\n      <td>1.0</td>\n    </tr>\n  </tbody>\n</table>\n</div>"
     },
     "execution_count": 151,
     "metadata": {},
     "output_type": "execute_result"
    }
   ],
   "source": [
    "sample_df"
   ],
   "metadata": {
    "collapsed": false
   }
  },
  {
   "cell_type": "code",
   "execution_count": 152,
   "outputs": [
    {
     "data": {
      "text/plain": "   Item1     Item2     Item3     Item4  Item5\n0      1  5.000000  5.000000  2.000000      1\n1      4  2.333333  3.333333  3.333333      4\n2      3  3.000000  1.000000  5.000000      4",
      "text/html": "<div>\n<style scoped>\n    .dataframe tbody tr th:only-of-type {\n        vertical-align: middle;\n    }\n\n    .dataframe tbody tr th {\n        vertical-align: top;\n    }\n\n    .dataframe thead th {\n        text-align: right;\n    }\n</style>\n<table border=\"1\" class=\"dataframe\">\n  <thead>\n    <tr style=\"text-align: right;\">\n      <th></th>\n      <th>Item1</th>\n      <th>Item2</th>\n      <th>Item3</th>\n      <th>Item4</th>\n      <th>Item5</th>\n    </tr>\n  </thead>\n  <tbody>\n    <tr>\n      <th>0</th>\n      <td>1</td>\n      <td>5.000000</td>\n      <td>5.000000</td>\n      <td>2.000000</td>\n      <td>1</td>\n    </tr>\n    <tr>\n      <th>1</th>\n      <td>4</td>\n      <td>2.333333</td>\n      <td>3.333333</td>\n      <td>3.333333</td>\n      <td>4</td>\n    </tr>\n    <tr>\n      <th>2</th>\n      <td>3</td>\n      <td>3.000000</td>\n      <td>1.000000</td>\n      <td>5.000000</td>\n      <td>4</td>\n    </tr>\n  </tbody>\n</table>\n</div>"
     },
     "execution_count": 152,
     "metadata": {},
     "output_type": "execute_result"
    }
   ],
   "source": [
    "def get_cluster_averages(df, n_clusters):\n",
    "    labels = KMeans(n_clusters=n_clusters, random_state=0, n_init='auto').fit(df.dropna(axis=1)).labels_\n",
    "    \n",
    "    cluster_averages = pd.DataFrame(0, index=range(n_clusters), columns=df.columns)\n",
    "    for cluster in range(n_clusters):\n",
    "        cluster_averages.loc[cluster] = df[labels == cluster].mean()\n",
    "    return cluster_averages\n",
    "\n",
    "get_cluster_averages(sample_df, 3)"
   ],
   "metadata": {
    "collapsed": false
   }
  },
  {
   "cell_type": "markdown",
   "source": [
    "=> we predict rating 4 for Alice for Item5"
   ],
   "metadata": {
    "collapsed": false
   }
  },
  {
   "cell_type": "markdown",
   "source": [
    "#### 2.4.2. Expectation Maximization"
   ],
   "metadata": {
    "collapsed": false
   }
  },
  {
   "cell_type": "code",
   "execution_count": 153,
   "outputs": [
    {
     "data": {
      "text/plain": "array([1, 1, 1, 2, 0])"
     },
     "execution_count": 153,
     "metadata": {},
     "output_type": "execute_result"
    }
   ],
   "source": [
    "from sklearn.mixture import GaussianMixture\n",
    "\n",
    "gmm = GaussianMixture(n_components=3, random_state=0).fit(dense_df)\n",
    "gmm.predict(dense_df)"
   ],
   "metadata": {
    "collapsed": false
   }
  },
  {
   "cell_type": "markdown",
   "source": [
    "### 2.5. Association Rules\n",
    "- relationships among items, e.g., common purchases (\"beer and diapers\")\n",
    "- general machine learning algorithms\n",
    "- provides explanation, which is useful for building trust\n",
    "  - \"Customers who bought this item also bought...\"\n",
    "- closely related to item-based CF\n",
    "\n",
    "### 2.6. Classifiers\n",
    "- general machine learning techniques\n",
    "- positive / negative classification\n",
    "- train, test set\n",
    "- logistic regression, support vector machines, decision trees, Bayesian techniques,...\n"
   ],
   "metadata": {
    "collapsed": false
   }
  },
  {
   "cell_type": "code",
   "execution_count": 153,
   "outputs": [],
   "source": [],
   "metadata": {
    "collapsed": false
   }
  }
 ],
 "metadata": {
  "kernelspec": {
   "display_name": "Python 3",
   "language": "python",
   "name": "python3"
  },
  "language_info": {
   "codemirror_mode": {
    "name": "ipython",
    "version": 2
   },
   "file_extension": ".py",
   "mimetype": "text/x-python",
   "name": "python",
   "nbconvert_exporter": "python",
   "pygments_lexer": "ipython2",
   "version": "2.7.6"
  }
 },
 "nbformat": 4,
 "nbformat_minor": 0
}
