{
 "cells": [
  {
   "cell_type": "markdown",
   "source": [
    "# Personalized Techniques\n",
    "- personalized: based on the user's previous rankings\n",
    "- collaborative filtering: using other user's rankings"
   ],
   "metadata": {
    "collapsed": false
   }
  },
  {
   "cell_type": "markdown",
   "source": [
    "## Main CF Techniques\n",
    "1. memory based = find \"similar\" users/items, use them for prediction\n",
    "   1.1 nearest neighbors (user, item)"
   ],
   "metadata": {
    "collapsed": false
   }
  },
  {
   "cell_type": "markdown",
   "source": [
    "### 1.1.1 User-based Nearest Neighbor CF\n",
    "1. item _i_ not rated by Alice\n",
    "2. find \"similar\" users to Alice who have rated _i_\n",
    "   - How do we measure similarity?\n",
    "     - Pearson correlation\n",
    "     - Spearman correlation\n",
    "     - Cosine similarity\n",
    "     - Adjusted cosine similarity\n",
    "     - => no fundamental reason for choice of one metric, mostly based on practical experiences, may depend on application\n",
    "3. compute average to predict rating by Alice\n",
    "   - How many neighbors should we consider?\n",
    "     - neighbors N = k most similar users\n",
    "   - How do we generate a prediction from the neighbors' ratings?\n",
    "     - average of neighbors' ratings\n",
    "     - improved versions\n",
    "4. recommend items with the highest predicted rating"
   ],
   "metadata": {
    "collapsed": false
   }
  },
  {
   "cell_type": "code",
   "execution_count": 72,
   "outputs": [
    {
     "data": {
      "text/plain": "       Item1  Item2  Item3  Item4  Item5\nAlice      5      3      4      4    NaN\nUser1      3      1      2      3    3.0\nUser2      4      3      4      3    5.0\nUser3      3      3      1      5    4.0\nUser4      1      5      5      2    1.0",
      "text/html": "<div>\n<style scoped>\n    .dataframe tbody tr th:only-of-type {\n        vertical-align: middle;\n    }\n\n    .dataframe tbody tr th {\n        vertical-align: top;\n    }\n\n    .dataframe thead th {\n        text-align: right;\n    }\n</style>\n<table border=\"1\" class=\"dataframe\">\n  <thead>\n    <tr style=\"text-align: right;\">\n      <th></th>\n      <th>Item1</th>\n      <th>Item2</th>\n      <th>Item3</th>\n      <th>Item4</th>\n      <th>Item5</th>\n    </tr>\n  </thead>\n  <tbody>\n    <tr>\n      <th>Alice</th>\n      <td>5</td>\n      <td>3</td>\n      <td>4</td>\n      <td>4</td>\n      <td>NaN</td>\n    </tr>\n    <tr>\n      <th>User1</th>\n      <td>3</td>\n      <td>1</td>\n      <td>2</td>\n      <td>3</td>\n      <td>3.0</td>\n    </tr>\n    <tr>\n      <th>User2</th>\n      <td>4</td>\n      <td>3</td>\n      <td>4</td>\n      <td>3</td>\n      <td>5.0</td>\n    </tr>\n    <tr>\n      <th>User3</th>\n      <td>3</td>\n      <td>3</td>\n      <td>1</td>\n      <td>5</td>\n      <td>4.0</td>\n    </tr>\n    <tr>\n      <th>User4</th>\n      <td>1</td>\n      <td>5</td>\n      <td>5</td>\n      <td>2</td>\n      <td>1.0</td>\n    </tr>\n  </tbody>\n</table>\n</div>"
     },
     "execution_count": 72,
     "metadata": {},
     "output_type": "execute_result"
    }
   ],
   "source": [
    "import pandas as pd\n",
    "\n",
    "sample_df = pd.DataFrame(\n",
    "    {\n",
    "        'Item1': [5, 3, 4, 3, 1],\n",
    "        'Item2': [3, 1, 3, 3, 5],\n",
    "        'Item3': [4, 2, 4, 1, 5],\n",
    "        'Item4': [4, 3, 3, 5, 2],\n",
    "        'Item5': [None, 3, 5, 4, 1],\n",
    "    }, index=['Alice', 'User1', 'User2', 'User3', 'User4'])\n",
    "sample_df"
   ],
   "metadata": {
    "collapsed": false
   }
  },
  {
   "cell_type": "code",
   "execution_count": 73,
   "outputs": [
    {
     "data": {
      "text/plain": "Item1    5.0\nItem2    3.0\nItem3    4.0\nItem4    4.0\nItem5    NaN\nName: Alice, dtype: float64"
     },
     "execution_count": 73,
     "metadata": {},
     "output_type": "execute_result"
    }
   ],
   "source": [
    "alice = sample_df.loc['Alice']\n",
    "alice"
   ],
   "metadata": {
    "collapsed": false
   }
  },
  {
   "cell_type": "code",
   "execution_count": 74,
   "outputs": [
    {
     "data": {
      "text/plain": "       Item1  Item2  Item3  Item4  Item5\nUser1      3      1      2      3    3.0\nUser2      4      3      4      3    5.0\nUser3      3      3      1      5    4.0\nUser4      1      5      5      2    1.0",
      "text/html": "<div>\n<style scoped>\n    .dataframe tbody tr th:only-of-type {\n        vertical-align: middle;\n    }\n\n    .dataframe tbody tr th {\n        vertical-align: top;\n    }\n\n    .dataframe thead th {\n        text-align: right;\n    }\n</style>\n<table border=\"1\" class=\"dataframe\">\n  <thead>\n    <tr style=\"text-align: right;\">\n      <th></th>\n      <th>Item1</th>\n      <th>Item2</th>\n      <th>Item3</th>\n      <th>Item4</th>\n      <th>Item5</th>\n    </tr>\n  </thead>\n  <tbody>\n    <tr>\n      <th>User1</th>\n      <td>3</td>\n      <td>1</td>\n      <td>2</td>\n      <td>3</td>\n      <td>3.0</td>\n    </tr>\n    <tr>\n      <th>User2</th>\n      <td>4</td>\n      <td>3</td>\n      <td>4</td>\n      <td>3</td>\n      <td>5.0</td>\n    </tr>\n    <tr>\n      <th>User3</th>\n      <td>3</td>\n      <td>3</td>\n      <td>1</td>\n      <td>5</td>\n      <td>4.0</td>\n    </tr>\n    <tr>\n      <th>User4</th>\n      <td>1</td>\n      <td>5</td>\n      <td>5</td>\n      <td>2</td>\n      <td>1.0</td>\n    </tr>\n  </tbody>\n</table>\n</div>"
     },
     "execution_count": 74,
     "metadata": {},
     "output_type": "execute_result"
    }
   ],
   "source": [
    "other_users = sample_df.drop('Alice')\n",
    "other_users"
   ],
   "metadata": {
    "collapsed": false
   }
  },
  {
   "cell_type": "code",
   "execution_count": 75,
   "outputs": [
    {
     "data": {
      "text/plain": "User1    0.852803\nUser2    0.707107\nUser3    0.000000\nUser4   -0.792118\ndtype: float64"
     },
     "execution_count": 75,
     "metadata": {},
     "output_type": "execute_result"
    }
   ],
   "source": [
    "def pearson(individual, group):\n",
    "    return group.corrwith(individual, axis=1, method='pearson')\n",
    "\n",
    "pearson(alice, other_users)"
   ],
   "metadata": {
    "collapsed": false
   }
  },
  {
   "cell_type": "code",
   "execution_count": 76,
   "outputs": [
    {
     "data": {
      "text/plain": "User1    0.833333\nUser2    0.707107\nUser3    0.000000\nUser4   -0.833333\ndtype: float64"
     },
     "execution_count": 76,
     "metadata": {},
     "output_type": "execute_result"
    }
   ],
   "source": [
    "def spearman(individual, group):\n",
    "    return group.corrwith(individual, axis=1, method='spearman')\n",
    "\n",
    "spearman(alice, other_users)"
   ],
   "metadata": {
    "collapsed": false
   }
  },
  {
   "cell_type": "code",
   "execution_count": 77,
   "outputs": [
    {
     "data": {
      "text/plain": "User1    0.975321\nUser2    0.992243\nUser3    0.890724\nUser4    0.796687\ndtype: float64"
     },
     "execution_count": 77,
     "metadata": {},
     "output_type": "execute_result"
    }
   ],
   "source": [
    "from numpy import dot\n",
    "from numpy.linalg import norm\n",
    "\n",
    "def cosine(individual, group):\n",
    "    indices_of_nans = individual.isna()\n",
    "    individual = individual.loc[~indices_of_nans]\n",
    "    group = group.loc[:, ~indices_of_nans]\n",
    "    \n",
    "    return group.apply(lambda x: x.dot(individual)/(norm(x)*norm(individual)), axis=1)\n",
    "\n",
    "cosine(alice, other_users)"
   ],
   "metadata": {
    "collapsed": false
   }
  },
  {
   "cell_type": "code",
   "execution_count": 78,
   "outputs": [
    {
     "data": {
      "text/plain": "User1    0.852803\nUser2    0.707107\nUser3    0.000000\nUser4   -0.792118\ndtype: float64"
     },
     "execution_count": 78,
     "metadata": {},
     "output_type": "execute_result"
    }
   ],
   "source": [
    "def adjusted_cosine(individual, group):\n",
    "    indices_of_nans = individual.isna()\n",
    "    individual = individual.loc[~indices_of_nans]\n",
    "    group = group.loc[:, ~indices_of_nans]\n",
    "    \n",
    "    return group.apply(lambda x: dot(x - x.mean(), individual - individual.mean())/(norm(x - x.mean())*norm(individual - individual.mean())), axis=1)\n",
    "\n",
    "adjusted_cosine(alice, other_users)"
   ],
   "metadata": {
    "collapsed": false
   }
  },
  {
   "cell_type": "code",
   "execution_count": 79,
   "outputs": [
    {
     "data": {
      "text/plain": "User1    0.852803\nUser2    0.707107\ndtype: float64"
     },
     "execution_count": 79,
     "metadata": {},
     "output_type": "execute_result"
    }
   ],
   "source": [
    "def get_k_similarities(individual, group, k, similarity_measure):\n",
    "    return similarity_measure(individual, group).nlargest(k)\n",
    "\n",
    "get_k_similarities(alice, other_users, 2, pearson)"
   ],
   "metadata": {
    "collapsed": false
   }
  },
  {
   "cell_type": "code",
   "execution_count": 80,
   "outputs": [
    {
     "data": {
      "text/plain": "       Item1  Item2  Item3  Item4  Item5\nUser1      3      1      2      3    3.0\nUser2      4      3      4      3    5.0",
      "text/html": "<div>\n<style scoped>\n    .dataframe tbody tr th:only-of-type {\n        vertical-align: middle;\n    }\n\n    .dataframe tbody tr th {\n        vertical-align: top;\n    }\n\n    .dataframe thead th {\n        text-align: right;\n    }\n</style>\n<table border=\"1\" class=\"dataframe\">\n  <thead>\n    <tr style=\"text-align: right;\">\n      <th></th>\n      <th>Item1</th>\n      <th>Item2</th>\n      <th>Item3</th>\n      <th>Item4</th>\n      <th>Item5</th>\n    </tr>\n  </thead>\n  <tbody>\n    <tr>\n      <th>User1</th>\n      <td>3</td>\n      <td>1</td>\n      <td>2</td>\n      <td>3</td>\n      <td>3.0</td>\n    </tr>\n    <tr>\n      <th>User2</th>\n      <td>4</td>\n      <td>3</td>\n      <td>4</td>\n      <td>3</td>\n      <td>5.0</td>\n    </tr>\n  </tbody>\n</table>\n</div>"
     },
     "execution_count": 80,
     "metadata": {},
     "output_type": "execute_result"
    }
   ],
   "source": [
    "def get_k_neighbors(individual, group, k, similarity_measure):\n",
    "    similarities = get_k_similarities(individual, group, k, similarity_measure)\n",
    "    return group.loc[similarities.index]\n",
    "\n",
    "get_k_neighbors(alice, other_users, 2, pearson)"
   ],
   "metadata": {
    "collapsed": false
   }
  },
  {
   "cell_type": "code",
   "execution_count": 81,
   "outputs": [
    {
     "data": {
      "text/plain": "4.0"
     },
     "execution_count": 81,
     "metadata": {},
     "output_type": "execute_result"
    }
   ],
   "source": [
    "def get_prediction(individual, group, k, similarity_measure):\n",
    "    neighbors = get_k_neighbors(individual, group, k, similarity_measure)\n",
    "    return neighbors.mean()\n",
    "\n",
    "get_prediction(alice, other_users, 2, pearson).loc['Item5']"
   ],
   "metadata": {
    "collapsed": false
   }
  },
  {
   "cell_type": "markdown",
   "source": [
    "##### Improvements:\n",
    "- user bias: consider difference from average rating (rbi − rb)\n",
    "- user similarities: weighted average, weight sim(a, b)"
   ],
   "metadata": {
    "collapsed": false
   }
  },
  {
   "cell_type": "code",
   "execution_count": 108,
   "outputs": [
    {
     "data": {
      "text/plain": "4.871979899370592"
     },
     "execution_count": 108,
     "metadata": {},
     "output_type": "execute_result"
    }
   ],
   "source": [
    "def get_improved_prediction(individual, group, k, similarity_measure, item):\n",
    "    similarities = get_k_similarities(individual, group, k, similarity_measure)\n",
    "    neighbors = get_k_neighbors(individual, group, k, similarity_measure)\n",
    "    diff_from_avg_rating = neighbors.loc[:, item] - neighbors.mean(axis=1)\n",
    "    return individual.mean() + sum(similarities * diff_from_avg_rating)/sum(abs(similarities))\n",
    "\n",
    "get_improved_prediction(alice, other_users, 2, pearson, 'Item5')"
   ],
   "metadata": {
    "collapsed": false
   }
  },
  {
   "cell_type": "markdown",
   "source": [
    "##### Improvements (cont.):\n",
    "- number of co-rated items\n",
    "- agreement on more \"exotic\" items more important\n",
    "- case amplification – more weight to very similar neighbors\n",
    "- neighbor selection"
   ],
   "metadata": {
    "collapsed": false
   }
  },
  {
   "cell_type": "markdown",
   "source": [
    "### Item-based Nearest Neighbor CF\n",
    "- compute similarity between **items**\n",
    "- use this similarity to predict ratings\n",
    "- more computationally efficient, often number of items << number of users\n",
    "- practical advantage (over user-based filtering): feasible to check results using intuition"
   ],
   "metadata": {
    "collapsed": false
   }
  },
  {
   "cell_type": "markdown",
   "source": [
    "> User-based CF: find similar users to a user, use ratings of those users to predict item ratings by the user\n",
    "\n",
    "> Item-based CF: find similar items to an item, use ratings of those items to predict ratings of the item by users"
   ],
   "metadata": {
    "collapsed": false
   }
  },
  {
   "cell_type": "code",
   "execution_count": 83,
   "outputs": [
    {
     "data": {
      "text/plain": "Alice    NaN\nUser1    3.0\nUser2    5.0\nUser3    4.0\nUser4    1.0\nName: Item5, dtype: float64"
     },
     "execution_count": 83,
     "metadata": {},
     "output_type": "execute_result"
    }
   ],
   "source": [
    "item5 = sample_df.T.loc['Item5']\n",
    "item5"
   ],
   "metadata": {
    "collapsed": false
   }
  },
  {
   "cell_type": "code",
   "execution_count": 84,
   "outputs": [
    {
     "data": {
      "text/plain": "       Alice  User1  User2  User3  User4\nItem1    5.0    3.0    4.0    3.0    1.0\nItem2    3.0    1.0    3.0    3.0    5.0\nItem3    4.0    2.0    4.0    1.0    5.0\nItem4    4.0    3.0    3.0    5.0    2.0",
      "text/html": "<div>\n<style scoped>\n    .dataframe tbody tr th:only-of-type {\n        vertical-align: middle;\n    }\n\n    .dataframe tbody tr th {\n        vertical-align: top;\n    }\n\n    .dataframe thead th {\n        text-align: right;\n    }\n</style>\n<table border=\"1\" class=\"dataframe\">\n  <thead>\n    <tr style=\"text-align: right;\">\n      <th></th>\n      <th>Alice</th>\n      <th>User1</th>\n      <th>User2</th>\n      <th>User3</th>\n      <th>User4</th>\n    </tr>\n  </thead>\n  <tbody>\n    <tr>\n      <th>Item1</th>\n      <td>5.0</td>\n      <td>3.0</td>\n      <td>4.0</td>\n      <td>3.0</td>\n      <td>1.0</td>\n    </tr>\n    <tr>\n      <th>Item2</th>\n      <td>3.0</td>\n      <td>1.0</td>\n      <td>3.0</td>\n      <td>3.0</td>\n      <td>5.0</td>\n    </tr>\n    <tr>\n      <th>Item3</th>\n      <td>4.0</td>\n      <td>2.0</td>\n      <td>4.0</td>\n      <td>1.0</td>\n      <td>5.0</td>\n    </tr>\n    <tr>\n      <th>Item4</th>\n      <td>4.0</td>\n      <td>3.0</td>\n      <td>3.0</td>\n      <td>5.0</td>\n      <td>2.0</td>\n    </tr>\n  </tbody>\n</table>\n</div>"
     },
     "execution_count": 84,
     "metadata": {},
     "output_type": "execute_result"
    }
   ],
   "source": [
    "other_items = sample_df.T.drop('Item5')\n",
    "other_items"
   ],
   "metadata": {
    "collapsed": false
   }
  },
  {
   "cell_type": "code",
   "execution_count": 85,
   "outputs": [
    {
     "data": {
      "text/plain": "Item1    0.969458\nItem2   -0.478091\nItem3   -0.427618\nItem4    0.581675\ndtype: float64"
     },
     "execution_count": 85,
     "metadata": {},
     "output_type": "execute_result"
    }
   ],
   "source": [
    "pearson(item5, other_items)"
   ],
   "metadata": {
    "collapsed": false
   }
  },
  {
   "cell_type": "code",
   "execution_count": 86,
   "outputs": [
    {
     "data": {
      "text/plain": "4.5"
     },
     "execution_count": 86,
     "metadata": {},
     "output_type": "execute_result"
    }
   ],
   "source": [
    "get_prediction(item5, other_items, 2, pearson).loc['Alice']"
   ],
   "metadata": {
    "collapsed": false
   }
  },
  {
   "cell_type": "code",
   "execution_count": 87,
   "outputs": [
    {
     "data": {
      "text/plain": "4.6"
     },
     "execution_count": 87,
     "metadata": {},
     "output_type": "execute_result"
    }
   ],
   "source": [
    "get_improved_prediction(item5, other_items, 2, pearson, 'Alice')"
   ],
   "metadata": {
    "collapsed": false
   }
  },
  {
   "cell_type": "code",
   "execution_count": 88,
   "outputs": [
    {
     "data": {
      "text/plain": "4.5141032559718095"
     },
     "metadata": {},
     "output_type": "display_data"
    },
    {
     "data": {
      "text/plain": "4.625"
     },
     "execution_count": 88,
     "metadata": {},
     "output_type": "execute_result"
    }
   ],
   "source": [
    "def get_prediction_for_cosine_similarity(individual, group, k, similarity_measure, item):\n",
    "    similarities = get_k_similarities(individual, group, k, similarity_measure)\n",
    "    neighbors = get_k_neighbors(individual, group, k, similarity_measure)\n",
    "    return sum(similarities * neighbors.loc[:, item])/sum(similarities)\n",
    "\n",
    "display(get_prediction_for_cosine_similarity(item5, other_items, 2, cosine, 'Alice'))\n",
    "get_prediction_for_cosine_similarity(item5, other_items, 2, adjusted_cosine, 'Alice')\n"
   ],
   "metadata": {
    "collapsed": false
   }
  },
  {
   "cell_type": "code",
   "execution_count": 88,
   "outputs": [],
   "source": [],
   "metadata": {
    "collapsed": false
   }
  }
 ],
 "metadata": {
  "kernelspec": {
   "display_name": "Python 3",
   "language": "python",
   "name": "python3"
  },
  "language_info": {
   "codemirror_mode": {
    "name": "ipython",
    "version": 2
   },
   "file_extension": ".py",
   "mimetype": "text/x-python",
   "name": "python",
   "nbconvert_exporter": "python",
   "pygments_lexer": "ipython2",
   "version": "2.7.6"
  }
 },
 "nbformat": 4,
 "nbformat_minor": 0
}
