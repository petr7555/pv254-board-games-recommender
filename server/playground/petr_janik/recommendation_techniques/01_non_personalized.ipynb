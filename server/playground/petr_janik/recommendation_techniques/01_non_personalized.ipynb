{
 "cells": [
  {
   "cell_type": "code",
   "execution_count": 1,
   "metadata": {
    "collapsed": true,
    "ExecuteTime": {
     "end_time": "2023-06-04T10:37:33.472512Z",
     "start_time": "2023-06-04T10:37:19.318045Z"
    }
   },
   "outputs": [
    {
     "data": {
      "text/plain": "           BGGId  Rating           Username\n16597337   17709     2.0  kerbythepurplecow\n15421575  155693     2.0             Asgren\n16051321   40531     7.0              dzudz\n16392352   22864     7.0        Gamezombiac\n5484430       50     8.0               jaya\n...          ...     ...                ...\n13193370    1540     7.0        BrianSchoff\n7040948   264055     6.0  StupidRatCreature\n2319147   121921     7.0             ekloff\n3075854    77423     5.5              Leiye\n16584945  143096     3.0    ForgottenSpiral\n\n[10000000 rows x 3 columns]",
      "text/html": "<div>\n<style scoped>\n    .dataframe tbody tr th:only-of-type {\n        vertical-align: middle;\n    }\n\n    .dataframe tbody tr th {\n        vertical-align: top;\n    }\n\n    .dataframe thead th {\n        text-align: right;\n    }\n</style>\n<table border=\"1\" class=\"dataframe\">\n  <thead>\n    <tr style=\"text-align: right;\">\n      <th></th>\n      <th>BGGId</th>\n      <th>Rating</th>\n      <th>Username</th>\n    </tr>\n  </thead>\n  <tbody>\n    <tr>\n      <th>16597337</th>\n      <td>17709</td>\n      <td>2.0</td>\n      <td>kerbythepurplecow</td>\n    </tr>\n    <tr>\n      <th>15421575</th>\n      <td>155693</td>\n      <td>2.0</td>\n      <td>Asgren</td>\n    </tr>\n    <tr>\n      <th>16051321</th>\n      <td>40531</td>\n      <td>7.0</td>\n      <td>dzudz</td>\n    </tr>\n    <tr>\n      <th>16392352</th>\n      <td>22864</td>\n      <td>7.0</td>\n      <td>Gamezombiac</td>\n    </tr>\n    <tr>\n      <th>5484430</th>\n      <td>50</td>\n      <td>8.0</td>\n      <td>jaya</td>\n    </tr>\n    <tr>\n      <th>...</th>\n      <td>...</td>\n      <td>...</td>\n      <td>...</td>\n    </tr>\n    <tr>\n      <th>13193370</th>\n      <td>1540</td>\n      <td>7.0</td>\n      <td>BrianSchoff</td>\n    </tr>\n    <tr>\n      <th>7040948</th>\n      <td>264055</td>\n      <td>6.0</td>\n      <td>StupidRatCreature</td>\n    </tr>\n    <tr>\n      <th>2319147</th>\n      <td>121921</td>\n      <td>7.0</td>\n      <td>ekloff</td>\n    </tr>\n    <tr>\n      <th>3075854</th>\n      <td>77423</td>\n      <td>5.5</td>\n      <td>Leiye</td>\n    </tr>\n    <tr>\n      <th>16584945</th>\n      <td>143096</td>\n      <td>3.0</td>\n      <td>ForgottenSpiral</td>\n    </tr>\n  </tbody>\n</table>\n<p>10000000 rows × 3 columns</p>\n</div>"
     },
     "execution_count": 1,
     "metadata": {},
     "output_type": "execute_result"
    }
   ],
   "source": [
    "import pandas as pd\n",
    "\n",
    "from app.utils.universal_path import universal_path\n",
    "\n",
    "data_path = universal_path('../../../data/user_ratings.csv')\n",
    "full_df = pd.read_csv(data_path)\n",
    "\n",
    "small_df = full_df.sample(10000000, random_state=42)\n",
    "small_df"
   ]
  },
  {
   "cell_type": "markdown",
   "source": [
    "# Most popular items\n",
    "- compute average rating for each item"
   ],
   "metadata": {
    "collapsed": false
   }
  },
  {
   "cell_type": "code",
   "execution_count": 2,
   "outputs": [
    {
     "data": {
      "text/plain": "         Rating\n           mean\nBGGId          \n1      7.659893\n2      6.689061\n3      7.472895\n4      6.674976\n5      7.441088\n6      6.407500\n7      6.549755\n8      6.113426\n9      6.459529\n10     6.683932",
      "text/html": "<div>\n<style scoped>\n    .dataframe tbody tr th:only-of-type {\n        vertical-align: middle;\n    }\n\n    .dataframe tbody tr th {\n        vertical-align: top;\n    }\n\n    .dataframe thead tr th {\n        text-align: left;\n    }\n\n    .dataframe thead tr:last-of-type th {\n        text-align: right;\n    }\n</style>\n<table border=\"1\" class=\"dataframe\">\n  <thead>\n    <tr>\n      <th></th>\n      <th>Rating</th>\n    </tr>\n    <tr>\n      <th></th>\n      <th>mean</th>\n    </tr>\n    <tr>\n      <th>BGGId</th>\n      <th></th>\n    </tr>\n  </thead>\n  <tbody>\n    <tr>\n      <th>1</th>\n      <td>7.659893</td>\n    </tr>\n    <tr>\n      <th>2</th>\n      <td>6.689061</td>\n    </tr>\n    <tr>\n      <th>3</th>\n      <td>7.472895</td>\n    </tr>\n    <tr>\n      <th>4</th>\n      <td>6.674976</td>\n    </tr>\n    <tr>\n      <th>5</th>\n      <td>7.441088</td>\n    </tr>\n    <tr>\n      <th>6</th>\n      <td>6.407500</td>\n    </tr>\n    <tr>\n      <th>7</th>\n      <td>6.549755</td>\n    </tr>\n    <tr>\n      <th>8</th>\n      <td>6.113426</td>\n    </tr>\n    <tr>\n      <th>9</th>\n      <td>6.459529</td>\n    </tr>\n    <tr>\n      <th>10</th>\n      <td>6.683932</td>\n    </tr>\n  </tbody>\n</table>\n</div>"
     },
     "execution_count": 2,
     "metadata": {},
     "output_type": "execute_result"
    }
   ],
   "source": [
    "average_ratings = small_df[['BGGId', 'Rating']].groupby('BGGId').agg(['mean'])\n",
    "average_ratings.head(10)"
   ],
   "metadata": {
    "collapsed": false,
    "ExecuteTime": {
     "end_time": "2023-06-04T10:37:34.264876Z",
     "start_time": "2023-06-04T10:37:33.610044Z"
    }
   }
  },
  {
   "cell_type": "markdown",
   "source": [
    "- recommend items with the highest averages"
   ],
   "metadata": {
    "collapsed": false
   }
  },
  {
   "cell_type": "code",
   "execution_count": 3,
   "outputs": [
    {
     "data": {
      "text/plain": "          Rating      \n            mean count\nBGGId                 \n284121  9.762632    57\n207203  9.647059    34\n342942  9.644515   378\n345976  9.600000    25\n295785  9.591495   162\n275777  9.565217    23\n249277  9.564100   100\n349161  9.500000     4\n260037  9.383529    17\n323046  9.380952    21",
      "text/html": "<div>\n<style scoped>\n    .dataframe tbody tr th:only-of-type {\n        vertical-align: middle;\n    }\n\n    .dataframe tbody tr th {\n        vertical-align: top;\n    }\n\n    .dataframe thead tr th {\n        text-align: left;\n    }\n\n    .dataframe thead tr:last-of-type th {\n        text-align: right;\n    }\n</style>\n<table border=\"1\" class=\"dataframe\">\n  <thead>\n    <tr>\n      <th></th>\n      <th colspan=\"2\" halign=\"left\">Rating</th>\n    </tr>\n    <tr>\n      <th></th>\n      <th>mean</th>\n      <th>count</th>\n    </tr>\n    <tr>\n      <th>BGGId</th>\n      <th></th>\n      <th></th>\n    </tr>\n  </thead>\n  <tbody>\n    <tr>\n      <th>284121</th>\n      <td>9.762632</td>\n      <td>57</td>\n    </tr>\n    <tr>\n      <th>207203</th>\n      <td>9.647059</td>\n      <td>34</td>\n    </tr>\n    <tr>\n      <th>342942</th>\n      <td>9.644515</td>\n      <td>378</td>\n    </tr>\n    <tr>\n      <th>345976</th>\n      <td>9.600000</td>\n      <td>25</td>\n    </tr>\n    <tr>\n      <th>295785</th>\n      <td>9.591495</td>\n      <td>162</td>\n    </tr>\n    <tr>\n      <th>275777</th>\n      <td>9.565217</td>\n      <td>23</td>\n    </tr>\n    <tr>\n      <th>249277</th>\n      <td>9.564100</td>\n      <td>100</td>\n    </tr>\n    <tr>\n      <th>349161</th>\n      <td>9.500000</td>\n      <td>4</td>\n    </tr>\n    <tr>\n      <th>260037</th>\n      <td>9.383529</td>\n      <td>17</td>\n    </tr>\n    <tr>\n      <th>323046</th>\n      <td>9.380952</td>\n      <td>21</td>\n    </tr>\n  </tbody>\n</table>\n</div>"
     },
     "execution_count": 3,
     "metadata": {},
     "output_type": "execute_result"
    }
   ],
   "source": [
    "average_ratings_sorted_by_best = small_df[['BGGId', 'Rating']].groupby('BGGId').agg(['mean', 'count']).sort_values(\n",
    "    by=('Rating', 'mean'), ascending=False)\n",
    "average_ratings_sorted_by_best.head(10)"
   ],
   "metadata": {
    "collapsed": false,
    "ExecuteTime": {
     "end_time": "2023-06-04T10:37:34.684196Z",
     "start_time": "2023-06-04T10:37:34.335834Z"
    }
   }
  },
  {
   "cell_type": "markdown",
   "source": [
    "## Problems:\n",
    "### Number of ratings, uncertainty\n",
    "- average 5 from 3 ratings\n",
    "- average 4.9 from 100 ratings"
   ],
   "metadata": {
    "collapsed": false
   }
  },
  {
   "cell_type": "code",
   "execution_count": 4,
   "outputs": [
    {
     "data": {
      "text/plain": "          Rating      \n            mean count\nBGGId                 \n284121  9.762632    57\n207203  9.647059    34\n342942  9.644515   378\n345976  9.600000    25\n295785  9.591495   162\n275777  9.565217    23\n249277  9.564100   100\n349161  9.500000     4\n260037  9.383529    17\n323046  9.380952    21",
      "text/html": "<div>\n<style scoped>\n    .dataframe tbody tr th:only-of-type {\n        vertical-align: middle;\n    }\n\n    .dataframe tbody tr th {\n        vertical-align: top;\n    }\n\n    .dataframe thead tr th {\n        text-align: left;\n    }\n\n    .dataframe thead tr:last-of-type th {\n        text-align: right;\n    }\n</style>\n<table border=\"1\" class=\"dataframe\">\n  <thead>\n    <tr>\n      <th></th>\n      <th colspan=\"2\" halign=\"left\">Rating</th>\n    </tr>\n    <tr>\n      <th></th>\n      <th>mean</th>\n      <th>count</th>\n    </tr>\n    <tr>\n      <th>BGGId</th>\n      <th></th>\n      <th></th>\n    </tr>\n  </thead>\n  <tbody>\n    <tr>\n      <th>284121</th>\n      <td>9.762632</td>\n      <td>57</td>\n    </tr>\n    <tr>\n      <th>207203</th>\n      <td>9.647059</td>\n      <td>34</td>\n    </tr>\n    <tr>\n      <th>342942</th>\n      <td>9.644515</td>\n      <td>378</td>\n    </tr>\n    <tr>\n      <th>345976</th>\n      <td>9.600000</td>\n      <td>25</td>\n    </tr>\n    <tr>\n      <th>295785</th>\n      <td>9.591495</td>\n      <td>162</td>\n    </tr>\n    <tr>\n      <th>275777</th>\n      <td>9.565217</td>\n      <td>23</td>\n    </tr>\n    <tr>\n      <th>249277</th>\n      <td>9.564100</td>\n      <td>100</td>\n    </tr>\n    <tr>\n      <th>349161</th>\n      <td>9.500000</td>\n      <td>4</td>\n    </tr>\n    <tr>\n      <th>260037</th>\n      <td>9.383529</td>\n      <td>17</td>\n    </tr>\n    <tr>\n      <th>323046</th>\n      <td>9.380952</td>\n      <td>21</td>\n    </tr>\n  </tbody>\n</table>\n</div>"
     },
     "execution_count": 4,
     "metadata": {},
     "output_type": "execute_result"
    }
   ],
   "source": [
    "MIN_RATINGS = 3\n",
    "average_ratings_sorted_by_best[average_ratings_sorted_by_best[('Rating', 'count')] > MIN_RATINGS].head(10)"
   ],
   "metadata": {
    "collapsed": false,
    "ExecuteTime": {
     "end_time": "2023-06-04T10:37:34.696629Z",
     "start_time": "2023-06-04T10:37:34.687166Z"
    }
   }
  },
  {
   "cell_type": "markdown",
   "source": [
    "### Bias, normalization\n",
    "- some users give systematically higher ratings\n",
    "  - => compute user bias, i.e. difference between user's average rating and average rating of all users, then subtract this bias from each rating"
   ],
   "metadata": {
    "collapsed": false
   }
  },
  {
   "cell_type": "code",
   "execution_count": 5,
   "outputs": [
    {
     "data": {
      "text/plain": "           BGGId  Rating           Username  Global average  User average  \\\n16597337   17709     2.0  kerbythepurplecow        7.130591      5.990566   \n15421575  155693     2.0             Asgren        7.130591      7.276596   \n16051321   40531     7.0              dzudz        7.130591      6.856250   \n16392352   22864     7.0        Gamezombiac        7.130591      6.779621   \n5484430       50     8.0               jaya        7.130591      6.720625   \n...          ...     ...                ...             ...           ...   \n13193370    1540     7.0        BrianSchoff        7.130591      7.636364   \n7040948   264055     6.0  StupidRatCreature        7.130591      6.439080   \n2319147   121921     7.0             ekloff        7.130591      5.695279   \n3075854    77423     5.5              Leiye        7.130591      6.142857   \n16584945  143096     3.0    ForgottenSpiral        7.130591      6.493976   \n\n          User bias  Unbiased rating  \n16597337  -1.140025         3.140025  \n15421575   0.146005         1.853995  \n16051321  -0.274341         7.274341  \n16392352  -0.350970         7.350970  \n5484430   -0.409966         8.409966  \n...             ...              ...  \n13193370   0.505773         6.494227  \n7040948   -0.691511         6.691511  \n2319147   -1.435312         8.435312  \n3075854   -0.987734         6.487734  \n16584945  -0.636615         3.636615  \n\n[10000000 rows x 7 columns]",
      "text/html": "<div>\n<style scoped>\n    .dataframe tbody tr th:only-of-type {\n        vertical-align: middle;\n    }\n\n    .dataframe tbody tr th {\n        vertical-align: top;\n    }\n\n    .dataframe thead th {\n        text-align: right;\n    }\n</style>\n<table border=\"1\" class=\"dataframe\">\n  <thead>\n    <tr style=\"text-align: right;\">\n      <th></th>\n      <th>BGGId</th>\n      <th>Rating</th>\n      <th>Username</th>\n      <th>Global average</th>\n      <th>User average</th>\n      <th>User bias</th>\n      <th>Unbiased rating</th>\n    </tr>\n  </thead>\n  <tbody>\n    <tr>\n      <th>16597337</th>\n      <td>17709</td>\n      <td>2.0</td>\n      <td>kerbythepurplecow</td>\n      <td>7.130591</td>\n      <td>5.990566</td>\n      <td>-1.140025</td>\n      <td>3.140025</td>\n    </tr>\n    <tr>\n      <th>15421575</th>\n      <td>155693</td>\n      <td>2.0</td>\n      <td>Asgren</td>\n      <td>7.130591</td>\n      <td>7.276596</td>\n      <td>0.146005</td>\n      <td>1.853995</td>\n    </tr>\n    <tr>\n      <th>16051321</th>\n      <td>40531</td>\n      <td>7.0</td>\n      <td>dzudz</td>\n      <td>7.130591</td>\n      <td>6.856250</td>\n      <td>-0.274341</td>\n      <td>7.274341</td>\n    </tr>\n    <tr>\n      <th>16392352</th>\n      <td>22864</td>\n      <td>7.0</td>\n      <td>Gamezombiac</td>\n      <td>7.130591</td>\n      <td>6.779621</td>\n      <td>-0.350970</td>\n      <td>7.350970</td>\n    </tr>\n    <tr>\n      <th>5484430</th>\n      <td>50</td>\n      <td>8.0</td>\n      <td>jaya</td>\n      <td>7.130591</td>\n      <td>6.720625</td>\n      <td>-0.409966</td>\n      <td>8.409966</td>\n    </tr>\n    <tr>\n      <th>...</th>\n      <td>...</td>\n      <td>...</td>\n      <td>...</td>\n      <td>...</td>\n      <td>...</td>\n      <td>...</td>\n      <td>...</td>\n    </tr>\n    <tr>\n      <th>13193370</th>\n      <td>1540</td>\n      <td>7.0</td>\n      <td>BrianSchoff</td>\n      <td>7.130591</td>\n      <td>7.636364</td>\n      <td>0.505773</td>\n      <td>6.494227</td>\n    </tr>\n    <tr>\n      <th>7040948</th>\n      <td>264055</td>\n      <td>6.0</td>\n      <td>StupidRatCreature</td>\n      <td>7.130591</td>\n      <td>6.439080</td>\n      <td>-0.691511</td>\n      <td>6.691511</td>\n    </tr>\n    <tr>\n      <th>2319147</th>\n      <td>121921</td>\n      <td>7.0</td>\n      <td>ekloff</td>\n      <td>7.130591</td>\n      <td>5.695279</td>\n      <td>-1.435312</td>\n      <td>8.435312</td>\n    </tr>\n    <tr>\n      <th>3075854</th>\n      <td>77423</td>\n      <td>5.5</td>\n      <td>Leiye</td>\n      <td>7.130591</td>\n      <td>6.142857</td>\n      <td>-0.987734</td>\n      <td>6.487734</td>\n    </tr>\n    <tr>\n      <th>16584945</th>\n      <td>143096</td>\n      <td>3.0</td>\n      <td>ForgottenSpiral</td>\n      <td>7.130591</td>\n      <td>6.493976</td>\n      <td>-0.636615</td>\n      <td>3.636615</td>\n    </tr>\n  </tbody>\n</table>\n<p>10000000 rows × 7 columns</p>\n</div>"
     },
     "execution_count": 5,
     "metadata": {},
     "output_type": "execute_result"
    }
   ],
   "source": [
    "small_df[\"Global average\"] = small_df['Rating'].mean()\n",
    "average_per_user = small_df[['Username', 'Rating']].groupby('Username').agg(['mean'])\n",
    "small_df[\"User average\"] = small_df['Username'].map(average_per_user[('Rating', 'mean')])\n",
    "small_df[\"User bias\"] = small_df['User average'] - small_df['Global average']\n",
    "small_df[\"Unbiased rating\"] = small_df['Rating'] - small_df['User bias']\n",
    "small_df"
   ],
   "metadata": {
    "collapsed": false,
    "ExecuteTime": {
     "end_time": "2023-06-04T10:37:46.344135Z",
     "start_time": "2023-06-04T10:37:34.699669Z"
    }
   }
  },
  {
   "cell_type": "code",
   "execution_count": 6,
   "outputs": [
    {
     "data": {
      "text/plain": "       Unbiased rating      \n                  mean count\nBGGId                       \n17821         9.303492    15\n342942        9.069642   378\n345976        9.012350    25\n63170         8.999922   301\n277538        8.936712    68\n341169        8.891127   265\n219717        8.888886    33\n140135        8.812365   131\n324856        8.785799  1181\n7935          8.738006    97",
      "text/html": "<div>\n<style scoped>\n    .dataframe tbody tr th:only-of-type {\n        vertical-align: middle;\n    }\n\n    .dataframe tbody tr th {\n        vertical-align: top;\n    }\n\n    .dataframe thead tr th {\n        text-align: left;\n    }\n\n    .dataframe thead tr:last-of-type th {\n        text-align: right;\n    }\n</style>\n<table border=\"1\" class=\"dataframe\">\n  <thead>\n    <tr>\n      <th></th>\n      <th colspan=\"2\" halign=\"left\">Unbiased rating</th>\n    </tr>\n    <tr>\n      <th></th>\n      <th>mean</th>\n      <th>count</th>\n    </tr>\n    <tr>\n      <th>BGGId</th>\n      <th></th>\n      <th></th>\n    </tr>\n  </thead>\n  <tbody>\n    <tr>\n      <th>17821</th>\n      <td>9.303492</td>\n      <td>15</td>\n    </tr>\n    <tr>\n      <th>342942</th>\n      <td>9.069642</td>\n      <td>378</td>\n    </tr>\n    <tr>\n      <th>345976</th>\n      <td>9.012350</td>\n      <td>25</td>\n    </tr>\n    <tr>\n      <th>63170</th>\n      <td>8.999922</td>\n      <td>301</td>\n    </tr>\n    <tr>\n      <th>277538</th>\n      <td>8.936712</td>\n      <td>68</td>\n    </tr>\n    <tr>\n      <th>341169</th>\n      <td>8.891127</td>\n      <td>265</td>\n    </tr>\n    <tr>\n      <th>219717</th>\n      <td>8.888886</td>\n      <td>33</td>\n    </tr>\n    <tr>\n      <th>140135</th>\n      <td>8.812365</td>\n      <td>131</td>\n    </tr>\n    <tr>\n      <th>324856</th>\n      <td>8.785799</td>\n      <td>1181</td>\n    </tr>\n    <tr>\n      <th>7935</th>\n      <td>8.738006</td>\n      <td>97</td>\n    </tr>\n  </tbody>\n</table>\n</div>"
     },
     "execution_count": 6,
     "metadata": {},
     "output_type": "execute_result"
    }
   ],
   "source": [
    "average_unbiased_ratings_sorted_from_best = small_df[['BGGId', 'Unbiased rating']].groupby('BGGId').agg(\n",
    "    ['mean', 'count']).sort_values(by=('Unbiased rating', 'mean'), ascending=False)\n",
    "# with at least MIN_RATINGS ratings\n",
    "average_unbiased_ratings_sorted_from_best[\n",
    "    average_unbiased_ratings_sorted_from_best[('Unbiased rating', 'count')] > MIN_RATINGS].head(10)"
   ],
   "metadata": {
    "collapsed": false,
    "ExecuteTime": {
     "end_time": "2023-06-04T10:37:47.287691Z",
     "start_time": "2023-06-04T10:37:46.346601Z"
    }
   }
  },
  {
   "cell_type": "markdown",
   "source": [
    "## Exploitation vs Exploration\n",
    "- \"pure exploitation\" – always recommend \"top items\" – what we did above\n",
    "- what if some other item is actually better, rating is poorer just due to noise?\n",
    "- \"exploration\" – presenting items to get more data\n",
    "- Multi-armed Bandit\n",
    "  - standard model for \"exploitation vs exploration\"\n",
    "  - many algorithms (e.g., \"upper confidence bounds\")\n",
    "- core idea:\n",
    "  - do not use just \"averages\"\n",
    "  - quantify uncertainty (e.g., standard deviation)\n",
    "  - systematic approach: Bayesian statistics\n",
    "  - pragmatic approach: U(n) ∼ 1/n, roulette wheel selection\n"
   ],
   "metadata": {
    "collapsed": false
   }
  },
  {
   "cell_type": "code",
   "execution_count": 6,
   "outputs": [],
   "source": [],
   "metadata": {
    "collapsed": false,
    "ExecuteTime": {
     "end_time": "2023-06-04T10:37:47.300063Z",
     "start_time": "2023-06-04T10:37:47.287895Z"
    }
   }
  }
 ],
 "metadata": {
  "kernelspec": {
   "display_name": "Python 3",
   "language": "python",
   "name": "python3"
  },
  "language_info": {
   "codemirror_mode": {
    "name": "ipython",
    "version": 2
   },
   "file_extension": ".py",
   "mimetype": "text/x-python",
   "name": "python",
   "nbconvert_exporter": "python",
   "pygments_lexer": "ipython2",
   "version": "2.7.6"
  }
 },
 "nbformat": 4,
 "nbformat_minor": 0
}
