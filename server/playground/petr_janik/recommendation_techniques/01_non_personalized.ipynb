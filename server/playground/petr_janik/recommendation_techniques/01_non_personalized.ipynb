{
 "cells": [
  {
   "cell_type": "code",
   "execution_count": 1,
   "metadata": {
    "collapsed": true,
    "ExecuteTime": {
     "end_time": "2023-05-09T14:58:44.279981Z",
     "start_time": "2023-05-09T14:58:30.788314Z"
    }
   },
   "outputs": [
    {
     "data": {
      "text/plain": "           BGGId  Rating           Username\n16597337   17709     2.0  kerbythepurplecow\n15421575  155693     2.0             Asgren\n16051321   40531     7.0              dzudz\n16392352   22864     7.0        Gamezombiac\n5484430       50     8.0               jaya\n...          ...     ...                ...\n13193370    1540     7.0        BrianSchoff\n7040948   264055     6.0  StupidRatCreature\n2319147   121921     7.0             ekloff\n3075854    77423     5.5              Leiye\n16584945  143096     3.0    ForgottenSpiral\n\n[10000000 rows x 3 columns]",
      "text/html": "<div>\n<style scoped>\n    .dataframe tbody tr th:only-of-type {\n        vertical-align: middle;\n    }\n\n    .dataframe tbody tr th {\n        vertical-align: top;\n    }\n\n    .dataframe thead th {\n        text-align: right;\n    }\n</style>\n<table border=\"1\" class=\"dataframe\">\n  <thead>\n    <tr style=\"text-align: right;\">\n      <th></th>\n      <th>BGGId</th>\n      <th>Rating</th>\n      <th>Username</th>\n    </tr>\n  </thead>\n  <tbody>\n    <tr>\n      <th>16597337</th>\n      <td>17709</td>\n      <td>2.0</td>\n      <td>kerbythepurplecow</td>\n    </tr>\n    <tr>\n      <th>15421575</th>\n      <td>155693</td>\n      <td>2.0</td>\n      <td>Asgren</td>\n    </tr>\n    <tr>\n      <th>16051321</th>\n      <td>40531</td>\n      <td>7.0</td>\n      <td>dzudz</td>\n    </tr>\n    <tr>\n      <th>16392352</th>\n      <td>22864</td>\n      <td>7.0</td>\n      <td>Gamezombiac</td>\n    </tr>\n    <tr>\n      <th>5484430</th>\n      <td>50</td>\n      <td>8.0</td>\n      <td>jaya</td>\n    </tr>\n    <tr>\n      <th>...</th>\n      <td>...</td>\n      <td>...</td>\n      <td>...</td>\n    </tr>\n    <tr>\n      <th>13193370</th>\n      <td>1540</td>\n      <td>7.0</td>\n      <td>BrianSchoff</td>\n    </tr>\n    <tr>\n      <th>7040948</th>\n      <td>264055</td>\n      <td>6.0</td>\n      <td>StupidRatCreature</td>\n    </tr>\n    <tr>\n      <th>2319147</th>\n      <td>121921</td>\n      <td>7.0</td>\n      <td>ekloff</td>\n    </tr>\n    <tr>\n      <th>3075854</th>\n      <td>77423</td>\n      <td>5.5</td>\n      <td>Leiye</td>\n    </tr>\n    <tr>\n      <th>16584945</th>\n      <td>143096</td>\n      <td>3.0</td>\n      <td>ForgottenSpiral</td>\n    </tr>\n  </tbody>\n</table>\n<p>10000000 rows × 3 columns</p>\n</div>"
     },
     "execution_count": 1,
     "metadata": {},
     "output_type": "execute_result"
    }
   ],
   "source": [
    "import pandas as pd\n",
    "\n",
    "from app.utils.universal_path import universal_path\n",
    "\n",
    "data_path = universal_path('../../../data/user_ratings.csv')\n",
    "full_df = pd.read_csv(data_path)\n",
    "\n",
    "small_df = full_df.sample(10000000, random_state=42)\n",
    "small_df"
   ]
  },
  {
   "cell_type": "markdown",
   "source": [
    "# Most popular items\n",
    "- compute average rating for each item"
   ],
   "metadata": {
    "collapsed": false
   }
  },
  {
   "cell_type": "code",
   "execution_count": 2,
   "outputs": [
    {
     "data": {
      "text/plain": "         Rating\n           mean\nBGGId          \n1      7.659893\n2      6.689061\n3      7.472895\n4      6.674976\n5      7.441088\n6      6.407500\n7      6.549755\n8      6.113426\n9      6.459529\n10     6.683932",
      "text/html": "<div>\n<style scoped>\n    .dataframe tbody tr th:only-of-type {\n        vertical-align: middle;\n    }\n\n    .dataframe tbody tr th {\n        vertical-align: top;\n    }\n\n    .dataframe thead tr th {\n        text-align: left;\n    }\n\n    .dataframe thead tr:last-of-type th {\n        text-align: right;\n    }\n</style>\n<table border=\"1\" class=\"dataframe\">\n  <thead>\n    <tr>\n      <th></th>\n      <th>Rating</th>\n    </tr>\n    <tr>\n      <th></th>\n      <th>mean</th>\n    </tr>\n    <tr>\n      <th>BGGId</th>\n      <th></th>\n    </tr>\n  </thead>\n  <tbody>\n    <tr>\n      <th>1</th>\n      <td>7.659893</td>\n    </tr>\n    <tr>\n      <th>2</th>\n      <td>6.689061</td>\n    </tr>\n    <tr>\n      <th>3</th>\n      <td>7.472895</td>\n    </tr>\n    <tr>\n      <th>4</th>\n      <td>6.674976</td>\n    </tr>\n    <tr>\n      <th>5</th>\n      <td>7.441088</td>\n    </tr>\n    <tr>\n      <th>6</th>\n      <td>6.407500</td>\n    </tr>\n    <tr>\n      <th>7</th>\n      <td>6.549755</td>\n    </tr>\n    <tr>\n      <th>8</th>\n      <td>6.113426</td>\n    </tr>\n    <tr>\n      <th>9</th>\n      <td>6.459529</td>\n    </tr>\n    <tr>\n      <th>10</th>\n      <td>6.683932</td>\n    </tr>\n  </tbody>\n</table>\n</div>"
     },
     "execution_count": 2,
     "metadata": {},
     "output_type": "execute_result"
    }
   ],
   "source": [
    "average_ratings = small_df[['BGGId', 'Rating']].groupby('BGGId').agg(['mean'])\n",
    "average_ratings.head(10)"
   ],
   "metadata": {
    "collapsed": false,
    "ExecuteTime": {
     "end_time": "2023-05-09T14:58:44.911439Z",
     "start_time": "2023-05-09T14:58:44.421703Z"
    }
   }
  },
  {
   "cell_type": "markdown",
   "source": [
    "- recommend items with the highest averages"
   ],
   "metadata": {
    "collapsed": false
   }
  },
  {
   "cell_type": "code",
   "execution_count": 3,
   "outputs": [
    {
     "data": {
      "text/plain": "          Rating      \n            mean count\nBGGId                 \n284121  9.762632    57\n207203  9.647059    34\n342942  9.644515   378\n345976  9.600000    25\n295785  9.591495   162\n275777  9.565217    23\n249277  9.564100   100\n349161  9.500000     4\n260037  9.383529    17\n323046  9.380952    21",
      "text/html": "<div>\n<style scoped>\n    .dataframe tbody tr th:only-of-type {\n        vertical-align: middle;\n    }\n\n    .dataframe tbody tr th {\n        vertical-align: top;\n    }\n\n    .dataframe thead tr th {\n        text-align: left;\n    }\n\n    .dataframe thead tr:last-of-type th {\n        text-align: right;\n    }\n</style>\n<table border=\"1\" class=\"dataframe\">\n  <thead>\n    <tr>\n      <th></th>\n      <th colspan=\"2\" halign=\"left\">Rating</th>\n    </tr>\n    <tr>\n      <th></th>\n      <th>mean</th>\n      <th>count</th>\n    </tr>\n    <tr>\n      <th>BGGId</th>\n      <th></th>\n      <th></th>\n    </tr>\n  </thead>\n  <tbody>\n    <tr>\n      <th>284121</th>\n      <td>9.762632</td>\n      <td>57</td>\n    </tr>\n    <tr>\n      <th>207203</th>\n      <td>9.647059</td>\n      <td>34</td>\n    </tr>\n    <tr>\n      <th>342942</th>\n      <td>9.644515</td>\n      <td>378</td>\n    </tr>\n    <tr>\n      <th>345976</th>\n      <td>9.600000</td>\n      <td>25</td>\n    </tr>\n    <tr>\n      <th>295785</th>\n      <td>9.591495</td>\n      <td>162</td>\n    </tr>\n    <tr>\n      <th>275777</th>\n      <td>9.565217</td>\n      <td>23</td>\n    </tr>\n    <tr>\n      <th>249277</th>\n      <td>9.564100</td>\n      <td>100</td>\n    </tr>\n    <tr>\n      <th>349161</th>\n      <td>9.500000</td>\n      <td>4</td>\n    </tr>\n    <tr>\n      <th>260037</th>\n      <td>9.383529</td>\n      <td>17</td>\n    </tr>\n    <tr>\n      <th>323046</th>\n      <td>9.380952</td>\n      <td>21</td>\n    </tr>\n  </tbody>\n</table>\n</div>"
     },
     "execution_count": 3,
     "metadata": {},
     "output_type": "execute_result"
    }
   ],
   "source": [
    "average_ratings_sorted_by_best = small_df[['BGGId', 'Rating']].groupby('BGGId').agg(['mean', 'count']).sort_values(\n",
    "    by=('Rating', 'mean'), ascending=False)\n",
    "average_ratings_sorted_by_best.head(10)"
   ],
   "metadata": {
    "collapsed": false,
    "ExecuteTime": {
     "end_time": "2023-05-09T14:58:45.255329Z",
     "start_time": "2023-05-09T14:58:44.839945Z"
    }
   }
  },
  {
   "cell_type": "markdown",
   "source": [
    "## Problems:\n",
    "### Number of ratings, uncertainty\n",
    "- average 5 from 3 ratings\n",
    "- average 4.9 from 100 ratings"
   ],
   "metadata": {
    "collapsed": false
   }
  },
  {
   "cell_type": "code",
   "execution_count": 4,
   "outputs": [
    {
     "data": {
      "text/plain": "          Rating      \n            mean count\nBGGId                 \n284121  9.762632    57\n207203  9.647059    34\n342942  9.644515   378\n345976  9.600000    25\n295785  9.591495   162\n275777  9.565217    23\n249277  9.564100   100\n349161  9.500000     4\n260037  9.383529    17\n323046  9.380952    21",
      "text/html": "<div>\n<style scoped>\n    .dataframe tbody tr th:only-of-type {\n        vertical-align: middle;\n    }\n\n    .dataframe tbody tr th {\n        vertical-align: top;\n    }\n\n    .dataframe thead tr th {\n        text-align: left;\n    }\n\n    .dataframe thead tr:last-of-type th {\n        text-align: right;\n    }\n</style>\n<table border=\"1\" class=\"dataframe\">\n  <thead>\n    <tr>\n      <th></th>\n      <th colspan=\"2\" halign=\"left\">Rating</th>\n    </tr>\n    <tr>\n      <th></th>\n      <th>mean</th>\n      <th>count</th>\n    </tr>\n    <tr>\n      <th>BGGId</th>\n      <th></th>\n      <th></th>\n    </tr>\n  </thead>\n  <tbody>\n    <tr>\n      <th>284121</th>\n      <td>9.762632</td>\n      <td>57</td>\n    </tr>\n    <tr>\n      <th>207203</th>\n      <td>9.647059</td>\n      <td>34</td>\n    </tr>\n    <tr>\n      <th>342942</th>\n      <td>9.644515</td>\n      <td>378</td>\n    </tr>\n    <tr>\n      <th>345976</th>\n      <td>9.600000</td>\n      <td>25</td>\n    </tr>\n    <tr>\n      <th>295785</th>\n      <td>9.591495</td>\n      <td>162</td>\n    </tr>\n    <tr>\n      <th>275777</th>\n      <td>9.565217</td>\n      <td>23</td>\n    </tr>\n    <tr>\n      <th>249277</th>\n      <td>9.564100</td>\n      <td>100</td>\n    </tr>\n    <tr>\n      <th>349161</th>\n      <td>9.500000</td>\n      <td>4</td>\n    </tr>\n    <tr>\n      <th>260037</th>\n      <td>9.383529</td>\n      <td>17</td>\n    </tr>\n    <tr>\n      <th>323046</th>\n      <td>9.380952</td>\n      <td>21</td>\n    </tr>\n  </tbody>\n</table>\n</div>"
     },
     "execution_count": 4,
     "metadata": {},
     "output_type": "execute_result"
    }
   ],
   "source": [
    "MIN_RATINGS = 3\n",
    "average_ratings_sorted_by_best[average_ratings_sorted_by_best[('Rating', 'count')] > MIN_RATINGS].head(10)"
   ],
   "metadata": {
    "collapsed": false,
    "ExecuteTime": {
     "end_time": "2023-05-09T14:58:45.268649Z",
     "start_time": "2023-05-09T14:58:45.259006Z"
    }
   }
  },
  {
   "cell_type": "markdown",
   "source": [
    "### Bias, normalization\n",
    "- some users give systematically higher ratings"
   ],
   "metadata": {
    "collapsed": false
   }
  },
  {
   "cell_type": "code",
   "execution_count": 5,
   "outputs": [
    {
     "data": {
      "text/plain": "           BGGId  Rating           Username  Mean game rating\n16597337   17709     2.0  kerbythepurplecow          5.511491\n15421575  155693     2.0             Asgren          5.276764\n16051321   40531     7.0              dzudz          6.415153\n16392352   22864     7.0        Gamezombiac          6.101974\n5484430       50     8.0               jaya          7.240703\n...          ...     ...                ...               ...\n13193370    1540     7.0        BrianSchoff          7.097141\n7040948   264055     6.0  StupidRatCreature          7.272576\n2319147   121921     7.0             ekloff          7.911429\n3075854    77423     5.5              Leiye          7.720694\n16584945  143096     3.0    ForgottenSpiral          7.359340\n\n[10000000 rows x 4 columns]",
      "text/html": "<div>\n<style scoped>\n    .dataframe tbody tr th:only-of-type {\n        vertical-align: middle;\n    }\n\n    .dataframe tbody tr th {\n        vertical-align: top;\n    }\n\n    .dataframe thead th {\n        text-align: right;\n    }\n</style>\n<table border=\"1\" class=\"dataframe\">\n  <thead>\n    <tr style=\"text-align: right;\">\n      <th></th>\n      <th>BGGId</th>\n      <th>Rating</th>\n      <th>Username</th>\n      <th>Mean game rating</th>\n    </tr>\n  </thead>\n  <tbody>\n    <tr>\n      <th>16597337</th>\n      <td>17709</td>\n      <td>2.0</td>\n      <td>kerbythepurplecow</td>\n      <td>5.511491</td>\n    </tr>\n    <tr>\n      <th>15421575</th>\n      <td>155693</td>\n      <td>2.0</td>\n      <td>Asgren</td>\n      <td>5.276764</td>\n    </tr>\n    <tr>\n      <th>16051321</th>\n      <td>40531</td>\n      <td>7.0</td>\n      <td>dzudz</td>\n      <td>6.415153</td>\n    </tr>\n    <tr>\n      <th>16392352</th>\n      <td>22864</td>\n      <td>7.0</td>\n      <td>Gamezombiac</td>\n      <td>6.101974</td>\n    </tr>\n    <tr>\n      <th>5484430</th>\n      <td>50</td>\n      <td>8.0</td>\n      <td>jaya</td>\n      <td>7.240703</td>\n    </tr>\n    <tr>\n      <th>...</th>\n      <td>...</td>\n      <td>...</td>\n      <td>...</td>\n      <td>...</td>\n    </tr>\n    <tr>\n      <th>13193370</th>\n      <td>1540</td>\n      <td>7.0</td>\n      <td>BrianSchoff</td>\n      <td>7.097141</td>\n    </tr>\n    <tr>\n      <th>7040948</th>\n      <td>264055</td>\n      <td>6.0</td>\n      <td>StupidRatCreature</td>\n      <td>7.272576</td>\n    </tr>\n    <tr>\n      <th>2319147</th>\n      <td>121921</td>\n      <td>7.0</td>\n      <td>ekloff</td>\n      <td>7.911429</td>\n    </tr>\n    <tr>\n      <th>3075854</th>\n      <td>77423</td>\n      <td>5.5</td>\n      <td>Leiye</td>\n      <td>7.720694</td>\n    </tr>\n    <tr>\n      <th>16584945</th>\n      <td>143096</td>\n      <td>3.0</td>\n      <td>ForgottenSpiral</td>\n      <td>7.359340</td>\n    </tr>\n  </tbody>\n</table>\n<p>10000000 rows × 4 columns</p>\n</div>"
     },
     "execution_count": 5,
     "metadata": {},
     "output_type": "execute_result"
    }
   ],
   "source": [
    "small_df[\"Mean game rating\"] = small_df['BGGId'].map(average_ratings[('Rating', 'mean')])\n",
    "small_df"
   ],
   "metadata": {
    "collapsed": false,
    "ExecuteTime": {
     "end_time": "2023-05-09T14:58:45.499697Z",
     "start_time": "2023-05-09T14:58:45.269356Z"
    }
   }
  },
  {
   "cell_type": "code",
   "execution_count": 6,
   "outputs": [
    {
     "data": {
      "text/plain": "                     Rating Mean game rating      Bias\n                       mean             mean          \nUsername                                              \n Fu_Koios          9.000000         7.302158  1.697842\n beastvol          7.428571         7.282515  0.146057\n mycroft           7.900000         6.916582  0.983418\n woh               8.666667         7.175830  1.490836\n(mostly) harmless  9.000000         6.291769  2.708231\n...                     ...              ...       ...\nzzzuzu             7.000000         7.103824 -0.103824\nzzzvone            6.545455         7.055997 -0.510542\nzzzxxxyyy          7.546667         7.782547 -0.235880\nzzzzzane           7.432099         7.309132  0.122967\nÆleksandr Þræð     8.583333         6.365480  2.217853\n\n[365032 rows x 3 columns]",
      "text/html": "<div>\n<style scoped>\n    .dataframe tbody tr th:only-of-type {\n        vertical-align: middle;\n    }\n\n    .dataframe tbody tr th {\n        vertical-align: top;\n    }\n\n    .dataframe thead tr th {\n        text-align: left;\n    }\n\n    .dataframe thead tr:last-of-type th {\n        text-align: right;\n    }\n</style>\n<table border=\"1\" class=\"dataframe\">\n  <thead>\n    <tr>\n      <th></th>\n      <th>Rating</th>\n      <th>Mean game rating</th>\n      <th>Bias</th>\n    </tr>\n    <tr>\n      <th></th>\n      <th>mean</th>\n      <th>mean</th>\n      <th></th>\n    </tr>\n    <tr>\n      <th>Username</th>\n      <th></th>\n      <th></th>\n      <th></th>\n    </tr>\n  </thead>\n  <tbody>\n    <tr>\n      <th>Fu_Koios</th>\n      <td>9.000000</td>\n      <td>7.302158</td>\n      <td>1.697842</td>\n    </tr>\n    <tr>\n      <th>beastvol</th>\n      <td>7.428571</td>\n      <td>7.282515</td>\n      <td>0.146057</td>\n    </tr>\n    <tr>\n      <th>mycroft</th>\n      <td>7.900000</td>\n      <td>6.916582</td>\n      <td>0.983418</td>\n    </tr>\n    <tr>\n      <th>woh</th>\n      <td>8.666667</td>\n      <td>7.175830</td>\n      <td>1.490836</td>\n    </tr>\n    <tr>\n      <th>(mostly) harmless</th>\n      <td>9.000000</td>\n      <td>6.291769</td>\n      <td>2.708231</td>\n    </tr>\n    <tr>\n      <th>...</th>\n      <td>...</td>\n      <td>...</td>\n      <td>...</td>\n    </tr>\n    <tr>\n      <th>zzzuzu</th>\n      <td>7.000000</td>\n      <td>7.103824</td>\n      <td>-0.103824</td>\n    </tr>\n    <tr>\n      <th>zzzvone</th>\n      <td>6.545455</td>\n      <td>7.055997</td>\n      <td>-0.510542</td>\n    </tr>\n    <tr>\n      <th>zzzxxxyyy</th>\n      <td>7.546667</td>\n      <td>7.782547</td>\n      <td>-0.235880</td>\n    </tr>\n    <tr>\n      <th>zzzzzane</th>\n      <td>7.432099</td>\n      <td>7.309132</td>\n      <td>0.122967</td>\n    </tr>\n    <tr>\n      <th>Æleksandr Þræð</th>\n      <td>8.583333</td>\n      <td>6.365480</td>\n      <td>2.217853</td>\n    </tr>\n  </tbody>\n</table>\n<p>365032 rows × 3 columns</p>\n</div>"
     },
     "execution_count": 6,
     "metadata": {},
     "output_type": "execute_result"
    }
   ],
   "source": [
    "bias_by_username = small_df[['Username', 'Rating', 'Mean game rating']].groupby('Username').agg(['mean'])\n",
    "bias_by_username['Bias'] = bias_by_username[('Rating', 'mean')] - bias_by_username[('Mean game rating', 'mean')]\n",
    "bias_by_username"
   ],
   "metadata": {
    "collapsed": false,
    "ExecuteTime": {
     "end_time": "2023-05-09T14:58:52.210839Z",
     "start_time": "2023-05-09T14:58:45.502019Z"
    }
   }
  },
  {
   "cell_type": "code",
   "execution_count": 7,
   "outputs": [
    {
     "data": {
      "text/plain": "                   Username   BGGId  Rating      Bias  UnbiasedRating\n16597337  kerbythepurplecow   17709     2.0 -0.878420        2.878420\n3122887   kerbythepurplecow   41114     7.0 -0.878420        7.878420\n4073178   kerbythepurplecow   38453     4.0 -0.878420        4.878420\n4347575   kerbythepurplecow     463     8.0 -0.878420        8.878420\n3048157   kerbythepurplecow  100901     5.0 -0.878420        5.878420\n...                     ...     ...     ...       ...             ...\n12448314          jthomash2  233398    10.0  1.963944        8.036056\n15070301   muscularsnails65  193949    10.0  2.123468        7.876532\n8086190           ARTURUS22   10547     9.0  1.865938        7.134062\n6667068             Collage   70323     9.0  1.774661        7.225339\n2997247        PedroBaglini  169786     9.0  0.676298        8.323702\n\n[9999964 rows x 5 columns]",
      "text/html": "<div>\n<style scoped>\n    .dataframe tbody tr th:only-of-type {\n        vertical-align: middle;\n    }\n\n    .dataframe tbody tr th {\n        vertical-align: top;\n    }\n\n    .dataframe thead th {\n        text-align: right;\n    }\n</style>\n<table border=\"1\" class=\"dataframe\">\n  <thead>\n    <tr style=\"text-align: right;\">\n      <th></th>\n      <th>Username</th>\n      <th>BGGId</th>\n      <th>Rating</th>\n      <th>Bias</th>\n      <th>UnbiasedRating</th>\n    </tr>\n  </thead>\n  <tbody>\n    <tr>\n      <th>16597337</th>\n      <td>kerbythepurplecow</td>\n      <td>17709</td>\n      <td>2.0</td>\n      <td>-0.878420</td>\n      <td>2.878420</td>\n    </tr>\n    <tr>\n      <th>3122887</th>\n      <td>kerbythepurplecow</td>\n      <td>41114</td>\n      <td>7.0</td>\n      <td>-0.878420</td>\n      <td>7.878420</td>\n    </tr>\n    <tr>\n      <th>4073178</th>\n      <td>kerbythepurplecow</td>\n      <td>38453</td>\n      <td>4.0</td>\n      <td>-0.878420</td>\n      <td>4.878420</td>\n    </tr>\n    <tr>\n      <th>4347575</th>\n      <td>kerbythepurplecow</td>\n      <td>463</td>\n      <td>8.0</td>\n      <td>-0.878420</td>\n      <td>8.878420</td>\n    </tr>\n    <tr>\n      <th>3048157</th>\n      <td>kerbythepurplecow</td>\n      <td>100901</td>\n      <td>5.0</td>\n      <td>-0.878420</td>\n      <td>5.878420</td>\n    </tr>\n    <tr>\n      <th>...</th>\n      <td>...</td>\n      <td>...</td>\n      <td>...</td>\n      <td>...</td>\n      <td>...</td>\n    </tr>\n    <tr>\n      <th>12448314</th>\n      <td>jthomash2</td>\n      <td>233398</td>\n      <td>10.0</td>\n      <td>1.963944</td>\n      <td>8.036056</td>\n    </tr>\n    <tr>\n      <th>15070301</th>\n      <td>muscularsnails65</td>\n      <td>193949</td>\n      <td>10.0</td>\n      <td>2.123468</td>\n      <td>7.876532</td>\n    </tr>\n    <tr>\n      <th>8086190</th>\n      <td>ARTURUS22</td>\n      <td>10547</td>\n      <td>9.0</td>\n      <td>1.865938</td>\n      <td>7.134062</td>\n    </tr>\n    <tr>\n      <th>6667068</th>\n      <td>Collage</td>\n      <td>70323</td>\n      <td>9.0</td>\n      <td>1.774661</td>\n      <td>7.225339</td>\n    </tr>\n    <tr>\n      <th>2997247</th>\n      <td>PedroBaglini</td>\n      <td>169786</td>\n      <td>9.0</td>\n      <td>0.676298</td>\n      <td>8.323702</td>\n    </tr>\n  </tbody>\n</table>\n<p>9999964 rows × 5 columns</p>\n</div>"
     },
     "execution_count": 7,
     "metadata": {},
     "output_type": "execute_result"
    }
   ],
   "source": [
    "unbiased_ratings = small_df[['Username', 'BGGId', 'Rating']].merge(bias_by_username['Bias'], left_on='Username',\n",
    "                                                                   right_index=True)\n",
    "unbiased_ratings['UnbiasedRating'] = unbiased_ratings['Rating'] - unbiased_ratings['Bias']\n",
    "unbiased_ratings"
   ],
   "metadata": {
    "collapsed": false,
    "ExecuteTime": {
     "end_time": "2023-05-09T14:59:00.565418Z",
     "start_time": "2023-05-09T14:58:52.211577Z"
    }
   }
  },
  {
   "cell_type": "code",
   "execution_count": 8,
   "outputs": [
    {
     "data": {
      "text/plain": "       UnbiasedRating      \n                 mean count\nBGGId                      \n342942       9.584915   378\n284121       9.558533    57\n207203       9.516112    34\n345976       9.490754    25\n341169       9.331137   265\n...               ...   ...\n99918        1.483853    20\n155582       1.403662    18\n144110       1.154102    35\n240624       0.970840    38\n276022       0.932270   157\n\n[21925 rows x 2 columns]",
      "text/html": "<div>\n<style scoped>\n    .dataframe tbody tr th:only-of-type {\n        vertical-align: middle;\n    }\n\n    .dataframe tbody tr th {\n        vertical-align: top;\n    }\n\n    .dataframe thead tr th {\n        text-align: left;\n    }\n\n    .dataframe thead tr:last-of-type th {\n        text-align: right;\n    }\n</style>\n<table border=\"1\" class=\"dataframe\">\n  <thead>\n    <tr>\n      <th></th>\n      <th colspan=\"2\" halign=\"left\">UnbiasedRating</th>\n    </tr>\n    <tr>\n      <th></th>\n      <th>mean</th>\n      <th>count</th>\n    </tr>\n    <tr>\n      <th>BGGId</th>\n      <th></th>\n      <th></th>\n    </tr>\n  </thead>\n  <tbody>\n    <tr>\n      <th>342942</th>\n      <td>9.584915</td>\n      <td>378</td>\n    </tr>\n    <tr>\n      <th>284121</th>\n      <td>9.558533</td>\n      <td>57</td>\n    </tr>\n    <tr>\n      <th>207203</th>\n      <td>9.516112</td>\n      <td>34</td>\n    </tr>\n    <tr>\n      <th>345976</th>\n      <td>9.490754</td>\n      <td>25</td>\n    </tr>\n    <tr>\n      <th>341169</th>\n      <td>9.331137</td>\n      <td>265</td>\n    </tr>\n    <tr>\n      <th>...</th>\n      <td>...</td>\n      <td>...</td>\n    </tr>\n    <tr>\n      <th>99918</th>\n      <td>1.483853</td>\n      <td>20</td>\n    </tr>\n    <tr>\n      <th>155582</th>\n      <td>1.403662</td>\n      <td>18</td>\n    </tr>\n    <tr>\n      <th>144110</th>\n      <td>1.154102</td>\n      <td>35</td>\n    </tr>\n    <tr>\n      <th>240624</th>\n      <td>0.970840</td>\n      <td>38</td>\n    </tr>\n    <tr>\n      <th>276022</th>\n      <td>0.932270</td>\n      <td>157</td>\n    </tr>\n  </tbody>\n</table>\n<p>21925 rows × 2 columns</p>\n</div>"
     },
     "execution_count": 8,
     "metadata": {},
     "output_type": "execute_result"
    }
   ],
   "source": [
    "average_unbiased_ratings_sorted_from_best = unbiased_ratings[['BGGId', 'UnbiasedRating']].groupby('BGGId').agg(\n",
    "    ['mean', 'count']).sort_values(by=('UnbiasedRating', 'mean'), ascending=False)\n",
    "average_unbiased_ratings_sorted_from_best"
   ],
   "metadata": {
    "collapsed": false,
    "ExecuteTime": {
     "end_time": "2023-05-09T14:59:01.564493Z",
     "start_time": "2023-05-09T14:59:00.569407Z"
    }
   }
  },
  {
   "cell_type": "code",
   "execution_count": 9,
   "outputs": [
    {
     "data": {
      "text/plain": "       UnbiasedRating      \n                 mean count\nBGGId                      \n342942       9.584915   378\n284121       9.558533    57\n207203       9.516112    34\n345976       9.490754    25\n341169       9.331137   265\n295785       9.259623   162\n349161       9.232332     4\n260037       9.227323    17\n63170        9.196278   301\n279727       9.180363    26",
      "text/html": "<div>\n<style scoped>\n    .dataframe tbody tr th:only-of-type {\n        vertical-align: middle;\n    }\n\n    .dataframe tbody tr th {\n        vertical-align: top;\n    }\n\n    .dataframe thead tr th {\n        text-align: left;\n    }\n\n    .dataframe thead tr:last-of-type th {\n        text-align: right;\n    }\n</style>\n<table border=\"1\" class=\"dataframe\">\n  <thead>\n    <tr>\n      <th></th>\n      <th colspan=\"2\" halign=\"left\">UnbiasedRating</th>\n    </tr>\n    <tr>\n      <th></th>\n      <th>mean</th>\n      <th>count</th>\n    </tr>\n    <tr>\n      <th>BGGId</th>\n      <th></th>\n      <th></th>\n    </tr>\n  </thead>\n  <tbody>\n    <tr>\n      <th>342942</th>\n      <td>9.584915</td>\n      <td>378</td>\n    </tr>\n    <tr>\n      <th>284121</th>\n      <td>9.558533</td>\n      <td>57</td>\n    </tr>\n    <tr>\n      <th>207203</th>\n      <td>9.516112</td>\n      <td>34</td>\n    </tr>\n    <tr>\n      <th>345976</th>\n      <td>9.490754</td>\n      <td>25</td>\n    </tr>\n    <tr>\n      <th>341169</th>\n      <td>9.331137</td>\n      <td>265</td>\n    </tr>\n    <tr>\n      <th>295785</th>\n      <td>9.259623</td>\n      <td>162</td>\n    </tr>\n    <tr>\n      <th>349161</th>\n      <td>9.232332</td>\n      <td>4</td>\n    </tr>\n    <tr>\n      <th>260037</th>\n      <td>9.227323</td>\n      <td>17</td>\n    </tr>\n    <tr>\n      <th>63170</th>\n      <td>9.196278</td>\n      <td>301</td>\n    </tr>\n    <tr>\n      <th>279727</th>\n      <td>9.180363</td>\n      <td>26</td>\n    </tr>\n  </tbody>\n</table>\n</div>"
     },
     "execution_count": 9,
     "metadata": {},
     "output_type": "execute_result"
    }
   ],
   "source": [
    "# with at least MIN_RATINGS ratings\n",
    "average_unbiased_ratings_sorted_from_best[\n",
    "    average_unbiased_ratings_sorted_from_best[('UnbiasedRating', 'count')] > MIN_RATINGS].head(10)"
   ],
   "metadata": {
    "collapsed": false,
    "ExecuteTime": {
     "end_time": "2023-05-09T14:59:01.578296Z",
     "start_time": "2023-05-09T14:59:01.565388Z"
    }
   }
  },
  {
   "cell_type": "markdown",
   "source": [
    "## Exploitation vs Exploration\n",
    "- \"pure exploitation\" – always recommend \"top items\" – what we did above\n",
    "- what if some other item is actually better, rating is poorer just due to noise?\n",
    "- \"exploration\" – presenting items to get more data\n",
    "- Multi-armed Bandit\n",
    "  - standard model for \"exploitation vs exploration\"\n",
    "  - many algorithms (e.g., \"upper confidence bounds\")\n",
    "- core idea:\n",
    "  - do not use just \"averages\"\n",
    "  - quantify uncertainty (e.g., standard deviation)\n",
    "  - systematic approach: Bayesian statistics\n",
    "  - pragmatic approach: U(n) ∼ 1/n, roulette wheel selection\n"
   ],
   "metadata": {
    "collapsed": false
   }
  },
  {
   "cell_type": "code",
   "execution_count": 9,
   "outputs": [],
   "source": [],
   "metadata": {
    "collapsed": false,
    "ExecuteTime": {
     "end_time": "2023-05-09T14:59:01.584636Z",
     "start_time": "2023-05-09T14:59:01.580988Z"
    }
   }
  }
 ],
 "metadata": {
  "kernelspec": {
   "display_name": "Python 3",
   "language": "python",
   "name": "python3"
  },
  "language_info": {
   "codemirror_mode": {
    "name": "ipython",
    "version": 2
   },
   "file_extension": ".py",
   "mimetype": "text/x-python",
   "name": "python",
   "nbconvert_exporter": "python",
   "pygments_lexer": "ipython2",
   "version": "2.7.6"
  }
 },
 "nbformat": 4,
 "nbformat_minor": 0
}
