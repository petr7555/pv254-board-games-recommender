{
 "cells": [
  {
   "cell_type": "code",
   "execution_count": 2,
   "metadata": {
    "collapsed": true
   },
   "outputs": [
    {
     "data": {
      "text/plain": "           BGGId  Rating           Username\n16597337   17709     2.0  kerbythepurplecow\n15421575  155693     2.0             Asgren\n16051321   40531     7.0              dzudz\n16392352   22864     7.0        Gamezombiac\n5484430       50     8.0               jaya\n...          ...     ...                ...\n9028411   164153     9.0       Treble Delta\n5500626   144733     7.6           hisayasu\n17303655   11104     5.0           apekoolp\n11167086  192458     8.0          DuneTiger\n4180938    12942     7.0            gazkull\n\n[1000 rows x 3 columns]",
      "text/html": "<div>\n<style scoped>\n    .dataframe tbody tr th:only-of-type {\n        vertical-align: middle;\n    }\n\n    .dataframe tbody tr th {\n        vertical-align: top;\n    }\n\n    .dataframe thead th {\n        text-align: right;\n    }\n</style>\n<table border=\"1\" class=\"dataframe\">\n  <thead>\n    <tr style=\"text-align: right;\">\n      <th></th>\n      <th>BGGId</th>\n      <th>Rating</th>\n      <th>Username</th>\n    </tr>\n  </thead>\n  <tbody>\n    <tr>\n      <th>16597337</th>\n      <td>17709</td>\n      <td>2.0</td>\n      <td>kerbythepurplecow</td>\n    </tr>\n    <tr>\n      <th>15421575</th>\n      <td>155693</td>\n      <td>2.0</td>\n      <td>Asgren</td>\n    </tr>\n    <tr>\n      <th>16051321</th>\n      <td>40531</td>\n      <td>7.0</td>\n      <td>dzudz</td>\n    </tr>\n    <tr>\n      <th>16392352</th>\n      <td>22864</td>\n      <td>7.0</td>\n      <td>Gamezombiac</td>\n    </tr>\n    <tr>\n      <th>5484430</th>\n      <td>50</td>\n      <td>8.0</td>\n      <td>jaya</td>\n    </tr>\n    <tr>\n      <th>...</th>\n      <td>...</td>\n      <td>...</td>\n      <td>...</td>\n    </tr>\n    <tr>\n      <th>9028411</th>\n      <td>164153</td>\n      <td>9.0</td>\n      <td>Treble Delta</td>\n    </tr>\n    <tr>\n      <th>5500626</th>\n      <td>144733</td>\n      <td>7.6</td>\n      <td>hisayasu</td>\n    </tr>\n    <tr>\n      <th>17303655</th>\n      <td>11104</td>\n      <td>5.0</td>\n      <td>apekoolp</td>\n    </tr>\n    <tr>\n      <th>11167086</th>\n      <td>192458</td>\n      <td>8.0</td>\n      <td>DuneTiger</td>\n    </tr>\n    <tr>\n      <th>4180938</th>\n      <td>12942</td>\n      <td>7.0</td>\n      <td>gazkull</td>\n    </tr>\n  </tbody>\n</table>\n<p>1000 rows × 3 columns</p>\n</div>"
     },
     "execution_count": 2,
     "metadata": {},
     "output_type": "execute_result"
    }
   ],
   "source": [
    "import pandas as pd\n",
    "\n",
    "DATA_PATH = '../../../data/user_ratings.csv'\n",
    "full_df = pd.read_csv(DATA_PATH)\n",
    "\n",
    "small_df = full_df.sample(1000, random_state=42)\n",
    "small_df"
   ]
  },
  {
   "cell_type": "markdown",
   "source": [
    "# Most popular items\n",
    "- compute average rating for each item\n",
    "- recommend items with the highest averages"
   ],
   "metadata": {
    "collapsed": false
   }
  },
  {
   "cell_type": "code",
   "execution_count": 4,
   "outputs": [
    {
     "data": {
      "text/plain": "       Rating      \n         mean count\nBGGId              \n19370    10.0     1\n248562   10.0     1\n35423    10.0     1\n219217   10.0     1\n4921     10.0     1\n233078   10.0     1\n4112     10.0     1\n163166   10.0     1\n151070   10.0     1\n216132   10.0     1",
      "text/html": "<div>\n<style scoped>\n    .dataframe tbody tr th:only-of-type {\n        vertical-align: middle;\n    }\n\n    .dataframe tbody tr th {\n        vertical-align: top;\n    }\n\n    .dataframe thead tr th {\n        text-align: left;\n    }\n\n    .dataframe thead tr:last-of-type th {\n        text-align: right;\n    }\n</style>\n<table border=\"1\" class=\"dataframe\">\n  <thead>\n    <tr>\n      <th></th>\n      <th colspan=\"2\" halign=\"left\">Rating</th>\n    </tr>\n    <tr>\n      <th></th>\n      <th>mean</th>\n      <th>count</th>\n    </tr>\n    <tr>\n      <th>BGGId</th>\n      <th></th>\n      <th></th>\n    </tr>\n  </thead>\n  <tbody>\n    <tr>\n      <th>19370</th>\n      <td>10.0</td>\n      <td>1</td>\n    </tr>\n    <tr>\n      <th>248562</th>\n      <td>10.0</td>\n      <td>1</td>\n    </tr>\n    <tr>\n      <th>35423</th>\n      <td>10.0</td>\n      <td>1</td>\n    </tr>\n    <tr>\n      <th>219217</th>\n      <td>10.0</td>\n      <td>1</td>\n    </tr>\n    <tr>\n      <th>4921</th>\n      <td>10.0</td>\n      <td>1</td>\n    </tr>\n    <tr>\n      <th>233078</th>\n      <td>10.0</td>\n      <td>1</td>\n    </tr>\n    <tr>\n      <th>4112</th>\n      <td>10.0</td>\n      <td>1</td>\n    </tr>\n    <tr>\n      <th>163166</th>\n      <td>10.0</td>\n      <td>1</td>\n    </tr>\n    <tr>\n      <th>151070</th>\n      <td>10.0</td>\n      <td>1</td>\n    </tr>\n    <tr>\n      <th>216132</th>\n      <td>10.0</td>\n      <td>1</td>\n    </tr>\n  </tbody>\n</table>\n</div>"
     },
     "execution_count": 4,
     "metadata": {},
     "output_type": "execute_result"
    }
   ],
   "source": [
    "average_ratings = small_df[['BGGId', 'Rating']].groupby('BGGId').agg(['mean', 'count']).sort_values(by=('Rating', 'mean'), ascending=False)\n",
    "average_ratings.head(10)"
   ],
   "metadata": {
    "collapsed": false
   }
  },
  {
   "cell_type": "markdown",
   "source": [
    "## Problems:\n",
    "### Number of ratings, uncertainty\n",
    "- average 5 from 3 ratings\n",
    "- average 4.9 from 100 ratings"
   ],
   "metadata": {
    "collapsed": false
   }
  },
  {
   "cell_type": "code",
   "execution_count": 5,
   "outputs": [
    {
     "data": {
      "text/plain": "       Rating      \n         mean count\nBGGId              \n237182  8.625     4\n96848   8.625     4\n2651    8.625     4\n169786  8.375     4\n133473  8.315     4\n84876   8.300     5\n170216  8.100     5\n178900  8.050     4\n68448   7.800     5\n201808  7.750     4",
      "text/html": "<div>\n<style scoped>\n    .dataframe tbody tr th:only-of-type {\n        vertical-align: middle;\n    }\n\n    .dataframe tbody tr th {\n        vertical-align: top;\n    }\n\n    .dataframe thead tr th {\n        text-align: left;\n    }\n\n    .dataframe thead tr:last-of-type th {\n        text-align: right;\n    }\n</style>\n<table border=\"1\" class=\"dataframe\">\n  <thead>\n    <tr>\n      <th></th>\n      <th colspan=\"2\" halign=\"left\">Rating</th>\n    </tr>\n    <tr>\n      <th></th>\n      <th>mean</th>\n      <th>count</th>\n    </tr>\n    <tr>\n      <th>BGGId</th>\n      <th></th>\n      <th></th>\n    </tr>\n  </thead>\n  <tbody>\n    <tr>\n      <th>237182</th>\n      <td>8.625</td>\n      <td>4</td>\n    </tr>\n    <tr>\n      <th>96848</th>\n      <td>8.625</td>\n      <td>4</td>\n    </tr>\n    <tr>\n      <th>2651</th>\n      <td>8.625</td>\n      <td>4</td>\n    </tr>\n    <tr>\n      <th>169786</th>\n      <td>8.375</td>\n      <td>4</td>\n    </tr>\n    <tr>\n      <th>133473</th>\n      <td>8.315</td>\n      <td>4</td>\n    </tr>\n    <tr>\n      <th>84876</th>\n      <td>8.300</td>\n      <td>5</td>\n    </tr>\n    <tr>\n      <th>170216</th>\n      <td>8.100</td>\n      <td>5</td>\n    </tr>\n    <tr>\n      <th>178900</th>\n      <td>8.050</td>\n      <td>4</td>\n    </tr>\n    <tr>\n      <th>68448</th>\n      <td>7.800</td>\n      <td>5</td>\n    </tr>\n    <tr>\n      <th>201808</th>\n      <td>7.750</td>\n      <td>4</td>\n    </tr>\n  </tbody>\n</table>\n</div>"
     },
     "execution_count": 5,
     "metadata": {},
     "output_type": "execute_result"
    }
   ],
   "source": [
    "MIN_RATINGS = 3\n",
    "average_ratings[average_ratings[('Rating', 'count')] > MIN_RATINGS].head(10)"
   ],
   "metadata": {
    "collapsed": false
   }
  },
  {
   "cell_type": "markdown",
   "source": [
    "### Bias, normalization\n",
    "- some users give systematically higher ratings"
   ],
   "metadata": {
    "collapsed": false
   }
  },
  {
   "cell_type": "code",
   "execution_count": 17,
   "outputs": [
    {
     "data": {
      "text/plain": "                   Rating      \n                     mean count\nUsername                       \noldgoat3769967   6.202526  6493\nwarta            7.229550  6247\nleffe dubbel     5.952538  6047\nTomVasel         6.417876  5706\nDoel             7.508228  5226\n...                   ...   ...\nKnooks          10.000000     1\nTorias          10.000000     1\nTorian80        10.000000     1\njohndicksa      10.000000     1\nMrBagoo          8.000000     1\n\n[411374 rows x 2 columns]",
      "text/html": "<div>\n<style scoped>\n    .dataframe tbody tr th:only-of-type {\n        vertical-align: middle;\n    }\n\n    .dataframe tbody tr th {\n        vertical-align: top;\n    }\n\n    .dataframe thead tr th {\n        text-align: left;\n    }\n\n    .dataframe thead tr:last-of-type th {\n        text-align: right;\n    }\n</style>\n<table border=\"1\" class=\"dataframe\">\n  <thead>\n    <tr>\n      <th></th>\n      <th colspan=\"2\" halign=\"left\">Rating</th>\n    </tr>\n    <tr>\n      <th></th>\n      <th>mean</th>\n      <th>count</th>\n    </tr>\n    <tr>\n      <th>Username</th>\n      <th></th>\n      <th></th>\n    </tr>\n  </thead>\n  <tbody>\n    <tr>\n      <th>oldgoat3769967</th>\n      <td>6.202526</td>\n      <td>6493</td>\n    </tr>\n    <tr>\n      <th>warta</th>\n      <td>7.229550</td>\n      <td>6247</td>\n    </tr>\n    <tr>\n      <th>leffe dubbel</th>\n      <td>5.952538</td>\n      <td>6047</td>\n    </tr>\n    <tr>\n      <th>TomVasel</th>\n      <td>6.417876</td>\n      <td>5706</td>\n    </tr>\n    <tr>\n      <th>Doel</th>\n      <td>7.508228</td>\n      <td>5226</td>\n    </tr>\n    <tr>\n      <th>...</th>\n      <td>...</td>\n      <td>...</td>\n    </tr>\n    <tr>\n      <th>Knooks</th>\n      <td>10.000000</td>\n      <td>1</td>\n    </tr>\n    <tr>\n      <th>Torias</th>\n      <td>10.000000</td>\n      <td>1</td>\n    </tr>\n    <tr>\n      <th>Torian80</th>\n      <td>10.000000</td>\n      <td>1</td>\n    </tr>\n    <tr>\n      <th>johndicksa</th>\n      <td>10.000000</td>\n      <td>1</td>\n    </tr>\n    <tr>\n      <th>MrBagoo</th>\n      <td>8.000000</td>\n      <td>1</td>\n    </tr>\n  </tbody>\n</table>\n<p>411374 rows × 2 columns</p>\n</div>"
     },
     "execution_count": 17,
     "metadata": {},
     "output_type": "execute_result"
    }
   ],
   "source": [
    "user_means = full_df[['Rating', 'Username']].groupby(['Username']).agg(['mean', 'count']).sort_values(by=('Rating', 'count'), ascending=False)\n",
    "user_means"
   ],
   "metadata": {
    "collapsed": false
   }
  },
  {
   "cell_type": "code",
   "execution_count": 32,
   "outputs": [
    {
     "data": {
      "text/plain": "           BGGId  Rating           Username  UnbiasedRating\n16597337   17709     2.0  kerbythepurplecow       -3.967290\n15421575  155693     2.0             Asgren       -5.226042\n16051321   40531     7.0              dzudz        0.209220\n16392352   22864     7.0        Gamezombiac        0.319951\n5484430       50     8.0               jaya        1.306312\n...          ...     ...                ...             ...\n9028411   164153     9.0       Treble Delta        1.642857\n5500626   144733     7.6           hisayasu       -0.027440\n17303655   11104     5.0           apekoolp       -1.413043\n11167086  192458     8.0          DuneTiger        1.298068\n4180938    12942     7.0            gazkull        0.193980\n\n[1000 rows x 4 columns]",
      "text/html": "<div>\n<style scoped>\n    .dataframe tbody tr th:only-of-type {\n        vertical-align: middle;\n    }\n\n    .dataframe tbody tr th {\n        vertical-align: top;\n    }\n\n    .dataframe thead th {\n        text-align: right;\n    }\n</style>\n<table border=\"1\" class=\"dataframe\">\n  <thead>\n    <tr style=\"text-align: right;\">\n      <th></th>\n      <th>BGGId</th>\n      <th>Rating</th>\n      <th>Username</th>\n      <th>UnbiasedRating</th>\n    </tr>\n  </thead>\n  <tbody>\n    <tr>\n      <th>16597337</th>\n      <td>17709</td>\n      <td>2.0</td>\n      <td>kerbythepurplecow</td>\n      <td>-3.967290</td>\n    </tr>\n    <tr>\n      <th>15421575</th>\n      <td>155693</td>\n      <td>2.0</td>\n      <td>Asgren</td>\n      <td>-5.226042</td>\n    </tr>\n    <tr>\n      <th>16051321</th>\n      <td>40531</td>\n      <td>7.0</td>\n      <td>dzudz</td>\n      <td>0.209220</td>\n    </tr>\n    <tr>\n      <th>16392352</th>\n      <td>22864</td>\n      <td>7.0</td>\n      <td>Gamezombiac</td>\n      <td>0.319951</td>\n    </tr>\n    <tr>\n      <th>5484430</th>\n      <td>50</td>\n      <td>8.0</td>\n      <td>jaya</td>\n      <td>1.306312</td>\n    </tr>\n    <tr>\n      <th>...</th>\n      <td>...</td>\n      <td>...</td>\n      <td>...</td>\n      <td>...</td>\n    </tr>\n    <tr>\n      <th>9028411</th>\n      <td>164153</td>\n      <td>9.0</td>\n      <td>Treble Delta</td>\n      <td>1.642857</td>\n    </tr>\n    <tr>\n      <th>5500626</th>\n      <td>144733</td>\n      <td>7.6</td>\n      <td>hisayasu</td>\n      <td>-0.027440</td>\n    </tr>\n    <tr>\n      <th>17303655</th>\n      <td>11104</td>\n      <td>5.0</td>\n      <td>apekoolp</td>\n      <td>-1.413043</td>\n    </tr>\n    <tr>\n      <th>11167086</th>\n      <td>192458</td>\n      <td>8.0</td>\n      <td>DuneTiger</td>\n      <td>1.298068</td>\n    </tr>\n    <tr>\n      <th>4180938</th>\n      <td>12942</td>\n      <td>7.0</td>\n      <td>gazkull</td>\n      <td>0.193980</td>\n    </tr>\n  </tbody>\n</table>\n<p>1000 rows × 4 columns</p>\n</div>"
     },
     "execution_count": 32,
     "metadata": {},
     "output_type": "execute_result"
    }
   ],
   "source": [
    "small_df['UnbiasedRating'] = small_df['Rating'] - user_means.loc[small_df['Username']]['Rating']['mean'].values\n",
    "small_df"
   ],
   "metadata": {
    "collapsed": false
   }
  },
  {
   "cell_type": "code",
   "execution_count": 36,
   "outputs": [
    {
     "data": {
      "text/plain": "       UnbiasedRating      \n                 mean count\nBGGId                      \n2651         1.701470     4\n170216       1.305632     5\n68448        1.016412     5\n169786       0.987679     4\n96848        0.906681     4\n237182       0.772956     4\n133473       0.752472     4\n84876        0.663215     5\n201808       0.608244     4\n178900       0.467520     4",
      "text/html": "<div>\n<style scoped>\n    .dataframe tbody tr th:only-of-type {\n        vertical-align: middle;\n    }\n\n    .dataframe tbody tr th {\n        vertical-align: top;\n    }\n\n    .dataframe thead tr th {\n        text-align: left;\n    }\n\n    .dataframe thead tr:last-of-type th {\n        text-align: right;\n    }\n</style>\n<table border=\"1\" class=\"dataframe\">\n  <thead>\n    <tr>\n      <th></th>\n      <th colspan=\"2\" halign=\"left\">UnbiasedRating</th>\n    </tr>\n    <tr>\n      <th></th>\n      <th>mean</th>\n      <th>count</th>\n    </tr>\n    <tr>\n      <th>BGGId</th>\n      <th></th>\n      <th></th>\n    </tr>\n  </thead>\n  <tbody>\n    <tr>\n      <th>2651</th>\n      <td>1.701470</td>\n      <td>4</td>\n    </tr>\n    <tr>\n      <th>170216</th>\n      <td>1.305632</td>\n      <td>5</td>\n    </tr>\n    <tr>\n      <th>68448</th>\n      <td>1.016412</td>\n      <td>5</td>\n    </tr>\n    <tr>\n      <th>169786</th>\n      <td>0.987679</td>\n      <td>4</td>\n    </tr>\n    <tr>\n      <th>96848</th>\n      <td>0.906681</td>\n      <td>4</td>\n    </tr>\n    <tr>\n      <th>237182</th>\n      <td>0.772956</td>\n      <td>4</td>\n    </tr>\n    <tr>\n      <th>133473</th>\n      <td>0.752472</td>\n      <td>4</td>\n    </tr>\n    <tr>\n      <th>84876</th>\n      <td>0.663215</td>\n      <td>5</td>\n    </tr>\n    <tr>\n      <th>201808</th>\n      <td>0.608244</td>\n      <td>4</td>\n    </tr>\n    <tr>\n      <th>178900</th>\n      <td>0.467520</td>\n      <td>4</td>\n    </tr>\n  </tbody>\n</table>\n</div>"
     },
     "execution_count": 36,
     "metadata": {},
     "output_type": "execute_result"
    }
   ],
   "source": [
    "average_unbiased_ratings = small_df[['BGGId', 'UnbiasedRating']].groupby('BGGId').agg(['mean', 'count']).sort_values(by=('UnbiasedRating', 'mean'), ascending=False)\n",
    "average_unbiased_ratings[average_unbiased_ratings[('UnbiasedRating', 'count')] > MIN_RATINGS].head(10)"
   ],
   "metadata": {
    "collapsed": false
   }
  },
  {
   "cell_type": "markdown",
   "source": [
    "## Exploitation vs Exploration\n",
    "- \"pure exploitation\" – always recommend \"top items\" – what we did above\n",
    "- what if some other item is actually better, rating is poorer just due to noise?\n",
    "- \"exploration\" – presenting items to get more data\n",
    "- Multi-armed Bandit\n",
    "  - standard model for \"exploitation vs exploration\"\n",
    "  - many algorithms (e.g., \"upper confidence bounds\")\n",
    "- core idea:\n",
    "  - do not use just \"averages\"\n",
    "  - quantify uncertainty (e.g., standard deviation)\n",
    "  - systematic approach: Bayesian statistics\n",
    "  - pragmatic approach: U(n) ∼ 1/n, roulette wheel selection\n"
   ],
   "metadata": {
    "collapsed": false
   }
  },
  {
   "cell_type": "code",
   "execution_count": null,
   "outputs": [],
   "source": [],
   "metadata": {
    "collapsed": false
   }
  }
 ],
 "metadata": {
  "kernelspec": {
   "display_name": "Python 3",
   "language": "python",
   "name": "python3"
  },
  "language_info": {
   "codemirror_mode": {
    "name": "ipython",
    "version": 2
   },
   "file_extension": ".py",
   "mimetype": "text/x-python",
   "name": "python",
   "nbconvert_exporter": "python",
   "pygments_lexer": "ipython2",
   "version": "2.7.6"
  }
 },
 "nbformat": 4,
 "nbformat_minor": 0
}
