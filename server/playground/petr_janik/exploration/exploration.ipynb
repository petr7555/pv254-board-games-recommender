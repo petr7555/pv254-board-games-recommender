{
 "cells": [
  {
   "cell_type": "code",
   "execution_count": 3,
   "metadata": {
    "collapsed": true
   },
   "outputs": [
    {
     "data": {
      "text/plain": "(18942215, 3)"
     },
     "metadata": {},
     "output_type": "display_data"
    },
    {
     "data": {
      "text/plain": "    BGGId  Rating     Username\n0  213788     8.0    Tonydorrf\n1  213788     8.0   tachyon14k\n2  213788     8.0     Ungotter\n3  213788     8.0  brainlocki3\n4  213788     8.0         PPMP",
      "text/html": "<div>\n<style scoped>\n    .dataframe tbody tr th:only-of-type {\n        vertical-align: middle;\n    }\n\n    .dataframe tbody tr th {\n        vertical-align: top;\n    }\n\n    .dataframe thead th {\n        text-align: right;\n    }\n</style>\n<table border=\"1\" class=\"dataframe\">\n  <thead>\n    <tr style=\"text-align: right;\">\n      <th></th>\n      <th>BGGId</th>\n      <th>Rating</th>\n      <th>Username</th>\n    </tr>\n  </thead>\n  <tbody>\n    <tr>\n      <th>0</th>\n      <td>213788</td>\n      <td>8.0</td>\n      <td>Tonydorrf</td>\n    </tr>\n    <tr>\n      <th>1</th>\n      <td>213788</td>\n      <td>8.0</td>\n      <td>tachyon14k</td>\n    </tr>\n    <tr>\n      <th>2</th>\n      <td>213788</td>\n      <td>8.0</td>\n      <td>Ungotter</td>\n    </tr>\n    <tr>\n      <th>3</th>\n      <td>213788</td>\n      <td>8.0</td>\n      <td>brainlocki3</td>\n    </tr>\n    <tr>\n      <th>4</th>\n      <td>213788</td>\n      <td>8.0</td>\n      <td>PPMP</td>\n    </tr>\n  </tbody>\n</table>\n</div>"
     },
     "execution_count": 3,
     "metadata": {},
     "output_type": "execute_result"
    }
   ],
   "source": [
    "import pandas as pd\n",
    "\n",
    "from app.utils.universal_path import universal_path\n",
    "\n",
    "data_path = universal_path('../../../data/user_ratings.csv')\n",
    "full_df = pd.read_csv(data_path)\n",
    "\n",
    "display(full_df.shape)\n",
    "full_df.head()"
   ]
  },
  {
   "cell_type": "markdown",
   "source": [
    "# Has any user rated the same game more than once?\n",
    "  - i.e. is combination BGGId and Username unique?"
   ],
   "metadata": {
    "collapsed": false
   }
  },
  {
   "cell_type": "code",
   "execution_count": 38,
   "outputs": [
    {
     "data": {
      "text/plain": "10"
     },
     "execution_count": 38,
     "metadata": {},
     "output_type": "execute_result"
    }
   ],
   "source": [
    "full_df.groupby(['Username', 'BGGId']).size().max()"
   ],
   "metadata": {
    "collapsed": false
   }
  },
  {
   "cell_type": "markdown",
   "source": [
    "No. Let's see those offending rows:"
   ],
   "metadata": {
    "collapsed": false
   }
  },
  {
   "cell_type": "code",
   "execution_count": 39,
   "outputs": [
    {
     "data": {
      "text/plain": "           BGGId  Rating   Username\n15423007   56933     3.0   -Johnny-\n15772709   56933     5.0   -Johnny-\n2242749   131357     6.0   -Johnny-\n3885140   131357     7.0   -Johnny-\n10096134   16747     7.0     -mIDE-\n...          ...     ...        ...\n3331337   128882     7.0    zzzoren\n6472730    28720     9.0  zzzxxxyyy\n9424644    28720     9.5  zzzxxxyyy\n2872770    37111     7.2  zzzxxxyyy\n2910081    37111     7.5  zzzxxxyyy\n\n[64120 rows x 3 columns]",
      "text/html": "<div>\n<style scoped>\n    .dataframe tbody tr th:only-of-type {\n        vertical-align: middle;\n    }\n\n    .dataframe tbody tr th {\n        vertical-align: top;\n    }\n\n    .dataframe thead th {\n        text-align: right;\n    }\n</style>\n<table border=\"1\" class=\"dataframe\">\n  <thead>\n    <tr style=\"text-align: right;\">\n      <th></th>\n      <th>BGGId</th>\n      <th>Rating</th>\n      <th>Username</th>\n    </tr>\n  </thead>\n  <tbody>\n    <tr>\n      <th>15423007</th>\n      <td>56933</td>\n      <td>3.0</td>\n      <td>-Johnny-</td>\n    </tr>\n    <tr>\n      <th>15772709</th>\n      <td>56933</td>\n      <td>5.0</td>\n      <td>-Johnny-</td>\n    </tr>\n    <tr>\n      <th>2242749</th>\n      <td>131357</td>\n      <td>6.0</td>\n      <td>-Johnny-</td>\n    </tr>\n    <tr>\n      <th>3885140</th>\n      <td>131357</td>\n      <td>7.0</td>\n      <td>-Johnny-</td>\n    </tr>\n    <tr>\n      <th>10096134</th>\n      <td>16747</td>\n      <td>7.0</td>\n      <td>-mIDE-</td>\n    </tr>\n    <tr>\n      <th>...</th>\n      <td>...</td>\n      <td>...</td>\n      <td>...</td>\n    </tr>\n    <tr>\n      <th>3331337</th>\n      <td>128882</td>\n      <td>7.0</td>\n      <td>zzzoren</td>\n    </tr>\n    <tr>\n      <th>6472730</th>\n      <td>28720</td>\n      <td>9.0</td>\n      <td>zzzxxxyyy</td>\n    </tr>\n    <tr>\n      <th>9424644</th>\n      <td>28720</td>\n      <td>9.5</td>\n      <td>zzzxxxyyy</td>\n    </tr>\n    <tr>\n      <th>2872770</th>\n      <td>37111</td>\n      <td>7.2</td>\n      <td>zzzxxxyyy</td>\n    </tr>\n    <tr>\n      <th>2910081</th>\n      <td>37111</td>\n      <td>7.5</td>\n      <td>zzzxxxyyy</td>\n    </tr>\n  </tbody>\n</table>\n<p>64120 rows × 3 columns</p>\n</div>"
     },
     "execution_count": 39,
     "metadata": {},
     "output_type": "execute_result"
    }
   ],
   "source": [
    "full_df[full_df.duplicated(['Username', 'BGGId'], keep=False)].sort_values(['Username', 'BGGId'])"
   ],
   "metadata": {
    "collapsed": false
   }
  },
  {
   "cell_type": "markdown",
   "source": [
    "We should keep only the latest rating for each user/game combination."
   ],
   "metadata": {
    "collapsed": false
   }
  },
  {
   "cell_type": "code",
   "execution_count": 40,
   "outputs": [],
   "source": [
    "full_df = full_df.drop_duplicates(['Username', 'BGGId'], keep='last')"
   ],
   "metadata": {
    "collapsed": false
   }
  },
  {
   "cell_type": "code",
   "execution_count": 41,
   "outputs": [
    {
     "data": {
      "text/plain": "Empty DataFrame\nColumns: [BGGId, Rating, Username]\nIndex: []",
      "text/html": "<div>\n<style scoped>\n    .dataframe tbody tr th:only-of-type {\n        vertical-align: middle;\n    }\n\n    .dataframe tbody tr th {\n        vertical-align: top;\n    }\n\n    .dataframe thead th {\n        text-align: right;\n    }\n</style>\n<table border=\"1\" class=\"dataframe\">\n  <thead>\n    <tr style=\"text-align: right;\">\n      <th></th>\n      <th>BGGId</th>\n      <th>Rating</th>\n      <th>Username</th>\n    </tr>\n  </thead>\n  <tbody>\n  </tbody>\n</table>\n</div>"
     },
     "execution_count": 41,
     "metadata": {},
     "output_type": "execute_result"
    }
   ],
   "source": [
    "full_df[full_df.duplicated(['Username', 'BGGId'], keep=False)].sort_values(['Username', 'BGGId'])"
   ],
   "metadata": {
    "collapsed": false
   }
  },
  {
   "cell_type": "code",
   "execution_count": 42,
   "outputs": [
    {
     "data": {
      "text/plain": "          BGGId  Rating  Username\n15772709  56933     5.0  -Johnny-",
      "text/html": "<div>\n<style scoped>\n    .dataframe tbody tr th:only-of-type {\n        vertical-align: middle;\n    }\n\n    .dataframe tbody tr th {\n        vertical-align: top;\n    }\n\n    .dataframe thead th {\n        text-align: right;\n    }\n</style>\n<table border=\"1\" class=\"dataframe\">\n  <thead>\n    <tr style=\"text-align: right;\">\n      <th></th>\n      <th>BGGId</th>\n      <th>Rating</th>\n      <th>Username</th>\n    </tr>\n  </thead>\n  <tbody>\n    <tr>\n      <th>15772709</th>\n      <td>56933</td>\n      <td>5.0</td>\n      <td>-Johnny-</td>\n    </tr>\n  </tbody>\n</table>\n</div>"
     },
     "execution_count": 42,
     "metadata": {},
     "output_type": "execute_result"
    }
   ],
   "source": [
    "full_df[(full_df['Username'] == '-Johnny-') & (full_df['BGGId'] == 56933)]"
   ],
   "metadata": {
    "collapsed": false
   }
  },
  {
   "cell_type": "markdown",
   "source": [
    "Perfect!\n"
   ],
   "metadata": {
    "collapsed": false
   }
  },
  {
   "cell_type": "code",
   "execution_count": null,
   "outputs": [],
   "source": [],
   "metadata": {
    "collapsed": false
   }
  }
 ],
 "metadata": {
  "kernelspec": {
   "display_name": "Python 3",
   "language": "python",
   "name": "python3"
  },
  "language_info": {
   "codemirror_mode": {
    "name": "ipython",
    "version": 2
   },
   "file_extension": ".py",
   "mimetype": "text/x-python",
   "name": "python",
   "nbconvert_exporter": "python",
   "pygments_lexer": "ipython2",
   "version": "2.7.6"
  }
 },
 "nbformat": 4,
 "nbformat_minor": 0
}
