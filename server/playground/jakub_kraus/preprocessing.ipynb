{
 "cells": [
  {
   "cell_type": "code",
   "execution_count": 1,
   "outputs": [],
   "source": [
    "import os\n",
    "from app.utils.universal_path import universal_path\n",
    "\n",
    "data_dir = universal_path('../../data')\n",
    "output_dir = universal_path('../../data/cleaned')"
   ],
   "metadata": {
    "collapsed": false,
    "ExecuteTime": {
     "end_time": "2023-06-04T19:06:12.927835Z",
     "start_time": "2023-06-04T19:06:12.919217Z"
    }
   }
  },
  {
   "cell_type": "code",
   "execution_count": 2,
   "id": "55d93103",
   "metadata": {
    "ExecuteTime": {
     "end_time": "2023-06-04T19:06:23.297198Z",
     "start_time": "2023-06-04T19:06:12.929618Z"
    }
   },
   "outputs": [
    {
     "data": {
      "text/plain": "           BGGId  Rating       Username\n0         213788     8.0      Tonydorrf\n1         213788     8.0     tachyon14k\n2         213788     8.0       Ungotter\n3         213788     8.0    brainlocki3\n4         213788     8.0           PPMP\n...          ...     ...            ...\n18942210  165521     3.0        rseater\n18942211  165521     3.0      Bluefox86\n18942212  165521     3.0     serginator\n18942213  193488     1.0  CaptainCattan\n18942214  193488     1.0      trodat123\n\n[18942215 rows x 3 columns]",
      "text/html": "<div>\n<style scoped>\n    .dataframe tbody tr th:only-of-type {\n        vertical-align: middle;\n    }\n\n    .dataframe tbody tr th {\n        vertical-align: top;\n    }\n\n    .dataframe thead th {\n        text-align: right;\n    }\n</style>\n<table border=\"1\" class=\"dataframe\">\n  <thead>\n    <tr style=\"text-align: right;\">\n      <th></th>\n      <th>BGGId</th>\n      <th>Rating</th>\n      <th>Username</th>\n    </tr>\n  </thead>\n  <tbody>\n    <tr>\n      <th>0</th>\n      <td>213788</td>\n      <td>8.0</td>\n      <td>Tonydorrf</td>\n    </tr>\n    <tr>\n      <th>1</th>\n      <td>213788</td>\n      <td>8.0</td>\n      <td>tachyon14k</td>\n    </tr>\n    <tr>\n      <th>2</th>\n      <td>213788</td>\n      <td>8.0</td>\n      <td>Ungotter</td>\n    </tr>\n    <tr>\n      <th>3</th>\n      <td>213788</td>\n      <td>8.0</td>\n      <td>brainlocki3</td>\n    </tr>\n    <tr>\n      <th>4</th>\n      <td>213788</td>\n      <td>8.0</td>\n      <td>PPMP</td>\n    </tr>\n    <tr>\n      <th>...</th>\n      <td>...</td>\n      <td>...</td>\n      <td>...</td>\n    </tr>\n    <tr>\n      <th>18942210</th>\n      <td>165521</td>\n      <td>3.0</td>\n      <td>rseater</td>\n    </tr>\n    <tr>\n      <th>18942211</th>\n      <td>165521</td>\n      <td>3.0</td>\n      <td>Bluefox86</td>\n    </tr>\n    <tr>\n      <th>18942212</th>\n      <td>165521</td>\n      <td>3.0</td>\n      <td>serginator</td>\n    </tr>\n    <tr>\n      <th>18942213</th>\n      <td>193488</td>\n      <td>1.0</td>\n      <td>CaptainCattan</td>\n    </tr>\n    <tr>\n      <th>18942214</th>\n      <td>193488</td>\n      <td>1.0</td>\n      <td>trodat123</td>\n    </tr>\n  </tbody>\n</table>\n<p>18942215 rows × 3 columns</p>\n</div>"
     },
     "execution_count": 2,
     "metadata": {},
     "output_type": "execute_result"
    }
   ],
   "source": [
    "import pandas as pd\n",
    "\n",
    "user_ratings = pd.read_csv(os.path.join(data_dir, 'user_ratings.csv'))\n",
    "user_ratings"
   ]
  },
  {
   "cell_type": "code",
   "execution_count": 3,
   "outputs": [
    {
     "name": "stdout",
     "output_type": "stream",
     "text": [
      "Number of user ratings: 18942215\n"
     ]
    }
   ],
   "source": [
    "print(f'Number of user ratings: {len(user_ratings)}')"
   ],
   "metadata": {
    "collapsed": false,
    "ExecuteTime": {
     "end_time": "2023-06-04T19:06:23.304836Z",
     "start_time": "2023-06-04T19:06:23.298332Z"
    }
   }
  },
  {
   "cell_type": "code",
   "execution_count": 4,
   "outputs": [
    {
     "name": "stdout",
     "output_type": "stream",
     "text": [
      "Number of user ratings after deleting NaNs: 18942152\n"
     ]
    },
    {
     "name": "stderr",
     "output_type": "stream",
     "text": [
      "/var/folders/ng/z4dw_m9d1bz6m08vw7nlwwwh0000gq/T/ipykernel_37037/3763594792.py:6: SettingWithCopyWarning: \n",
      "A value is trying to be set on a copy of a slice from a DataFrame.\n",
      "Try using .loc[row_indexer,col_indexer] = value instead\n",
      "\n",
      "See the caveats in the documentation: https://pandas.pydata.org/pandas-docs/stable/user_guide/indexing.html#returning-a-view-versus-a-copy\n",
      "  user_ratings['Username'] = user_ratings['Username'].astype('str')\n"
     ]
    },
    {
     "name": "stdout",
     "output_type": "stream",
     "text": [
      "Number of user ratings after deleting duplicates: 18909465 (32687 deleted (0.17%))\n"
     ]
    }
   ],
   "source": [
    "# remove NaNs\n",
    "user_ratings = user_ratings.dropna(subset=['Username'])\n",
    "num_user_ratings = len(user_ratings)\n",
    "print(f'Number of user ratings after deleting NaNs: {num_user_ratings}')\n",
    "\n",
    "user_ratings['Username'] = user_ratings['Username'].astype('str')\n",
    "\n",
    "# remove duplicate ratings of a game by the same user - keep only the latest occurrence\n",
    "user_ratings = user_ratings.drop_duplicates(subset=['Username', 'BGGId'], keep='last')\n",
    "\n",
    "num_user_ratings_after_deleting_duplicates = len(user_ratings)\n",
    "num_deleted = num_user_ratings - num_user_ratings_after_deleting_duplicates\n",
    "deleted_percent = num_deleted / num_user_ratings * 100\n",
    "print(f'Number of user ratings after deleting duplicates: {num_user_ratings_after_deleting_duplicates} ({num_deleted} deleted ({deleted_percent:.2f}%))')"
   ],
   "metadata": {
    "collapsed": false,
    "ExecuteTime": {
     "end_time": "2023-06-04T19:06:36.696679Z",
     "start_time": "2023-06-04T19:06:23.605544Z"
    }
   }
  },
  {
   "cell_type": "code",
   "execution_count": 5,
   "outputs": [
    {
     "name": "stdout",
     "output_type": "stream",
     "text": [
      "Iteration 1\n",
      "\tNumber of user ratings: 18909465\n",
      "\tNumber of users who rated less than 10 games: 186817\n",
      "\tNumber of user ratings after deleting users with low number of ratings: 18340273\n",
      "\tNumber of user ratings deleted: 569192\n",
      "\tNumber of games with less than 10 ratings: 6\n",
      "\tNumber of user ratings after deleting games with low number of ratings: 18340230\n",
      "\tNumber of user ratings deleted: 43\n",
      "Iteration 2\n",
      "\tNumber of user ratings: 18340230\n",
      "\tNumber of users who rated less than 10 games: 1\n",
      "\tNumber of user ratings after deleting users with low number of ratings: 18340221\n",
      "\tNumber of user ratings deleted: 9\n",
      "\tNumber of games with less than 10 ratings: 0\n",
      "\tNumber of user ratings after deleting games with low number of ratings: 18340221\n",
      "\tNumber of user ratings deleted: 0\n"
     ]
    }
   ],
   "source": [
    "# inspect the low occurrence of user ratings\n",
    "\n",
    "threshold = 10\n",
    "iterations = 2\n",
    "\n",
    "for i in range(iterations):\n",
    "    print(f'Iteration {i+1}')\n",
    "    \n",
    "    num_user_ratings_before = len(user_ratings)\n",
    "    print(f'\\tNumber of user ratings: {num_user_ratings_before}')\n",
    "\n",
    "    num_ratings_per_user = user_ratings['Username'].value_counts()\n",
    "    users_to_delete = num_ratings_per_user[num_ratings_per_user < threshold].index\n",
    "    print(f'\\tNumber of users who rated less than {threshold} games: {len(users_to_delete)}')\n",
    "    \n",
    "    user_ratings = user_ratings[~user_ratings['Username'].isin(users_to_delete)]\n",
    "    num_user_ratings_after_deleting_users = len(user_ratings)\n",
    "    print(f'\\tNumber of user ratings after deleting users with low number of ratings: {num_user_ratings_after_deleting_users}')\n",
    "    print(f'\\tNumber of user ratings deleted: {num_user_ratings_before - num_user_ratings_after_deleting_users}')\n",
    "\n",
    "    num_ratings_per_game = user_ratings['BGGId'].value_counts()\n",
    "    games_to_delete = num_ratings_per_game[num_ratings_per_game < threshold].index\n",
    "    print(f'\\tNumber of games with less than {threshold} ratings: {len(games_to_delete)}')\n",
    "    \n",
    "    user_ratings = user_ratings[~user_ratings['BGGId'].isin(games_to_delete)]\n",
    "    num_user_ratings_after_deleting_games = len(user_ratings)\n",
    "    print(f'\\tNumber of user ratings after deleting games with low number of ratings: {num_user_ratings_after_deleting_games}')\n",
    "    print(f'\\tNumber of user ratings deleted: {num_user_ratings_after_deleting_users - num_user_ratings_after_deleting_games}')"
   ],
   "metadata": {
    "collapsed": false,
    "ExecuteTime": {
     "end_time": "2023-06-04T19:06:59.357778Z",
     "start_time": "2023-06-04T19:06:42.657435Z"
    }
   }
  },
  {
   "cell_type": "code",
   "execution_count": 6,
   "id": "d72e5a85",
   "metadata": {
    "ExecuteTime": {
     "end_time": "2023-06-04T19:07:35.521507Z",
     "start_time": "2023-06-04T19:06:59.358716Z"
    }
   },
   "outputs": [],
   "source": [
    "# save the result - preprocessing complete\n",
    "user_ratings.to_csv(os.path.join(output_dir, 'user_ratings.csv'), index=False)"
   ]
  },
  {
   "cell_type": "code",
   "execution_count": 7,
   "id": "0f697434",
   "metadata": {
    "ExecuteTime": {
     "end_time": "2023-06-04T19:08:07.884741Z",
     "start_time": "2023-06-04T19:07:35.524201Z"
    }
   },
   "outputs": [
    {
     "name": "stdout",
     "output_type": "stream",
     "text": [
      "Number of entries deleted from publishers_reduced.csv: 6\n",
      "Number of entries deleted from mechanics.csv: 6\n",
      "Number of entries deleted from artists_reduced.csv: 6\n",
      "Number of entries deleted from ratings_distribution.csv: 6\n",
      "Number of entries deleted from games.csv: 6\n",
      "Number of entries deleted from designers_reduced.csv: 6\n",
      "Number of entries deleted from themes.csv: 6\n",
      "Number of entries deleted from subcategories.csv: 6\n"
     ]
    }
   ],
   "source": [
    "# filter deleted games away from all others files of dataset\n",
    "\n",
    "for filename in os.listdir(data_dir):\n",
    "    if filename.endswith('.csv') and filename != 'user_ratings.csv':\n",
    "        df = pd.read_csv(os.path.join(data_dir, filename))\n",
    "        orig_len = len(df)\n",
    "        df = df[df['BGGId'].isin(user_ratings['BGGId'])]\n",
    "        print(f'Number of entries deleted from {filename}: {orig_len - len(df)}')\n",
    "        df.to_csv(os.path.join(output_dir, filename), index=False)\n"
   ]
  },
  {
   "cell_type": "code",
   "execution_count": 7,
   "outputs": [],
   "source": [],
   "metadata": {
    "collapsed": false,
    "ExecuteTime": {
     "end_time": "2023-06-04T19:08:07.888724Z",
     "start_time": "2023-06-04T19:08:07.885506Z"
    }
   }
  }
 ],
 "metadata": {
  "kernelspec": {
   "display_name": "Python 3 (ipykernel)",
   "language": "python",
   "name": "python3"
  },
  "language_info": {
   "codemirror_mode": {
    "name": "ipython",
    "version": 3
   },
   "file_extension": ".py",
   "mimetype": "text/x-python",
   "name": "python",
   "nbconvert_exporter": "python",
   "pygments_lexer": "ipython3",
   "version": "3.9.13"
  }
 },
 "nbformat": 4,
 "nbformat_minor": 5
}
